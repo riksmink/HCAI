{
 "cells": [
  {
   "cell_type": "markdown",
   "id": "ee2a2bb3",
   "metadata": {},
   "source": [
    "# Inflation data from the Netherlands from 2000 till august 2022 (2015 = 100)"
   ]
  },
  {
   "cell_type": "raw",
   "id": "1717ef15",
   "metadata": {},
   "source": [
    "Inflation is a general rise in the prices of goods and services. Deflation, on the other hand, is a general fall in prices. In the case of inflation, this means that money becomes worth less. So this results in reduced purchasing power. In euro countries, inflation is measured in the same way. This means that these countries can also be compared. An inflation rate of 2 per cent is aimed for in these countries. This is because this means healthy growth in the economy (European Central Bank, w.d.). "
   ]
  },
  {
   "cell_type": "markdown",
   "id": "2c496162",
   "metadata": {},
   "source": [
    "#### Import packages"
   ]
  },
  {
   "cell_type": "code",
   "execution_count": 1,
   "id": "990a2c81",
   "metadata": {},
   "outputs": [],
   "source": [
    "import pandas as pd\n",
    "import numpy as np\n",
    "\n",
    "import matplotlib.pyplot as plt\n",
    "%matplotlib inline"
   ]
  },
  {
   "cell_type": "markdown",
   "id": "29405454",
   "metadata": {},
   "source": [
    "#### Import and form the data"
   ]
  },
  {
   "cell_type": "markdown",
   "id": "c5311948",
   "metadata": {},
   "source": [
    "Not all data were complete, so two datasets were combined. The datasets are from: \"https://opendata.cbs.nl/statline#/CBS/nl/dataset/83131NED/table?ts=1663833819269\"  "
   ]
  },
  {
   "cell_type": "code",
   "execution_count": 2,
   "id": "d068ee03",
   "metadata": {},
   "outputs": [],
   "source": [
    "# Import the datasets en combine them\n",
    "inflation_Netherlands = pd.read_excel(\"CPI_prijsindex_jaarmaand.xlsx\", index_col = 0)\n",
    "inflation_Netherlands.insert(10, \"CPI_energiejaarlijks\", pd.read_excel(\"CPI_energie(afgeleid).xlsx\"))"
   ]
  },
  {
   "cell_type": "code",
   "execution_count": 3,
   "id": "4913a787",
   "metadata": {},
   "outputs": [],
   "source": [
    "# Make an extra column (energycosumption - 100)\n",
    "inflation_Netherlands['CPI_energie-100'] = inflation_Netherlands.apply(lambda column: column.CPI_energie - 100, axis=1)"
   ]
  },
  {
   "cell_type": "code",
   "execution_count": 4,
   "id": "a18f398f",
   "metadata": {},
   "outputs": [],
   "source": [
    "# Columns on different places \n",
    "inflation_Netherlands = inflation_Netherlands[['Jaar', 'Maand', 'CPI_energie', 'CPI_energie-100', 'CPI(afgeleid)_energie ', 'CPI_algemeen',\n",
    " 'CPI(algemeen)_afgeleid', 'CPI_elektriciteit',\n",
    " 'CPI(elektriciteit)_afgeleid', 'CPI_gas', 'CPI(gas)_afgeleid', 'CPI_energiejaarlijks']]"
   ]
  },
  {
   "cell_type": "code",
   "execution_count": 5,
   "id": "05f0f2b6",
   "metadata": {},
   "outputs": [
    {
     "data": {
      "text/html": [
       "<div>\n",
       "<style scoped>\n",
       "    .dataframe tbody tr th:only-of-type {\n",
       "        vertical-align: middle;\n",
       "    }\n",
       "\n",
       "    .dataframe tbody tr th {\n",
       "        vertical-align: top;\n",
       "    }\n",
       "\n",
       "    .dataframe thead th {\n",
       "        text-align: right;\n",
       "    }\n",
       "</style>\n",
       "<table border=\"1\" class=\"dataframe\">\n",
       "  <thead>\n",
       "    <tr style=\"text-align: right;\">\n",
       "      <th></th>\n",
       "      <th>Jaar</th>\n",
       "      <th>Maand</th>\n",
       "      <th>CPI_energie</th>\n",
       "      <th>CPI_energie-100</th>\n",
       "      <th>CPI(afgeleid)_energie</th>\n",
       "      <th>CPI_algemeen</th>\n",
       "      <th>CPI(algemeen)_afgeleid</th>\n",
       "      <th>CPI_elektriciteit</th>\n",
       "      <th>CPI(elektriciteit)_afgeleid</th>\n",
       "      <th>CPI_gas</th>\n",
       "      <th>CPI(gas)_afgeleid</th>\n",
       "      <th>CPI_energiejaarlijks</th>\n",
       "    </tr>\n",
       "    <tr>\n",
       "      <th>Perioden</th>\n",
       "      <th></th>\n",
       "      <th></th>\n",
       "      <th></th>\n",
       "      <th></th>\n",
       "      <th></th>\n",
       "      <th></th>\n",
       "      <th></th>\n",
       "      <th></th>\n",
       "      <th></th>\n",
       "      <th></th>\n",
       "      <th></th>\n",
       "      <th></th>\n",
       "    </tr>\n",
       "  </thead>\n",
       "  <tbody>\n",
       "    <tr>\n",
       "      <th>2022 april</th>\n",
       "      <td>2022</td>\n",
       "      <td>april</td>\n",
       "      <td>255.21</td>\n",
       "      <td>155.21</td>\n",
       "      <td>273.77</td>\n",
       "      <td>119.81</td>\n",
       "      <td>119.21</td>\n",
       "      <td>179.22</td>\n",
       "      <td>355.13</td>\n",
       "      <td>314.68</td>\n",
       "      <td>244.00</td>\n",
       "      <td>136.4</td>\n",
       "    </tr>\n",
       "    <tr>\n",
       "      <th>2022 mei</th>\n",
       "      <td>2022</td>\n",
       "      <td>mei</td>\n",
       "      <td>221.75</td>\n",
       "      <td>121.75</td>\n",
       "      <td>241.74</td>\n",
       "      <td>119.05</td>\n",
       "      <td>118.46</td>\n",
       "      <td>154.06</td>\n",
       "      <td>313.85</td>\n",
       "      <td>273.63</td>\n",
       "      <td>214.06</td>\n",
       "      <td>104.9</td>\n",
       "    </tr>\n",
       "    <tr>\n",
       "      <th>2022 juni</th>\n",
       "      <td>2022</td>\n",
       "      <td>juni</td>\n",
       "      <td>201.81</td>\n",
       "      <td>101.81</td>\n",
       "      <td>222.65</td>\n",
       "      <td>119.05</td>\n",
       "      <td>118.47</td>\n",
       "      <td>144.90</td>\n",
       "      <td>298.82</td>\n",
       "      <td>241.73</td>\n",
       "      <td>190.79</td>\n",
       "      <td>83.5</td>\n",
       "    </tr>\n",
       "    <tr>\n",
       "      <th>2022 juli</th>\n",
       "      <td>2022</td>\n",
       "      <td>juli</td>\n",
       "      <td>240.60</td>\n",
       "      <td>140.60</td>\n",
       "      <td>222.65</td>\n",
       "      <td>121.57</td>\n",
       "      <td>121.88</td>\n",
       "      <td>170.78</td>\n",
       "      <td>372.12</td>\n",
       "      <td>294.97</td>\n",
       "      <td>253.31</td>\n",
       "      <td>107.8</td>\n",
       "    </tr>\n",
       "    <tr>\n",
       "      <th>2022 augustus</th>\n",
       "      <td>2022</td>\n",
       "      <td>augustus</td>\n",
       "      <td>294.51</td>\n",
       "      <td>194.51</td>\n",
       "      <td>342.43</td>\n",
       "      <td>123.95</td>\n",
       "      <td>124.45</td>\n",
       "      <td>198.90</td>\n",
       "      <td>423.33</td>\n",
       "      <td>376.92</td>\n",
       "      <td>319.67</td>\n",
       "      <td>151.4</td>\n",
       "    </tr>\n",
       "  </tbody>\n",
       "</table>\n",
       "</div>"
      ],
      "text/plain": [
       "               Jaar     Maand  CPI_energie  CPI_energie-100  \\\n",
       "Perioden                                                      \n",
       "2022 april     2022     april       255.21           155.21   \n",
       "2022 mei       2022       mei       221.75           121.75   \n",
       "2022 juni      2022      juni       201.81           101.81   \n",
       "2022 juli      2022      juli       240.60           140.60   \n",
       "2022 augustus  2022  augustus       294.51           194.51   \n",
       "\n",
       "               CPI(afgeleid)_energie   CPI_algemeen  CPI(algemeen)_afgeleid  \\\n",
       "Perioden                                                                      \n",
       "2022 april                     273.77        119.81                  119.21   \n",
       "2022 mei                       241.74        119.05                  118.46   \n",
       "2022 juni                      222.65        119.05                  118.47   \n",
       "2022 juli                      222.65        121.57                  121.88   \n",
       "2022 augustus                  342.43        123.95                  124.45   \n",
       "\n",
       "               CPI_elektriciteit  CPI(elektriciteit)_afgeleid  CPI_gas  \\\n",
       "Perioden                                                                 \n",
       "2022 april                179.22                       355.13   314.68   \n",
       "2022 mei                  154.06                       313.85   273.63   \n",
       "2022 juni                 144.90                       298.82   241.73   \n",
       "2022 juli                 170.78                       372.12   294.97   \n",
       "2022 augustus             198.90                       423.33   376.92   \n",
       "\n",
       "               CPI(gas)_afgeleid  CPI_energiejaarlijks  \n",
       "Perioden                                                \n",
       "2022 april                244.00                 136.4  \n",
       "2022 mei                  214.06                 104.9  \n",
       "2022 juni                 190.79                  83.5  \n",
       "2022 juli                 253.31                 107.8  \n",
       "2022 augustus             319.67                 151.4  "
      ]
     },
     "execution_count": 5,
     "metadata": {},
     "output_type": "execute_result"
    }
   ],
   "source": [
    "inflation_Netherlands.tail()"
   ]
  },
  {
   "cell_type": "markdown",
   "id": "44bc1b9c",
   "metadata": {},
   "source": [
    "#### Fast look at the data"
   ]
  },
  {
   "cell_type": "markdown",
   "id": "cb8cca42",
   "metadata": {},
   "source": [
    "The main features of the dataset are CPI_energie, CPI_elektriciteit and CPI_gas. This is because these data say something about the monthly inflation of energy, electricity and gas in the Netherlands. "
   ]
  },
  {
   "cell_type": "code",
   "execution_count": 6,
   "id": "3a64eb84",
   "metadata": {},
   "outputs": [
    {
     "name": "stdout",
     "output_type": "stream",
     "text": [
      "['Jaar' 'Maand' 'CPI_energie' 'CPI_energie-100' 'CPI(afgeleid)_energie '\n",
      " 'CPI_algemeen' 'CPI(algemeen)_afgeleid' 'CPI_elektriciteit'\n",
      " 'CPI(elektriciteit)_afgeleid' 'CPI_gas' 'CPI(gas)_afgeleid'\n",
      " 'CPI_energiejaarlijks']\n"
     ]
    }
   ],
   "source": [
    "# Show columns \n",
    "print(inflation_Netherlands.columns.values)"
   ]
  },
  {
   "cell_type": "code",
   "execution_count": 7,
   "id": "2ad508f1",
   "metadata": {},
   "outputs": [
    {
     "name": "stdout",
     "output_type": "stream",
     "text": [
      "<class 'pandas.core.frame.DataFrame'>\n",
      "Index: 272 entries, 2000 januari to 2022 augustus\n",
      "Data columns (total 12 columns):\n",
      " #   Column                       Non-Null Count  Dtype  \n",
      "---  ------                       --------------  -----  \n",
      " 0   Jaar                         272 non-null    int64  \n",
      " 1   Maand                        272 non-null    object \n",
      " 2   CPI_energie                  272 non-null    float64\n",
      " 3   CPI_energie-100              272 non-null    float64\n",
      " 4   CPI(afgeleid)_energie        272 non-null    float64\n",
      " 5   CPI_algemeen                 272 non-null    float64\n",
      " 6   CPI(algemeen)_afgeleid       272 non-null    float64\n",
      " 7   CPI_elektriciteit            272 non-null    float64\n",
      " 8   CPI(elektriciteit)_afgeleid  272 non-null    float64\n",
      " 9   CPI_gas                      272 non-null    float64\n",
      " 10  CPI(gas)_afgeleid            272 non-null    float64\n",
      " 11  CPI_energiejaarlijks         272 non-null    float64\n",
      "dtypes: float64(10), int64(1), object(1)\n",
      "memory usage: 27.6+ KB\n"
     ]
    }
   ],
   "source": [
    "# Show some information about the data\n",
    "inflation_Netherlands.info()"
   ]
  },
  {
   "cell_type": "code",
   "execution_count": 8,
   "id": "74736322",
   "metadata": {},
   "outputs": [
    {
     "data": {
      "text/plain": [
       "(272, 12)"
      ]
     },
     "execution_count": 8,
     "metadata": {},
     "output_type": "execute_result"
    }
   ],
   "source": [
    "# How much columns and rows?\n",
    "inflation_Netherlands.shape"
   ]
  },
  {
   "cell_type": "code",
   "execution_count": 9,
   "id": "f01a5f05",
   "metadata": {},
   "outputs": [
    {
     "data": {
      "text/html": [
       "<div>\n",
       "<style scoped>\n",
       "    .dataframe tbody tr th:only-of-type {\n",
       "        vertical-align: middle;\n",
       "    }\n",
       "\n",
       "    .dataframe tbody tr th {\n",
       "        vertical-align: top;\n",
       "    }\n",
       "\n",
       "    .dataframe thead th {\n",
       "        text-align: right;\n",
       "    }\n",
       "</style>\n",
       "<table border=\"1\" class=\"dataframe\">\n",
       "  <thead>\n",
       "    <tr style=\"text-align: right;\">\n",
       "      <th></th>\n",
       "      <th>Jaar</th>\n",
       "      <th>Maand</th>\n",
       "      <th>CPI_energie</th>\n",
       "      <th>CPI_energie-100</th>\n",
       "      <th>CPI(afgeleid)_energie</th>\n",
       "      <th>CPI_algemeen</th>\n",
       "      <th>CPI(algemeen)_afgeleid</th>\n",
       "      <th>CPI_elektriciteit</th>\n",
       "      <th>CPI(elektriciteit)_afgeleid</th>\n",
       "      <th>CPI_gas</th>\n",
       "      <th>CPI(gas)_afgeleid</th>\n",
       "      <th>CPI_energiejaarlijks</th>\n",
       "    </tr>\n",
       "    <tr>\n",
       "      <th>Perioden</th>\n",
       "      <th></th>\n",
       "      <th></th>\n",
       "      <th></th>\n",
       "      <th></th>\n",
       "      <th></th>\n",
       "      <th></th>\n",
       "      <th></th>\n",
       "      <th></th>\n",
       "      <th></th>\n",
       "      <th></th>\n",
       "      <th></th>\n",
       "      <th></th>\n",
       "    </tr>\n",
       "  </thead>\n",
       "  <tbody>\n",
       "    <tr>\n",
       "      <th>2000 januari</th>\n",
       "      <td>2000</td>\n",
       "      <td>januari</td>\n",
       "      <td>52.22</td>\n",
       "      <td>-47.78</td>\n",
       "      <td>65.20</td>\n",
       "      <td>73.55</td>\n",
       "      <td>77.17</td>\n",
       "      <td>69.63</td>\n",
       "      <td>78.38</td>\n",
       "      <td>43.70</td>\n",
       "      <td>57.67</td>\n",
       "      <td>9.3</td>\n",
       "    </tr>\n",
       "    <tr>\n",
       "      <th>2000 februari</th>\n",
       "      <td>2000</td>\n",
       "      <td>februari</td>\n",
       "      <td>52.29</td>\n",
       "      <td>-47.71</td>\n",
       "      <td>65.28</td>\n",
       "      <td>74.00</td>\n",
       "      <td>77.64</td>\n",
       "      <td>69.84</td>\n",
       "      <td>78.62</td>\n",
       "      <td>43.69</td>\n",
       "      <td>57.66</td>\n",
       "      <td>9.4</td>\n",
       "    </tr>\n",
       "    <tr>\n",
       "      <th>2000 maart</th>\n",
       "      <td>2000</td>\n",
       "      <td>maart</td>\n",
       "      <td>52.73</td>\n",
       "      <td>-47.27</td>\n",
       "      <td>65.84</td>\n",
       "      <td>74.66</td>\n",
       "      <td>78.33</td>\n",
       "      <td>71.36</td>\n",
       "      <td>80.33</td>\n",
       "      <td>43.62</td>\n",
       "      <td>57.56</td>\n",
       "      <td>10.3</td>\n",
       "    </tr>\n",
       "    <tr>\n",
       "      <th>2000 april</th>\n",
       "      <td>2000</td>\n",
       "      <td>april</td>\n",
       "      <td>52.74</td>\n",
       "      <td>-47.26</td>\n",
       "      <td>65.85</td>\n",
       "      <td>74.78</td>\n",
       "      <td>78.46</td>\n",
       "      <td>71.38</td>\n",
       "      <td>80.35</td>\n",
       "      <td>43.62</td>\n",
       "      <td>57.56</td>\n",
       "      <td>10.7</td>\n",
       "    </tr>\n",
       "    <tr>\n",
       "      <th>2000 mei</th>\n",
       "      <td>2000</td>\n",
       "      <td>mei</td>\n",
       "      <td>52.74</td>\n",
       "      <td>-47.26</td>\n",
       "      <td>65.85</td>\n",
       "      <td>75.02</td>\n",
       "      <td>78.69</td>\n",
       "      <td>71.38</td>\n",
       "      <td>80.35</td>\n",
       "      <td>43.62</td>\n",
       "      <td>57.56</td>\n",
       "      <td>10.7</td>\n",
       "    </tr>\n",
       "  </tbody>\n",
       "</table>\n",
       "</div>"
      ],
      "text/plain": [
       "               Jaar     Maand  CPI_energie  CPI_energie-100  \\\n",
       "Perioden                                                      \n",
       "2000 januari   2000   januari        52.22           -47.78   \n",
       "2000 februari  2000  februari        52.29           -47.71   \n",
       "2000 maart     2000     maart        52.73           -47.27   \n",
       "2000 april     2000     april        52.74           -47.26   \n",
       "2000 mei       2000       mei        52.74           -47.26   \n",
       "\n",
       "               CPI(afgeleid)_energie   CPI_algemeen  CPI(algemeen)_afgeleid  \\\n",
       "Perioden                                                                      \n",
       "2000 januari                    65.20         73.55                   77.17   \n",
       "2000 februari                   65.28         74.00                   77.64   \n",
       "2000 maart                      65.84         74.66                   78.33   \n",
       "2000 april                      65.85         74.78                   78.46   \n",
       "2000 mei                        65.85         75.02                   78.69   \n",
       "\n",
       "               CPI_elektriciteit  CPI(elektriciteit)_afgeleid  CPI_gas  \\\n",
       "Perioden                                                                 \n",
       "2000 januari               69.63                        78.38    43.70   \n",
       "2000 februari              69.84                        78.62    43.69   \n",
       "2000 maart                 71.36                        80.33    43.62   \n",
       "2000 april                 71.38                        80.35    43.62   \n",
       "2000 mei                   71.38                        80.35    43.62   \n",
       "\n",
       "               CPI(gas)_afgeleid  CPI_energiejaarlijks  \n",
       "Perioden                                                \n",
       "2000 januari               57.67                   9.3  \n",
       "2000 februari              57.66                   9.4  \n",
       "2000 maart                 57.56                  10.3  \n",
       "2000 april                 57.56                  10.7  \n",
       "2000 mei                   57.56                  10.7  "
      ]
     },
     "execution_count": 9,
     "metadata": {},
     "output_type": "execute_result"
    }
   ],
   "source": [
    "# Show the head of the dataset\n",
    "inflation_Netherlands.head()"
   ]
  },
  {
   "cell_type": "markdown",
   "id": "62de7209",
   "metadata": {},
   "source": [
    "#### Mean, maximum and minimum CPI"
   ]
  },
  {
   "cell_type": "code",
   "execution_count": 10,
   "id": "00fa909a",
   "metadata": {},
   "outputs": [
    {
     "data": {
      "text/plain": [
       "-3.9078676470588314"
      ]
     },
     "execution_count": 10,
     "metadata": {},
     "output_type": "execute_result"
    }
   ],
   "source": [
    "# Calculate mean\n",
    "inflation_Netherlands['CPI_energie-100'].mean()\n",
    "\n",
    "# Conclusion: this does not say much, as the year 2015 is the average year (year 0)"
   ]
  },
  {
   "cell_type": "code",
   "execution_count": 11,
   "id": "6bc83cf3",
   "metadata": {},
   "outputs": [
    {
     "data": {
      "text/plain": [
       "194.51"
      ]
     },
     "execution_count": 11,
     "metadata": {},
     "output_type": "execute_result"
    }
   ],
   "source": [
    "# Calculate maximum CPI \n",
    "inflation_Netherlands['CPI_energie-100'].max()"
   ]
  },
  {
   "cell_type": "code",
   "execution_count": 12,
   "id": "f243cb41",
   "metadata": {},
   "outputs": [
    {
     "data": {
      "text/plain": [
       "-47.78"
      ]
     },
     "execution_count": 12,
     "metadata": {},
     "output_type": "execute_result"
    }
   ],
   "source": [
    "# Calculate minimum CPI\n",
    "inflation_Netherlands['CPI_energie-100'].min()"
   ]
  },
  {
   "cell_type": "code",
   "execution_count": 13,
   "id": "63b96173",
   "metadata": {},
   "outputs": [
    {
     "data": {
      "text/html": [
       "<div>\n",
       "<style scoped>\n",
       "    .dataframe tbody tr th:only-of-type {\n",
       "        vertical-align: middle;\n",
       "    }\n",
       "\n",
       "    .dataframe tbody tr th {\n",
       "        vertical-align: top;\n",
       "    }\n",
       "\n",
       "    .dataframe thead th {\n",
       "        text-align: right;\n",
       "    }\n",
       "</style>\n",
       "<table border=\"1\" class=\"dataframe\">\n",
       "  <thead>\n",
       "    <tr style=\"text-align: right;\">\n",
       "      <th></th>\n",
       "      <th>Jaar</th>\n",
       "      <th>CPI_energie</th>\n",
       "      <th>CPI_energie-100</th>\n",
       "      <th>CPI(afgeleid)_energie</th>\n",
       "      <th>CPI_algemeen</th>\n",
       "      <th>CPI(algemeen)_afgeleid</th>\n",
       "      <th>CPI_elektriciteit</th>\n",
       "      <th>CPI(elektriciteit)_afgeleid</th>\n",
       "      <th>CPI_gas</th>\n",
       "      <th>CPI(gas)_afgeleid</th>\n",
       "      <th>CPI_energiejaarlijks</th>\n",
       "    </tr>\n",
       "  </thead>\n",
       "  <tbody>\n",
       "    <tr>\n",
       "      <th>count</th>\n",
       "      <td>272.000000</td>\n",
       "      <td>272.000000</td>\n",
       "      <td>272.000000</td>\n",
       "      <td>272.000000</td>\n",
       "      <td>272.000000</td>\n",
       "      <td>272.000000</td>\n",
       "      <td>272.000000</td>\n",
       "      <td>272.000000</td>\n",
       "      <td>272.000000</td>\n",
       "      <td>272.000000</td>\n",
       "      <td>272.000000</td>\n",
       "    </tr>\n",
       "    <tr>\n",
       "      <th>mean</th>\n",
       "      <td>2010.841912</td>\n",
       "      <td>96.092132</td>\n",
       "      <td>-3.907868</td>\n",
       "      <td>100.757904</td>\n",
       "      <td>93.780956</td>\n",
       "      <td>95.043676</td>\n",
       "      <td>94.579596</td>\n",
       "      <td>107.494596</td>\n",
       "      <td>98.261691</td>\n",
       "      <td>97.708162</td>\n",
       "      <td>8.012500</td>\n",
       "    </tr>\n",
       "    <tr>\n",
       "      <th>std</th>\n",
       "      <td>6.554963</td>\n",
       "      <td>30.760188</td>\n",
       "      <td>30.760188</td>\n",
       "      <td>31.066840</td>\n",
       "      <td>10.687303</td>\n",
       "      <td>9.151495</td>\n",
       "      <td>17.390734</td>\n",
       "      <td>43.990061</td>\n",
       "      <td>42.461601</td>\n",
       "      <td>29.021844</td>\n",
       "      <td>21.345566</td>\n",
       "    </tr>\n",
       "    <tr>\n",
       "      <th>min</th>\n",
       "      <td>2000.000000</td>\n",
       "      <td>52.220000</td>\n",
       "      <td>-47.780000</td>\n",
       "      <td>65.200000</td>\n",
       "      <td>73.550000</td>\n",
       "      <td>77.170000</td>\n",
       "      <td>65.940000</td>\n",
       "      <td>76.920000</td>\n",
       "      <td>43.620000</td>\n",
       "      <td>57.560000</td>\n",
       "      <td>-17.200000</td>\n",
       "    </tr>\n",
       "    <tr>\n",
       "      <th>25%</th>\n",
       "      <td>2005.000000</td>\n",
       "      <td>83.307500</td>\n",
       "      <td>-16.692500</td>\n",
       "      <td>91.762500</td>\n",
       "      <td>84.980000</td>\n",
       "      <td>87.410000</td>\n",
       "      <td>85.250000</td>\n",
       "      <td>93.707500</td>\n",
       "      <td>76.560000</td>\n",
       "      <td>89.570000</td>\n",
       "      <td>-0.825000</td>\n",
       "    </tr>\n",
       "    <tr>\n",
       "      <th>50%</th>\n",
       "      <td>2011.000000</td>\n",
       "      <td>95.765000</td>\n",
       "      <td>-4.235000</td>\n",
       "      <td>99.955000</td>\n",
       "      <td>93.765000</td>\n",
       "      <td>95.705000</td>\n",
       "      <td>94.755000</td>\n",
       "      <td>102.225000</td>\n",
       "      <td>99.490000</td>\n",
       "      <td>97.055000</td>\n",
       "      <td>5.650000</td>\n",
       "    </tr>\n",
       "    <tr>\n",
       "      <th>75%</th>\n",
       "      <td>2016.250000</td>\n",
       "      <td>103.430000</td>\n",
       "      <td>3.430000</td>\n",
       "      <td>105.775000</td>\n",
       "      <td>100.910000</td>\n",
       "      <td>100.845000</td>\n",
       "      <td>100.892500</td>\n",
       "      <td>107.267500</td>\n",
       "      <td>106.097500</td>\n",
       "      <td>105.285000</td>\n",
       "      <td>9.850000</td>\n",
       "    </tr>\n",
       "    <tr>\n",
       "      <th>max</th>\n",
       "      <td>2022.000000</td>\n",
       "      <td>294.510000</td>\n",
       "      <td>194.510000</td>\n",
       "      <td>342.430000</td>\n",
       "      <td>123.950000</td>\n",
       "      <td>124.450000</td>\n",
       "      <td>198.900000</td>\n",
       "      <td>423.330000</td>\n",
       "      <td>376.920000</td>\n",
       "      <td>319.670000</td>\n",
       "      <td>157.400000</td>\n",
       "    </tr>\n",
       "  </tbody>\n",
       "</table>\n",
       "</div>"
      ],
      "text/plain": [
       "              Jaar  CPI_energie  CPI_energie-100  CPI(afgeleid)_energie   \\\n",
       "count   272.000000   272.000000       272.000000              272.000000   \n",
       "mean   2010.841912    96.092132        -3.907868              100.757904   \n",
       "std       6.554963    30.760188        30.760188               31.066840   \n",
       "min    2000.000000    52.220000       -47.780000               65.200000   \n",
       "25%    2005.000000    83.307500       -16.692500               91.762500   \n",
       "50%    2011.000000    95.765000        -4.235000               99.955000   \n",
       "75%    2016.250000   103.430000         3.430000              105.775000   \n",
       "max    2022.000000   294.510000       194.510000              342.430000   \n",
       "\n",
       "       CPI_algemeen  CPI(algemeen)_afgeleid  CPI_elektriciteit  \\\n",
       "count    272.000000              272.000000         272.000000   \n",
       "mean      93.780956               95.043676          94.579596   \n",
       "std       10.687303                9.151495          17.390734   \n",
       "min       73.550000               77.170000          65.940000   \n",
       "25%       84.980000               87.410000          85.250000   \n",
       "50%       93.765000               95.705000          94.755000   \n",
       "75%      100.910000              100.845000         100.892500   \n",
       "max      123.950000              124.450000         198.900000   \n",
       "\n",
       "       CPI(elektriciteit)_afgeleid     CPI_gas  CPI(gas)_afgeleid  \\\n",
       "count                   272.000000  272.000000         272.000000   \n",
       "mean                    107.494596   98.261691          97.708162   \n",
       "std                      43.990061   42.461601          29.021844   \n",
       "min                      76.920000   43.620000          57.560000   \n",
       "25%                      93.707500   76.560000          89.570000   \n",
       "50%                     102.225000   99.490000          97.055000   \n",
       "75%                     107.267500  106.097500         105.285000   \n",
       "max                     423.330000  376.920000         319.670000   \n",
       "\n",
       "       CPI_energiejaarlijks  \n",
       "count            272.000000  \n",
       "mean               8.012500  \n",
       "std               21.345566  \n",
       "min              -17.200000  \n",
       "25%               -0.825000  \n",
       "50%                5.650000  \n",
       "75%                9.850000  \n",
       "max              157.400000  "
      ]
     },
     "execution_count": 13,
     "metadata": {},
     "output_type": "execute_result"
    }
   ],
   "source": [
    "# Describe the dataset \n",
    "inflation_Netherlands.describe()"
   ]
  },
  {
   "cell_type": "markdown",
   "id": "bf74d71c",
   "metadata": {},
   "source": [
    "#### Visualise the dataset"
   ]
  },
  {
   "cell_type": "markdown",
   "id": "83fc50c2",
   "metadata": {},
   "source": [
    "The visualisation is done in several ways. The graph shows that the year 2022 is a very high energy inflation year. On average, inflation gets higher every year. "
   ]
  },
  {
   "cell_type": "code",
   "execution_count": 14,
   "id": "e5e92dd9",
   "metadata": {},
   "outputs": [
    {
     "data": {
      "image/png": "[encoded data removed]",
      "text/plain": [
       "<Figure size 432x288 with 1 Axes>"
      ]
     },
     "metadata": {
      "needs_background": "light"
     },
     "output_type": "display_data"
    }
   ],
   "source": [
    "# Monthly energy inflation from January, June and December of the year 2000 to 2022\n",
    "\n",
    "# Create data frames for the three months\n",
    "januari_df = inflation_Netherlands[inflation_Netherlands['Maand'].str.contains('januari')]\n",
    "juni_df = inflation_Netherlands[inflation_Netherlands['Maand'].str.contains('juni')]\n",
    "december_df = inflation_Netherlands[inflation_Netherlands['Maand'].str.contains('december')]\n",
    "\n",
    "# Create the plot of several pandas data frames\n",
    "ax = januari_df.plot(x='Jaar', y='CPI_energie', color='red', label='Januari', linestyle='solid')\n",
    "juni_df.plot(ax=ax, x='Jaar', y='CPI_energie', color='blue', label='Juni', linestyle='dotted')\n",
    "december_df.plot(ax=ax, x='Jaar', y='CPI_energie', color='green', label='December', linestyle='dashed')\n",
    "\n",
    "plt.ylim(0, 220)\n",
    "\n",
    "plt.title(\"Yearly energy inflation from january, juni and december\", style='oblique')\n",
    "\n",
    "plt.xlabel('Year')\n",
    "plt.ylabel('Inflation rate')\n",
    "\n",
    "plt.legend()\n",
    "plt.show()"
   ]
  },
  {
   "cell_type": "code",
   "execution_count": 15,
   "id": "3c5d8091",
   "metadata": {},
   "outputs": [
    {
     "data": {
      "image/png": "[encoded data removed]",
      "text/plain": [
       "<Figure size 432x288 with 1 Axes>"
      ]
     },
     "metadata": {
      "needs_background": "light"
     },
     "output_type": "display_data"
    }
   ],
   "source": [
    "# Annual energy inflation of average, electricity and gas.\n",
    "\n",
    "# Make the plot\n",
    "ax = plt.gca() \n",
    "\n",
    "inflation_Netherlands.plot(ax=ax, x='Jaar', y='CPI_energie', color='blue', label='Inflation energy', linestyle='solid')\n",
    "inflation_Netherlands.plot(ax=ax, x='Jaar', y='CPI_gas', color='red', label='Inflation gass', linestyle='dotted')\n",
    "inflation_Netherlands.plot(ax=ax, x='Jaar', y='CPI_elektriciteit', color='green', label='Inflation electricity', linestyle='dashed')\n",
    "\n",
    "plt.ylim(0, 350)\n",
    "\n",
    "plt.title('Yearly energy, gas and electricity inflation', style='italic')\n",
    "\n",
    "plt.xlabel('Year')\n",
    "plt.ylabel('Inflation rate')\n",
    "\n",
    "plt.legend()\n",
    "\n",
    "plt.show()"
   ]
  },
  {
   "cell_type": "code",
   "execution_count": 16,
   "id": "55152911",
   "metadata": {},
   "outputs": [
    {
     "data": {
      "image/png": "[encoded data removed]",
      "text/plain": [
       "<Figure size 432x288 with 1 Axes>"
      ]
     },
     "metadata": {
      "needs_background": "light"
     },
     "output_type": "display_data"
    }
   ],
   "source": [
    "# Look at the data on energy inflation with the year before, so 2015 is not year zero\n",
    "\n",
    "# Make the plot\n",
    "lines_yearly_inflation = inflation_Netherlands.plot.line(x='Jaar', y='CPI_energiejaarlijks', title=\"Inflation with year before\", color=\"#F4254B\", label=\"Energy inflation\")\n",
    "\n",
    "plt.xlabel('Year')\n",
    "plt.ylabel('Inflation rate')\n",
    "\n",
    "plt.show()"
   ]
  },
  {
   "cell_type": "code",
   "execution_count": 17,
   "id": "88085466",
   "metadata": {},
   "outputs": [
    {
     "data": {
      "image/png": "[encoded data removed]",
      "text/plain": [
       "<Figure size 432x288 with 1 Axes>"
      ]
     },
     "metadata": {
      "needs_background": "light"
     },
     "output_type": "display_data"
    }
   ],
   "source": [
    "# Scatterplot annual energy inflation \n",
    "\n",
    "# Make the plot\n",
    "inflation_Netherlands.plot.scatter(x=\"Jaar\",\n",
    "                                      y='CPI_energie', color='red')\n",
    "\n",
    "plt.title(\"Scatterplot yearly energy inflation\")\n",
    "plt.xlabel('Year')\n",
    "plt.ylabel('Inflation rate')\n",
    "ax.legend(facecolor='white')\n",
    "\n",
    "plt.show()\n"
   ]
  },
  {
   "cell_type": "markdown",
   "id": "ba9ef333",
   "metadata": {},
   "source": [
    "#### Save as a new Excel-sheet"
   ]
  },
  {
   "cell_type": "code",
   "execution_count": 18,
   "id": "d591b2e3",
   "metadata": {},
   "outputs": [],
   "source": [
    "inflation_Netherlands.to_excel('Inflationfile.xlsx')"
   ]
  },
  {
   "cell_type": "code",
   "execution_count": null,
   "id": "1a187f2a",
   "metadata": {},
   "outputs": [],
   "source": []
  }
 ],
 "metadata": {
  "kernelspec": {
   "display_name": "Python 3 (ipykernel)",
   "language": "python",
   "name": "python3"
  },
  "language_info": {
   "codemirror_mode": {
    "name": "ipython",
    "version": 3
   },
   "file_extension": ".py",
   "mimetype": "text/x-python",
   "name": "python",
   "nbconvert_exporter": "python",
   "pygments_lexer": "ipython3",
   "version": "3.9.12"
  }
 },
 "nbformat": 4,
 "nbformat_minor": 5
}
