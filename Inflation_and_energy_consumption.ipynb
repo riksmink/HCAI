{
 "cells": [
  {
   "cell_type": "markdown",
   "id": "697a44a9",
   "metadata": {},
   "source": [
    "# The correlation between inflation and energy consumption"
   ]
  },
  {
   "cell_type": "raw",
   "id": "8d7c6779",
   "metadata": {},
   "source": [
    "This notebook calculates and visualises the correlation between inflation and energy consumption."
   ]
  },
  {
   "cell_type": "markdown",
   "id": "511e46e0",
   "metadata": {},
   "source": [
    "#### Import packages"
   ]
  },
  {
   "cell_type": "code",
   "execution_count": 1,
   "id": "0da26a60",
   "metadata": {},
   "outputs": [],
   "source": [
    "import pandas as pd\n",
    "import numpy as np\n",
    "import scipy.stats\n",
    "\n",
    "import matplotlib.pyplot as plt\n",
    "%matplotlib inline"
   ]
  },
  {
   "cell_type": "markdown",
   "id": "ab327242",
   "metadata": {},
   "source": [
    "#### Import and form the data"
   ]
  },
  {
   "cell_type": "markdown",
   "id": "e6da9bf9",
   "metadata": {},
   "source": [
    "The first dataset is from another notebook. The second is from \"https://opendata.cbs.nl/statline/portal.html?_la=nl&_catalog=CBS&tableId=84575NED&_theme=123\"."
   ]
  },
  {
   "cell_type": "code",
   "execution_count": 2,
   "id": "1724ab32",
   "metadata": {},
   "outputs": [],
   "source": [
    "# Import the datasets (the energy consumption is till juni)\n",
    "inflation_Netherlands = pd.read_excel(\"Inflationfile.xlsx\", skiprows = [271, 272, 273], index_col = 0)\n",
    "energy_consumption = pd.read_csv(\"MontlyEnergy.csv\", index_col = 0)"
   ]
  },
  {
   "cell_type": "markdown",
   "id": "3a21b61e",
   "metadata": {},
   "source": [
    "#### Fast look at the data"
   ]
  },
  {
   "cell_type": "code",
   "execution_count": 3,
   "id": "d2f15c08",
   "metadata": {},
   "outputs": [
    {
     "data": {
      "text/html": [
       "<div>\n",
       "<style scoped>\n",
       "    .dataframe tbody tr th:only-of-type {\n",
       "        vertical-align: middle;\n",
       "    }\n",
       "\n",
       "    .dataframe tbody tr th {\n",
       "        vertical-align: top;\n",
       "    }\n",
       "\n",
       "    .dataframe thead th {\n",
       "        text-align: right;\n",
       "    }\n",
       "</style>\n",
       "<table border=\"1\" class=\"dataframe\">\n",
       "  <thead>\n",
       "    <tr style=\"text-align: right;\">\n",
       "      <th></th>\n",
       "      <th>Jaar</th>\n",
       "      <th>Maand</th>\n",
       "      <th>CPI_energie</th>\n",
       "      <th>CPI_energie-100</th>\n",
       "      <th>CPI(afgeleid)_energie</th>\n",
       "      <th>CPI_algemeen</th>\n",
       "      <th>CPI(algemeen)_afgeleid</th>\n",
       "      <th>CPI_elektriciteit</th>\n",
       "      <th>CPI(elektriciteit)_afgeleid</th>\n",
       "      <th>CPI_gas</th>\n",
       "      <th>CPI(gas)_afgeleid</th>\n",
       "      <th>CPI_energiejaarlijks</th>\n",
       "    </tr>\n",
       "    <tr>\n",
       "      <th>Perioden</th>\n",
       "      <th></th>\n",
       "      <th></th>\n",
       "      <th></th>\n",
       "      <th></th>\n",
       "      <th></th>\n",
       "      <th></th>\n",
       "      <th></th>\n",
       "      <th></th>\n",
       "      <th></th>\n",
       "      <th></th>\n",
       "      <th></th>\n",
       "      <th></th>\n",
       "    </tr>\n",
       "  </thead>\n",
       "  <tbody>\n",
       "    <tr>\n",
       "      <th>2000 januari</th>\n",
       "      <td>2000</td>\n",
       "      <td>januari</td>\n",
       "      <td>52.22</td>\n",
       "      <td>-47.78</td>\n",
       "      <td>65.20</td>\n",
       "      <td>73.55</td>\n",
       "      <td>77.17</td>\n",
       "      <td>69.63</td>\n",
       "      <td>78.38</td>\n",
       "      <td>43.70</td>\n",
       "      <td>57.67</td>\n",
       "      <td>9.3</td>\n",
       "    </tr>\n",
       "    <tr>\n",
       "      <th>2000 februari</th>\n",
       "      <td>2000</td>\n",
       "      <td>februari</td>\n",
       "      <td>52.29</td>\n",
       "      <td>-47.71</td>\n",
       "      <td>65.28</td>\n",
       "      <td>74.00</td>\n",
       "      <td>77.64</td>\n",
       "      <td>69.84</td>\n",
       "      <td>78.62</td>\n",
       "      <td>43.69</td>\n",
       "      <td>57.66</td>\n",
       "      <td>9.4</td>\n",
       "    </tr>\n",
       "    <tr>\n",
       "      <th>2000 maart</th>\n",
       "      <td>2000</td>\n",
       "      <td>maart</td>\n",
       "      <td>52.73</td>\n",
       "      <td>-47.27</td>\n",
       "      <td>65.84</td>\n",
       "      <td>74.66</td>\n",
       "      <td>78.33</td>\n",
       "      <td>71.36</td>\n",
       "      <td>80.33</td>\n",
       "      <td>43.62</td>\n",
       "      <td>57.56</td>\n",
       "      <td>10.3</td>\n",
       "    </tr>\n",
       "    <tr>\n",
       "      <th>2000 april</th>\n",
       "      <td>2000</td>\n",
       "      <td>april</td>\n",
       "      <td>52.74</td>\n",
       "      <td>-47.26</td>\n",
       "      <td>65.85</td>\n",
       "      <td>74.78</td>\n",
       "      <td>78.46</td>\n",
       "      <td>71.38</td>\n",
       "      <td>80.35</td>\n",
       "      <td>43.62</td>\n",
       "      <td>57.56</td>\n",
       "      <td>10.7</td>\n",
       "    </tr>\n",
       "    <tr>\n",
       "      <th>2000 mei</th>\n",
       "      <td>2000</td>\n",
       "      <td>mei</td>\n",
       "      <td>52.74</td>\n",
       "      <td>-47.26</td>\n",
       "      <td>65.85</td>\n",
       "      <td>75.02</td>\n",
       "      <td>78.69</td>\n",
       "      <td>71.38</td>\n",
       "      <td>80.35</td>\n",
       "      <td>43.62</td>\n",
       "      <td>57.56</td>\n",
       "      <td>10.7</td>\n",
       "    </tr>\n",
       "  </tbody>\n",
       "</table>\n",
       "</div>"
      ],
      "text/plain": [
       "               Jaar     Maand  CPI_energie  CPI_energie-100  \\\n",
       "Perioden                                                      \n",
       "2000 januari   2000   januari        52.22           -47.78   \n",
       "2000 februari  2000  februari        52.29           -47.71   \n",
       "2000 maart     2000     maart        52.73           -47.27   \n",
       "2000 april     2000     april        52.74           -47.26   \n",
       "2000 mei       2000       mei        52.74           -47.26   \n",
       "\n",
       "               CPI(afgeleid)_energie   CPI_algemeen  CPI(algemeen)_afgeleid  \\\n",
       "Perioden                                                                      \n",
       "2000 januari                    65.20         73.55                   77.17   \n",
       "2000 februari                   65.28         74.00                   77.64   \n",
       "2000 maart                      65.84         74.66                   78.33   \n",
       "2000 april                      65.85         74.78                   78.46   \n",
       "2000 mei                        65.85         75.02                   78.69   \n",
       "\n",
       "               CPI_elektriciteit  CPI(elektriciteit)_afgeleid  CPI_gas  \\\n",
       "Perioden                                                                 \n",
       "2000 januari               69.63                        78.38    43.70   \n",
       "2000 februari              69.84                        78.62    43.69   \n",
       "2000 maart                 71.36                        80.33    43.62   \n",
       "2000 april                 71.38                        80.35    43.62   \n",
       "2000 mei                   71.38                        80.35    43.62   \n",
       "\n",
       "               CPI(gas)_afgeleid  CPI_energiejaarlijks  \n",
       "Perioden                                                \n",
       "2000 januari               57.67                   9.3  \n",
       "2000 februari              57.66                   9.4  \n",
       "2000 maart                 57.56                  10.3  \n",
       "2000 april                 57.56                  10.7  \n",
       "2000 mei                   57.56                  10.7  "
      ]
     },
     "execution_count": 3,
     "metadata": {},
     "output_type": "execute_result"
    }
   ],
   "source": [
    "# The energy inflation dataset\n",
    "inflation_Netherlands.head()"
   ]
  },
  {
   "cell_type": "code",
   "execution_count": 4,
   "id": "3b3c719a",
   "metadata": {},
   "outputs": [
    {
     "data": {
      "text/html": [
       "<div>\n",
       "<style scoped>\n",
       "    .dataframe tbody tr th:only-of-type {\n",
       "        vertical-align: middle;\n",
       "    }\n",
       "\n",
       "    .dataframe tbody tr th {\n",
       "        vertical-align: top;\n",
       "    }\n",
       "\n",
       "    .dataframe thead th {\n",
       "        text-align: right;\n",
       "    }\n",
       "</style>\n",
       "<table border=\"1\" class=\"dataframe\">\n",
       "  <thead>\n",
       "    <tr style=\"text-align: right;\">\n",
       "      <th></th>\n",
       "      <th>ID</th>\n",
       "      <th>Perioden</th>\n",
       "      <th>NettoVerbruikBerekend_30</th>\n",
       "    </tr>\n",
       "  </thead>\n",
       "  <tbody>\n",
       "    <tr>\n",
       "      <th>288</th>\n",
       "      <td>455</td>\n",
       "      <td>2000MM01</td>\n",
       "      <td>8847</td>\n",
       "    </tr>\n",
       "    <tr>\n",
       "      <th>289</th>\n",
       "      <td>456</td>\n",
       "      <td>2000MM02</td>\n",
       "      <td>8235</td>\n",
       "    </tr>\n",
       "    <tr>\n",
       "      <th>290</th>\n",
       "      <td>457</td>\n",
       "      <td>2000MM03</td>\n",
       "      <td>8738</td>\n",
       "    </tr>\n",
       "    <tr>\n",
       "      <th>291</th>\n",
       "      <td>459</td>\n",
       "      <td>2000MM04</td>\n",
       "      <td>7912</td>\n",
       "    </tr>\n",
       "    <tr>\n",
       "      <th>292</th>\n",
       "      <td>460</td>\n",
       "      <td>2000MM05</td>\n",
       "      <td>8221</td>\n",
       "    </tr>\n",
       "  </tbody>\n",
       "</table>\n",
       "</div>"
      ],
      "text/plain": [
       "      ID  Perioden  NettoVerbruikBerekend_30\n",
       "288  455  2000MM01                      8847\n",
       "289  456  2000MM02                      8235\n",
       "290  457  2000MM03                      8738\n",
       "291  459  2000MM04                      7912\n",
       "292  460  2000MM05                      8221"
      ]
     },
     "execution_count": 4,
     "metadata": {},
     "output_type": "execute_result"
    }
   ],
   "source": [
    "# The energy consumption dataset\n",
    "energy_consumption.head()"
   ]
  },
  {
   "cell_type": "markdown",
   "id": "15537f20",
   "metadata": {},
   "source": [
    "#### Is there a correlation? "
   ]
  },
  {
   "cell_type": "markdown",
   "id": "48d13bbf",
   "metadata": {},
   "source": [
    "Several calculations were done for the correlation between the datasets. Between 0-1 there is a positive correlation and from 0.8 there is a strong relationship. "
   ]
  },
  {
   "cell_type": "code",
   "execution_count": 5,
   "id": "49c96202",
   "metadata": {},
   "outputs": [],
   "source": [
    "# Give the columns from the datasets names for the calculation\n",
    "x = inflation_Netherlands['CPI_energie-100']\n",
    "y = energy_consumption['NettoVerbruikBerekend_30']"
   ]
  },
  {
   "cell_type": "code",
   "execution_count": 6,
   "id": "327285bd",
   "metadata": {},
   "outputs": [
    {
     "data": {
      "text/plain": [
       "(0.24623593490393975, 4.305298303410054e-05)"
      ]
     },
     "execution_count": 6,
     "metadata": {},
     "output_type": "execute_result"
    }
   ],
   "source": [
    "# product-moment coefficent correlation\n",
    "scipy.stats.pearsonr(x, y)\n",
    "\n",
    "# Conclusion: positive correlation"
   ]
  },
  {
   "cell_type": "code",
   "execution_count": 7,
   "id": "e4ab03b1",
   "metadata": {},
   "outputs": [
    {
     "data": {
      "text/plain": [
       "SpearmanrResult(correlation=0.326329082365034, pvalue=4.0597878795283156e-08)"
      ]
     },
     "execution_count": 7,
     "metadata": {},
     "output_type": "execute_result"
    }
   ],
   "source": [
    "# Correlation with ranks\n",
    "\n",
    "scipy.stats.spearmanr(x, y)\n",
    "\n",
    "# Conclusion: positive correlation"
   ]
  },
  {
   "cell_type": "code",
   "execution_count": 8,
   "id": "082c516e",
   "metadata": {},
   "outputs": [
    {
     "data": {
      "text/plain": [
       "KendalltauResult(correlation=0.2241437876454509, pvalue=4.239544628836012e-08)"
      ]
     },
     "execution_count": 8,
     "metadata": {},
     "output_type": "execute_result"
    }
   ],
   "source": [
    "# Correlation with ranks\n",
    "\n",
    "scipy.stats.kendalltau(x, y)\n",
    "\n",
    "# Conclusion: positive correlation"
   ]
  },
  {
   "cell_type": "code",
   "execution_count": 9,
   "id": "5a14b271",
   "metadata": {},
   "outputs": [
    {
     "data": {
      "text/plain": [
       "array([[1.        , 0.24623593],\n",
       "       [0.24623593, 1.        ]])"
      ]
     },
     "execution_count": 9,
     "metadata": {},
     "output_type": "execute_result"
    }
   ],
   "source": [
    "# Correlation coeficent\n",
    "\n",
    "np.corrcoef(x, y)\n",
    "\n",
    "# Conclusion: positive correlation"
   ]
  },
  {
   "cell_type": "markdown",
   "id": "23f03940",
   "metadata": {},
   "source": [
    "#### Visualise the correlation"
   ]
  },
  {
   "cell_type": "code",
   "execution_count": 10,
   "id": "ba770187",
   "metadata": {},
   "outputs": [
    {
     "data": {
      "image/png": "[encoded data removed]",
      "text/plain": [
       "<Figure size 432x288 with 1 Axes>"
      ]
     },
     "metadata": {
      "needs_background": "light"
     },
     "output_type": "display_data"
    }
   ],
   "source": [
    "# Make a scatter plot (from: https://realpython.com/numpy-scipy-pandas-correlation-python/)\n",
    "\n",
    "# Make a regression line from the Pearson correlation coefficient\n",
    "slope, intercept, r, p, stderr = scipy.stats.linregress(x, y)\n",
    "\n",
    "# Relation between the regression line and the value of the correlation coefficient\n",
    "line = f'Regression line: y={intercept:.2f}+{slope:.2f}x, r={r:.2f}'\n",
    "line\n",
    "\n",
    "# Make the plot\n",
    "fig, ax = plt.subplots()\n",
    "ax.plot(x, y, linewidth=0, marker='s', label='Data points')\n",
    "ax.plot(x, intercept + slope * x, label=line)\n",
    "ax.set_xlabel('Energy inflation')\n",
    "ax.set_ylabel('Energy consumption')\n",
    "ax.legend(facecolor='white')\n",
    "plt.show()"
   ]
  },
  {
   "cell_type": "markdown",
   "id": "8aecc0a4",
   "metadata": {},
   "source": [
    "#### Simple regression"
   ]
  },
  {
   "cell_type": "code",
   "execution_count": 11,
   "id": "a4c960b2",
   "metadata": {},
   "outputs": [],
   "source": [
    "# Reshape the arrays to 2D-arrays, because otherwise the model don't work\n",
    "x = inflation_Netherlands['CPI_energie-100'].array.reshape(-1, 1)\n",
    "y = energy_consumption['NettoVerbruikBerekend_30'].array.reshape(-1, 1)"
   ]
  },
  {
   "cell_type": "code",
   "execution_count": 12,
   "id": "8455075e",
   "metadata": {},
   "outputs": [],
   "source": [
    "# Make train and test sets for the model\n",
    "from sklearn.model_selection import train_test_split\n",
    "\n",
    "x_train, x_test, y_train, y_test = train_test_split(x, y, test_size=0.20, random_state=1)"
   ]
  },
  {
   "cell_type": "code",
   "execution_count": 13,
   "id": "3015c9d0",
   "metadata": {},
   "outputs": [
    {
     "data": {
      "text/plain": [
       "array([[8905.10304425],\n",
       "       [9296.43772591],\n",
       "       [8996.36510578],\n",
       "       [9258.02620915],\n",
       "       [9255.34203087],\n",
       "       [9276.07499413],\n",
       "       [8839.84974469],\n",
       "       [9001.82602021],\n",
       "       [8969.06053362],\n",
       "       [9101.32573231]])"
      ]
     },
     "execution_count": 13,
     "metadata": {},
     "output_type": "execute_result"
    }
   ],
   "source": [
    "# Import the model\n",
    "from sklearn.linear_model import LinearRegression\n",
    "\n",
    "regressionmodel = LinearRegression()\n",
    "regressionmodel.fit(x_train, y_train)\n",
    "predictions = regressionmodel.predict(x_test)\n",
    "predictions[:10]"
   ]
  },
  {
   "cell_type": "code",
   "execution_count": 14,
   "id": "b38a0dfb",
   "metadata": {},
   "outputs": [
    {
     "name": "stdout",
     "output_type": "stream",
     "text": [
      "649.400566898991\n",
      "-0.41174290472564645\n"
     ]
    }
   ],
   "source": [
    "# How good is the model? \n",
    "from sklearn.metrics import mean_squared_error\n",
    "from sklearn.metrics import r2_score\n",
    "print(mean_squared_error(y_test,predictions)**(1/2))\n",
    "print(r2_score(y_test,predictions))\n",
    "\n",
    "# Conclusion: The model is very weak"
   ]
  }
 ],
 "metadata": {
  "kernelspec": {
   "display_name": "Python 3 (ipykernel)",
   "language": "python",
   "name": "python3"
  },
  "language_info": {
   "codemirror_mode": {
    "name": "ipython",
    "version": 3
   },
   "file_extension": ".py",
   "mimetype": "text/x-python",
   "name": "python",
   "nbconvert_exporter": "python",
   "pygments_lexer": "ipython3",
   "version": "3.9.12"
  }
 },
 "nbformat": 4,
 "nbformat_minor": 5
}
