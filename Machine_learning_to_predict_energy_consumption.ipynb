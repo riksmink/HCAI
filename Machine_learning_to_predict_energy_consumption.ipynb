{
 "cells": [
  {
   "cell_type": "markdown",
   "id": "1e2e20d9",
   "metadata": {},
   "source": [
    "# Machine learning to predict energy consumption"
   ]
  },
  {
   "cell_type": "markdown",
   "id": "1f4680d3",
   "metadata": {},
   "source": [
    "## Introduction research"
   ]
  },
  {
   "cell_type": "markdown",
   "id": "cf56c50b",
   "metadata": {},
   "source": [
    "Energy transition is an important concept in today's society. Which also makes green energy generation very popular in the Netherlands. The top five most generating days with green energy also all took place in 2022. Unfortunately, there is also a downside to these spikes in energy production. Energy producers pay more for green energy towards the grid and grid operators have to pay a lot for huge peaks and troughs in the Netherlands' electricity grid. Besides this year has already seen five record spikes in green energy production. Alerts have also been issued by Tennet (manages high-voltage grid in the Netherlands) four times this year (Van Weezel, 2022). More on the stakeholders in this study, look at mine GitHub page: https://github.com/riksmink/HCAI-RoyalHaskoningDHV. \n",
    "\n",
    "So for both energy production companies and grid operators, it is very important to avoid these peaks and troughs. One way to do this is to forecast energy consumption (TNO, 2021). In this notebook, this is done based on a number of features. "
   ]
  },
  {
   "cell_type": "markdown",
   "id": "365002e8",
   "metadata": {},
   "source": [
    "### The features for the prediction"
   ]
  },
  {
   "cell_type": "markdown",
   "id": "3bd60b01",
   "metadata": {},
   "source": [
    "The first feature is inflation. This is done because there is a strong link between inflation and buyer strength. Buyers strenght can decrease due to inflation. This is because a rising price level means that fewer products and services can be bought. Inflation and purchasing power affect the whole economy, from consumers to businesses (Hayes, 2022). Because of this relationship, inflation also affects long-term investment. Recently, energy prices have been rising rapidly the government also sees the link between sustained inflation, rising energy prices and falling purchasing power. Only to what extent does this relationship also affect energy consumption in the Netherlands and is there a relationship between the two (Tweede Kamer, 2022)?\n",
    "\n",
    "The second feature is sunhours. First of all, sunshine hours means the total sunshine hours on a day in the Netherlands expressed in hours. In the Netherlands, there is a clear difference in the number of sunshine hours in summer and winter. In summer, the average number of sunshine hours is between 6 and 7 hours a day, while in winter it is 2 hours. Because there is less daylight in winter and it is more often cloudy in winter, the average is lower (Dirk Wolters, 2011).\n",
    "\n",
    "When there are fewer sunlight hours, it means it is darker. As a result, people have to use energy more often (Visser, 2014) to provide themselves with light, by turning on lamps, for example. The number of sunshine hours also affects the use of green energy by solar panels. In summer, there are more hours of sunshine, so a lot of green energy can be generated. However, this will be used less because energy demand is higher in winter. It costs a lot of money to store solar energy to use later, which is therefore not done in households, for example. As a result, there is a higher peak energy consumption on the grid in winter (Visser, 2014).\n",
    "\n",
    "The third feature is wind strenght. Wind force data are in FHEV. Vector average wind force of the day. The vector mean is the average of all vectors where the wind was blowing and how hard. If two vectors are exactly opposite each other, they cancel each other out and so does the wind force of the day. It is thus the average wind force in a given direction (KNMI, s.d.). Because of the large growth envisaged by the Netherlands in the use of wind energy as an energy source, this has also been included as a characteristic (Rijksoverheid, 2022).\n",
    "\n",
    "The fourth characteristic is temperature. In a year where the average temperature is higher, energy consumption is lower. In a year where the temperature is lower, energy consumption is higher. This also means that the price of energy is higher, which has an important relationship with inflation (the first characteristic) (Het Weer, 2022). "
   ]
  },
  {
   "cell_type": "markdown",
   "id": "a5cf4d7b",
   "metadata": {},
   "source": [
    "## Import packages"
   ]
  },
  {
   "cell_type": "code",
   "execution_count": 1,
   "id": "e281027d",
   "metadata": {},
   "outputs": [],
   "source": [
    "import pandas as pd\n",
    "import numpy as np\n",
    "import scipy.stats\n",
    "\n",
    "import random as rnd\n",
    "\n",
    "import seaborn as sns\n",
    "import matplotlib.pyplot as plt\n",
    "%matplotlib inline"
   ]
  },
  {
   "cell_type": "markdown",
   "id": "b3568ff5",
   "metadata": {},
   "source": [
    "## Clean and prepare the datasets"
   ]
  },
  {
   "cell_type": "markdown",
   "id": "e97868db",
   "metadata": {},
   "source": [
    "A major drawback of this study is that only monthly energy data are available for the whole of the Netherlands. As a result, the other data also used in this study had to be converted into monthly data. But the second major drawback is that in another study on energy pridiction, the dataset of daily data was the most important thing in the study (Ding, 2020). The reason for including certain data is explained in more detail in the paper.\n",
    "\n",
    "The legend describes the different characteristics of the dataset. The legend can be found at the bottom of the notebook. "
   ]
  },
  {
   "cell_type": "markdown",
   "id": "e188888c",
   "metadata": {},
   "source": [
    "### Import the datasets"
   ]
  },
  {
   "cell_type": "markdown",
   "id": "79a2e222",
   "metadata": {},
   "source": [
    "The dataset inflation_Netherlands is a dataset created in another Notebook. This Notebook is available on my GitHub page: https://github.com/riksmink/HCAI-RoyalHaskoningDHV. The other datasets are from: https://www.daggegevens.knmi.nl/klimatologie/daggegevens. "
   ]
  },
  {
   "cell_type": "code",
   "execution_count": 2,
   "id": "946a3f65",
   "metadata": {},
   "outputs": [],
   "source": [
    "inflation_Netherlands = pd.read_csv(\"Inflationfile.csv\", skiprows = range(265, 273), index_col = False)\n",
    "energy_consumption = pd.read_csv(\"MontlyEnergy.csv\", skiprows = range(265, 273), index_col = 0)\n",
    "sun_hours = pd.read_csv(\"zonuren1.csv\", index_col = False)\n",
    "temperature = pd.read_csv(\"Dataset_temperatuur.csv\", skiprows = range(265, 274), index_col = False)\n",
    "wind_mode = pd.read_csv(\"WeatherMontlyMode.csv\", skiprows = range(265, 275), index_col = False)\n",
    "wind_mean = pd.read_csv(\"WeatherMontlyAverage.csv\", skiprows = range(265, 275), index_col = False)"
   ]
  },
  {
   "cell_type": "markdown",
   "id": "bfbcfd53",
   "metadata": {},
   "source": [
    "### Work with the columns on the datasets"
   ]
  },
  {
   "cell_type": "markdown",
   "id": "7b6c3d32",
   "metadata": {},
   "source": [
    "The first problem with the datasets is that there are different ways to write dates in the data. The second problem is that not all column names are in English. The third problem was that there were several columns that were not attributes for the ML model, so they were removed from the dataset. The reason for the removal of those columns is in another notebook. You can find this notebook at https://github.com/riksmink/HCAI-RoyalHaskoningDHV. "
   ]
  },
  {
   "cell_type": "markdown",
   "id": "507b9dd9",
   "metadata": {},
   "source": [
    "#### Make a common date column"
   ]
  },
  {
   "cell_type": "code",
   "execution_count": 3,
   "id": "21200438",
   "metadata": {},
   "outputs": [],
   "source": [
    "# Inflation dataset\n",
    "import locale\n",
    "\n",
    "# The months are in Netherlands in the dataset\n",
    "locale.setlocale(locale.LC_ALL, \"nl_NL\")\n",
    "\n",
    "inflation_Netherlands['Perioden'] = pd.to_datetime(inflation_Netherlands['Perioden'], format='%Y %B').apply(lambda date: date.strftime(format='%Y-%m'))\n",
    "\n",
    "# Energy consumption dataset\n",
    "energy_consumption['Perioden'] = pd.to_datetime(energy_consumption['Perioden'], format='%YMM%m').apply(lambda date: date.strftime(format='%Y-%m'))\n",
    "\n",
    "# Sun hours dataset\n",
    "sun_hours['Datum'] = pd.to_datetime(sun_hours['Datum'], format='%Y-%m').apply(lambda date: date.strftime(format='%Y-%m'))\n",
    "\n",
    "# Temperature dataset\n",
    "temperature['DateTime'] = pd.to_datetime(temperature['DateTime'], format='%Y-%m').apply(lambda date: date.strftime(format='%Y-%m'))\n",
    "\n",
    "# Wind datasets\n",
    "wind_mode['YYYYMMDD'] = pd.to_datetime(wind_mode['YYYYMMDD'], format='%Y-%m').apply(lambda date: date.strftime(format='%Y-%m'))\n",
    "wind_mean['YYYYMMDD'] = pd.to_datetime(wind_mean['YYYYMMDD'], format='%Y-%m').apply(lambda date: date.strftime(format='%Y-%m'))"
   ]
  },
  {
   "cell_type": "markdown",
   "id": "16e7b4ae",
   "metadata": {},
   "source": [
    "#### Rename the columns"
   ]
  },
  {
   "cell_type": "code",
   "execution_count": 4,
   "id": "88491afa",
   "metadata": {},
   "outputs": [],
   "source": [
    "# Inflation dataset\n",
    "inflation_Netherlands01 = inflation_Netherlands.rename(columns={'Perioden': 'Date', 'CPI_energie' : 'CPI_energy'})\n",
    "\n",
    "# Energy consumption dataset\n",
    "energy_consumption01 = energy_consumption.rename(columns={'Perioden': 'Date', 'NettoVerbruikBerekend_30' : 'Energyconsumption'})\n",
    "\n",
    "# Sun hours dataset\n",
    "sun_hours01 = sun_hours.rename(columns={'Datum': 'Date', 'zonuren_dag' : 'Sunhoursdaily'})\n",
    "\n",
    "# Temperature dataset\n",
    "temperature01 = temperature.rename(columns={'DateTime': 'Date'})\n",
    "\n",
    "# Wind datasets\n",
    "wind_mode01 = wind_mode.rename(columns={'YYYYMMDD': 'Date'})\n",
    "wind_mean01 = wind_mean.rename(columns={'YYYYMMDD': 'Date'})\n"
   ]
  },
  {
   "cell_type": "markdown",
   "id": "c37ed7ee",
   "metadata": {},
   "source": [
    "#### Drop some columns"
   ]
  },
  {
   "cell_type": "code",
   "execution_count": 5,
   "id": "3b5e5273",
   "metadata": {},
   "outputs": [],
   "source": [
    "# Inflation dataset\n",
    "inflation_Netherlands02 = inflation_Netherlands01.drop(['Jaar', 'Maand', 'CPI_energie-100', 'CPI_energiejaarlijks', 'CPI_algemeen', 'CPI(afgeleid)_energie ','CPI(algemeen)_afgeleid', 'CPI_elektriciteit', 'CPI(elektriciteit)_afgeleid', 'CPI_gas', 'CPI(gas)_afgeleid'], axis=1)\n",
    "\n",
    "# Energy dataset\n",
    "energy_consumption02 = energy_consumption01.drop(['ID'], axis=1)\n",
    "\n",
    "# Temperature dataset\n",
    "temperature02 = temperature01.drop(['Unnamed: 0'], axis=1)"
   ]
  },
  {
   "cell_type": "markdown",
   "id": "53dda839",
   "metadata": {},
   "source": [
    "### Merge the datasets and prepare for machine learning"
   ]
  },
  {
   "cell_type": "markdown",
   "id": "5f1520ca",
   "metadata": {},
   "source": [
    "The preparation for merging is done. Now the datasets are prepared for training the models for machine learning.  Time series is very important because the model is gonna predict a continuous variable in the feature (Knaub, 2015). "
   ]
  },
  {
   "cell_type": "markdown",
   "id": "8b0a3db9",
   "metadata": {},
   "source": [
    "#### Merge the datasets"
   ]
  },
  {
   "cell_type": "code",
   "execution_count": 6,
   "id": "e8f6e5e4",
   "metadata": {},
   "outputs": [
    {
     "data": {
      "text/html": [
       "<div>\n",
       "<style scoped>\n",
       "    .dataframe tbody tr th:only-of-type {\n",
       "        vertical-align: middle;\n",
       "    }\n",
       "\n",
       "    .dataframe tbody tr th {\n",
       "        vertical-align: top;\n",
       "    }\n",
       "\n",
       "    .dataframe thead th {\n",
       "        text-align: right;\n",
       "    }\n",
       "</style>\n",
       "<table border=\"1\" class=\"dataframe\">\n",
       "  <thead>\n",
       "    <tr style=\"text-align: right;\">\n",
       "      <th></th>\n",
       "      <th>Date</th>\n",
       "      <th>CPI_energy</th>\n",
       "      <th>Energyconsumption</th>\n",
       "      <th>Sunhoursdaily</th>\n",
       "      <th>TG</th>\n",
       "      <th>TN</th>\n",
       "      <th>TX</th>\n",
       "      <th>FG_x</th>\n",
       "      <th>FG_y</th>\n",
       "    </tr>\n",
       "  </thead>\n",
       "  <tbody>\n",
       "    <tr>\n",
       "      <th>0</th>\n",
       "      <td>2000-01</td>\n",
       "      <td>52.22</td>\n",
       "      <td>8847</td>\n",
       "      <td>1.806452</td>\n",
       "      <td>4.329032</td>\n",
       "      <td>1.729032</td>\n",
       "      <td>6.561290</td>\n",
       "      <td>4.0</td>\n",
       "      <td>4.219355</td>\n",
       "    </tr>\n",
       "    <tr>\n",
       "      <th>1</th>\n",
       "      <td>2000-02</td>\n",
       "      <td>52.29</td>\n",
       "      <td>8235</td>\n",
       "      <td>3.682759</td>\n",
       "      <td>5.855172</td>\n",
       "      <td>2.537931</td>\n",
       "      <td>8.941379</td>\n",
       "      <td>4.6</td>\n",
       "      <td>4.748276</td>\n",
       "    </tr>\n",
       "    <tr>\n",
       "      <th>2</th>\n",
       "      <td>2000-03</td>\n",
       "      <td>52.73</td>\n",
       "      <td>8738</td>\n",
       "      <td>2.583871</td>\n",
       "      <td>6.796774</td>\n",
       "      <td>3.361290</td>\n",
       "      <td>10.112903</td>\n",
       "      <td>1.5</td>\n",
       "      <td>3.980645</td>\n",
       "    </tr>\n",
       "    <tr>\n",
       "      <th>3</th>\n",
       "      <td>2000-04</td>\n",
       "      <td>52.74</td>\n",
       "      <td>7912</td>\n",
       "      <td>5.116667</td>\n",
       "      <td>9.986667</td>\n",
       "      <td>5.186667</td>\n",
       "      <td>14.753333</td>\n",
       "      <td>1.9</td>\n",
       "      <td>3.553333</td>\n",
       "    </tr>\n",
       "    <tr>\n",
       "      <th>4</th>\n",
       "      <td>2000-05</td>\n",
       "      <td>52.74</td>\n",
       "      <td>8221</td>\n",
       "      <td>6.780645</td>\n",
       "      <td>14.732258</td>\n",
       "      <td>9.274194</td>\n",
       "      <td>20.022581</td>\n",
       "      <td>3.8</td>\n",
       "      <td>3.496774</td>\n",
       "    </tr>\n",
       "  </tbody>\n",
       "</table>\n",
       "</div>"
      ],
      "text/plain": [
       "      Date  CPI_energy  Energyconsumption  Sunhoursdaily         TG        TN  \\\n",
       "0  2000-01       52.22               8847       1.806452   4.329032  1.729032   \n",
       "1  2000-02       52.29               8235       3.682759   5.855172  2.537931   \n",
       "2  2000-03       52.73               8738       2.583871   6.796774  3.361290   \n",
       "3  2000-04       52.74               7912       5.116667   9.986667  5.186667   \n",
       "4  2000-05       52.74               8221       6.780645  14.732258  9.274194   \n",
       "\n",
       "          TX  FG_x      FG_y  \n",
       "0   6.561290   4.0  4.219355  \n",
       "1   8.941379   4.6  4.748276  \n",
       "2  10.112903   1.5  3.980645  \n",
       "3  14.753333   1.9  3.553333  \n",
       "4  20.022581   3.8  3.496774  "
      ]
     },
     "execution_count": 6,
     "metadata": {},
     "output_type": "execute_result"
    }
   ],
   "source": [
    "# merge all the dataframes\n",
    "ml_datasetenergy = inflation_Netherlands02.merge(energy_consumption02, on='Date', how='left').merge(sun_hours01, on='Date', how='left').merge(temperature02, on='Date', how='left').merge(wind_mode01, on='Date', how='left').merge(wind_mean01, on='Date', how='left')\n",
    "\n",
    "# Show new dataframe\n",
    "ml_datasetenergy.head()"
   ]
  },
  {
   "cell_type": "markdown",
   "id": "1111f4a0",
   "metadata": {},
   "source": [
    "#### Create new columns in the dataframe for working with time series "
   ]
  },
  {
   "cell_type": "markdown",
   "id": "3b182a40",
   "metadata": {},
   "source": [
    "For working with time-related data, it is important to take this relationship into account. After all, forecasts cannot be made based on data in the same month. In addition, with energy data it is difficult to forecast with 1 month in the past. The reason for this is that then the calculation of the forecast in the first month must all take place. The choice of the 1 year, 2 months is because of the weather features (Knaub, 2015)."
   ]
  },
  {
   "cell_type": "code",
   "execution_count": 7,
   "id": "24f8b504",
   "metadata": {},
   "outputs": [],
   "source": [
    "# Copy the date column and make a new one\n",
    "\n",
    "# 2 months\n",
    "ml_datasetenergy ['CPI_energy2month'] = ml_datasetenergy ['CPI_energy']\n",
    "ml_datasetenergy ['Sunhoursdaily2month'] = ml_datasetenergy ['Sunhoursdaily']\n",
    "ml_datasetenergy ['TG2month'] = ml_datasetenergy ['TG']\n",
    "ml_datasetenergy ['TX2month'] = ml_datasetenergy ['TG']\n",
    "ml_datasetenergy ['TN2month'] = ml_datasetenergy ['TN']\n",
    "ml_datasetenergy ['FG_x2month'] = ml_datasetenergy ['FG_x']\n",
    "ml_datasetenergy ['FG_y2month'] = ml_datasetenergy ['FG_y']\n",
    "\n",
    "# 3 months\n",
    "ml_datasetenergy ['CPI_energy3month'] = ml_datasetenergy ['CPI_energy']\n",
    "ml_datasetenergy ['Sunhoursdaily3month'] = ml_datasetenergy ['Sunhoursdaily']\n",
    "ml_datasetenergy ['TG3month'] = ml_datasetenergy ['TG']\n",
    "ml_datasetenergy ['TX3month'] = ml_datasetenergy ['TX']\n",
    "ml_datasetenergy ['TN3month'] = ml_datasetenergy ['TN']\n",
    "ml_datasetenergy ['FG_x3month'] = ml_datasetenergy ['FG_x']\n",
    "ml_datasetenergy ['FG_y3month'] = ml_datasetenergy ['FG_y']\n",
    "\n",
    "# 6 months\n",
    "ml_datasetenergy ['CPI_energy6month'] = ml_datasetenergy ['CPI_energy']\n",
    "ml_datasetenergy ['Sunhoursdaily6month'] = ml_datasetenergy ['Sunhoursdaily']\n",
    "ml_datasetenergy ['TG6month'] = ml_datasetenergy ['TG']\n",
    "ml_datasetenergy ['TX6month'] = ml_datasetenergy ['TX']\n",
    "ml_datasetenergy ['TN6month'] = ml_datasetenergy ['TN']\n",
    "ml_datasetenergy ['FG_x6month'] = ml_datasetenergy ['FG_x']\n",
    "ml_datasetenergy ['FG_y6month'] = ml_datasetenergy ['FG_y']\n",
    "\n",
    "# 1 year\n",
    "ml_datasetenergy ['CPI_energy1year'] = ml_datasetenergy ['CPI_energy']\n",
    "ml_datasetenergy ['Sunhoursdaily1year'] = ml_datasetenergy ['Sunhoursdaily']\n",
    "ml_datasetenergy ['TG1year'] = ml_datasetenergy ['TG']\n",
    "ml_datasetenergy ['TX1year'] = ml_datasetenergy ['TX']\n",
    "ml_datasetenergy ['TN1year'] = ml_datasetenergy ['TN']\n",
    "ml_datasetenergy ['FG_x1year'] = ml_datasetenergy ['FG_x']\n",
    "ml_datasetenergy ['FG_y1year'] = ml_datasetenergy ['FG_y']\n",
    "\n",
    "# Move the rows in the column\n",
    "\n",
    "# 2 months\n",
    "ml_datasetenergy ['CPI_energy2month'] = ml_datasetenergy ['CPI_energy2month'].shift(+2)\n",
    "ml_datasetenergy ['Sunhoursdaily2month'] = ml_datasetenergy ['Sunhoursdaily2month'].shift(+2)\n",
    "ml_datasetenergy ['TG2month'] = ml_datasetenergy ['TG2month'].shift(+2)\n",
    "ml_datasetenergy ['TX2month'] = ml_datasetenergy ['TX2month'].shift(+2)\n",
    "ml_datasetenergy ['TN2month'] = ml_datasetenergy ['TN2month'].shift(+1)\n",
    "ml_datasetenergy ['FG_x2month'] = ml_datasetenergy ['FG_x2month'].shift(+2)\n",
    "ml_datasetenergy ['FG_y2month'] = ml_datasetenergy ['FG_y2month'].shift(+2)\n",
    "\n",
    "# 3 month\n",
    "ml_datasetenergy ['CPI_energy3month'] = ml_datasetenergy ['CPI_energy3month'].shift(+3)\n",
    "ml_datasetenergy ['Sunhoursdaily3month'] = ml_datasetenergy ['Sunhoursdaily3month'].shift(+3)\n",
    "ml_datasetenergy ['TG3month'] = ml_datasetenergy ['TG3month'].shift(+3)\n",
    "ml_datasetenergy ['TX3month'] = ml_datasetenergy ['TX3month'].shift(+3)\n",
    "ml_datasetenergy ['TN3month'] = ml_datasetenergy ['TN3month'].shift(+3)\n",
    "ml_datasetenergy ['FG_x3month'] = ml_datasetenergy ['FG_x3month'].shift(+3)\n",
    "ml_datasetenergy ['FG_y3month'] = ml_datasetenergy ['FG_y3month'].shift(+3)\n",
    "\n",
    "# 6 month\n",
    "ml_datasetenergy ['CPI_energy6month'] = ml_datasetenergy ['CPI_energy6month'].shift(+6)\n",
    "ml_datasetenergy ['Sunhoursdaily6month'] = ml_datasetenergy ['Sunhoursdaily6month'].shift(+6)\n",
    "ml_datasetenergy ['TG6month'] = ml_datasetenergy ['TG6month'].shift(+6)\n",
    "ml_datasetenergy ['TX6month'] = ml_datasetenergy ['TX6month'].shift(+6)\n",
    "ml_datasetenergy ['TN6month'] = ml_datasetenergy ['TN6month'].shift(+6)\n",
    "ml_datasetenergy ['FG_x6month'] = ml_datasetenergy ['FG_x6month'].shift(+6)\n",
    "ml_datasetenergy ['FG_y6month'] = ml_datasetenergy ['FG_y6month'].shift(+6)\n",
    "\n",
    "# 1 year\n",
    "ml_datasetenergy ['CPI_energy1year'] = ml_datasetenergy ['CPI_energy1year'].shift(+12)\n",
    "ml_datasetenergy ['Sunhoursdaily1year'] = ml_datasetenergy ['Sunhoursdaily1year'].shift(+12)\n",
    "ml_datasetenergy ['TG1year'] = ml_datasetenergy ['TG1year'].shift(+12)\n",
    "ml_datasetenergy ['TX1year'] = ml_datasetenergy ['TX1year'].shift(+12)\n",
    "ml_datasetenergy ['TN1year'] = ml_datasetenergy ['TN1year'].shift(+12)\n",
    "ml_datasetenergy ['FG_x1year'] = ml_datasetenergy ['FG_x1year'].shift(+12)\n",
    "ml_datasetenergy ['FG_y1year'] = ml_datasetenergy ['FG_y1year'].shift(+12)"
   ]
  },
  {
   "cell_type": "code",
   "execution_count": 8,
   "id": "6a0c1ec1",
   "metadata": {},
   "outputs": [],
   "source": [
    "# The target variable as feature for ml-model\n",
    "\n",
    "# 2, 3 and 6 months and 1 year\n",
    "ml_datasetenergy ['Energyconsumption2month'] = ml_datasetenergy ['Energyconsumption']\n",
    "ml_datasetenergy ['Energyconsumption3month'] = ml_datasetenergy ['Energyconsumption']\n",
    "ml_datasetenergy ['Energyconsumption6month'] = ml_datasetenergy ['Energyconsumption']\n",
    "ml_datasetenergy ['Energyconsumption1year'] = ml_datasetenergy ['Energyconsumption']\n",
    "\n",
    "# Move the rows in the column\n",
    "ml_datasetenergy ['Energyconsumption2month'] = ml_datasetenergy ['Energyconsumption2month'].shift(+1)\n",
    "ml_datasetenergy ['Energyconsumption3month'] = ml_datasetenergy ['Energyconsumption3month'].shift(+3)\n",
    "ml_datasetenergy ['Energyconsumption6month'] = ml_datasetenergy ['Energyconsumption6month'].shift(+6)\n",
    "ml_datasetenergy ['Energyconsumption1year'] = ml_datasetenergy ['Energyconsumption1year'].shift(+12)"
   ]
  },
  {
   "cell_type": "code",
   "execution_count": 9,
   "id": "8e7071e7",
   "metadata": {},
   "outputs": [
    {
     "data": {
      "text/html": [
       "<div>\n",
       "<style scoped>\n",
       "    .dataframe tbody tr th:only-of-type {\n",
       "        vertical-align: middle;\n",
       "    }\n",
       "\n",
       "    .dataframe tbody tr th {\n",
       "        vertical-align: top;\n",
       "    }\n",
       "\n",
       "    .dataframe thead th {\n",
       "        text-align: right;\n",
       "    }\n",
       "</style>\n",
       "<table border=\"1\" class=\"dataframe\">\n",
       "  <thead>\n",
       "    <tr style=\"text-align: right;\">\n",
       "      <th></th>\n",
       "      <th>Date</th>\n",
       "      <th>CPI_energy</th>\n",
       "      <th>Energyconsumption</th>\n",
       "      <th>Sunhoursdaily</th>\n",
       "      <th>TG</th>\n",
       "      <th>TN</th>\n",
       "      <th>TX</th>\n",
       "      <th>FG_x</th>\n",
       "      <th>FG_y</th>\n",
       "      <th>CPI_energy2month</th>\n",
       "      <th>...</th>\n",
       "      <th>Sunhoursdaily1year</th>\n",
       "      <th>TG1year</th>\n",
       "      <th>TX1year</th>\n",
       "      <th>TN1year</th>\n",
       "      <th>FG_x1year</th>\n",
       "      <th>FG_y1year</th>\n",
       "      <th>Energyconsumption2month</th>\n",
       "      <th>Energyconsumption3month</th>\n",
       "      <th>Energyconsumption6month</th>\n",
       "      <th>Energyconsumption1year</th>\n",
       "    </tr>\n",
       "  </thead>\n",
       "  <tbody>\n",
       "    <tr>\n",
       "      <th>12</th>\n",
       "      <td>2001-01</td>\n",
       "      <td>62.13</td>\n",
       "      <td>9267</td>\n",
       "      <td>2.312903</td>\n",
       "      <td>2.606452</td>\n",
       "      <td>0.025806</td>\n",
       "      <td>5.332258</td>\n",
       "      <td>1.3</td>\n",
       "      <td>3.693548</td>\n",
       "      <td>55.08</td>\n",
       "      <td>...</td>\n",
       "      <td>1.806452</td>\n",
       "      <td>4.329032</td>\n",
       "      <td>6.561290</td>\n",
       "      <td>1.729032</td>\n",
       "      <td>4.0</td>\n",
       "      <td>4.219355</td>\n",
       "      <td>8844.0</td>\n",
       "      <td>8749.0</td>\n",
       "      <td>8006.0</td>\n",
       "      <td>8847.0</td>\n",
       "    </tr>\n",
       "    <tr>\n",
       "      <th>13</th>\n",
       "      <td>2001-02</td>\n",
       "      <td>62.13</td>\n",
       "      <td>8266</td>\n",
       "      <td>3.260714</td>\n",
       "      <td>4.467857</td>\n",
       "      <td>1.153571</td>\n",
       "      <td>7.792857</td>\n",
       "      <td>3.5</td>\n",
       "      <td>3.639286</td>\n",
       "      <td>55.08</td>\n",
       "      <td>...</td>\n",
       "      <td>3.682759</td>\n",
       "      <td>5.855172</td>\n",
       "      <td>8.941379</td>\n",
       "      <td>2.537931</td>\n",
       "      <td>4.6</td>\n",
       "      <td>4.748276</td>\n",
       "      <td>9267.0</td>\n",
       "      <td>8892.0</td>\n",
       "      <td>8119.0</td>\n",
       "      <td>8235.0</td>\n",
       "    </tr>\n",
       "    <tr>\n",
       "      <th>14</th>\n",
       "      <td>2001-03</td>\n",
       "      <td>62.13</td>\n",
       "      <td>8962</td>\n",
       "      <td>2.041935</td>\n",
       "      <td>4.945161</td>\n",
       "      <td>1.835484</td>\n",
       "      <td>8.032258</td>\n",
       "      <td>3.3</td>\n",
       "      <td>3.829032</td>\n",
       "      <td>62.13</td>\n",
       "      <td>...</td>\n",
       "      <td>2.583871</td>\n",
       "      <td>6.796774</td>\n",
       "      <td>10.112903</td>\n",
       "      <td>3.361290</td>\n",
       "      <td>1.5</td>\n",
       "      <td>3.980645</td>\n",
       "      <td>8266.0</td>\n",
       "      <td>8844.0</td>\n",
       "      <td>8217.0</td>\n",
       "      <td>8738.0</td>\n",
       "    </tr>\n",
       "    <tr>\n",
       "      <th>15</th>\n",
       "      <td>2001-04</td>\n",
       "      <td>60.14</td>\n",
       "      <td>8156</td>\n",
       "      <td>4.830000</td>\n",
       "      <td>8.283333</td>\n",
       "      <td>4.090000</td>\n",
       "      <td>12.580000</td>\n",
       "      <td>3.5</td>\n",
       "      <td>3.926667</td>\n",
       "      <td>62.13</td>\n",
       "      <td>...</td>\n",
       "      <td>5.116667</td>\n",
       "      <td>9.986667</td>\n",
       "      <td>14.753333</td>\n",
       "      <td>5.186667</td>\n",
       "      <td>1.9</td>\n",
       "      <td>3.553333</td>\n",
       "      <td>8962.0</td>\n",
       "      <td>9267.0</td>\n",
       "      <td>8749.0</td>\n",
       "      <td>7912.0</td>\n",
       "    </tr>\n",
       "    <tr>\n",
       "      <th>16</th>\n",
       "      <td>2001-05</td>\n",
       "      <td>60.14</td>\n",
       "      <td>8304</td>\n",
       "      <td>8.941935</td>\n",
       "      <td>14.141935</td>\n",
       "      <td>8.522581</td>\n",
       "      <td>19.358065</td>\n",
       "      <td>4.0</td>\n",
       "      <td>3.835484</td>\n",
       "      <td>62.13</td>\n",
       "      <td>...</td>\n",
       "      <td>6.780645</td>\n",
       "      <td>14.732258</td>\n",
       "      <td>20.022581</td>\n",
       "      <td>9.274194</td>\n",
       "      <td>3.8</td>\n",
       "      <td>3.496774</td>\n",
       "      <td>8156.0</td>\n",
       "      <td>8266.0</td>\n",
       "      <td>8892.0</td>\n",
       "      <td>8221.0</td>\n",
       "    </tr>\n",
       "  </tbody>\n",
       "</table>\n",
       "<p>5 rows × 41 columns</p>\n",
       "</div>"
      ],
      "text/plain": [
       "       Date  CPI_energy  Energyconsumption  Sunhoursdaily         TG  \\\n",
       "12  2001-01       62.13               9267       2.312903   2.606452   \n",
       "13  2001-02       62.13               8266       3.260714   4.467857   \n",
       "14  2001-03       62.13               8962       2.041935   4.945161   \n",
       "15  2001-04       60.14               8156       4.830000   8.283333   \n",
       "16  2001-05       60.14               8304       8.941935  14.141935   \n",
       "\n",
       "          TN         TX  FG_x      FG_y  CPI_energy2month  ...  \\\n",
       "12  0.025806   5.332258   1.3  3.693548             55.08  ...   \n",
       "13  1.153571   7.792857   3.5  3.639286             55.08  ...   \n",
       "14  1.835484   8.032258   3.3  3.829032             62.13  ...   \n",
       "15  4.090000  12.580000   3.5  3.926667             62.13  ...   \n",
       "16  8.522581  19.358065   4.0  3.835484             62.13  ...   \n",
       "\n",
       "    Sunhoursdaily1year    TG1year    TX1year   TN1year  FG_x1year  FG_y1year  \\\n",
       "12            1.806452   4.329032   6.561290  1.729032        4.0   4.219355   \n",
       "13            3.682759   5.855172   8.941379  2.537931        4.6   4.748276   \n",
       "14            2.583871   6.796774  10.112903  3.361290        1.5   3.980645   \n",
       "15            5.116667   9.986667  14.753333  5.186667        1.9   3.553333   \n",
       "16            6.780645  14.732258  20.022581  9.274194        3.8   3.496774   \n",
       "\n",
       "    Energyconsumption2month  Energyconsumption3month  Energyconsumption6month  \\\n",
       "12                   8844.0                   8749.0                   8006.0   \n",
       "13                   9267.0                   8892.0                   8119.0   \n",
       "14                   8266.0                   8844.0                   8217.0   \n",
       "15                   8962.0                   9267.0                   8749.0   \n",
       "16                   8156.0                   8266.0                   8892.0   \n",
       "\n",
       "    Energyconsumption1year  \n",
       "12                  8847.0  \n",
       "13                  8235.0  \n",
       "14                  8738.0  \n",
       "15                  7912.0  \n",
       "16                  8221.0  \n",
       "\n",
       "[5 rows x 41 columns]"
      ]
     },
     "execution_count": 9,
     "metadata": {},
     "output_type": "execute_result"
    }
   ],
   "source": [
    "# Make a new dataframe without the NAN values\n",
    "ml_datasetenergy01 = ml_datasetenergy.copy()\n",
    "ml_datasetenergy01 = ml_datasetenergy01.drop(labels=range(0,12), axis=0) # Range 0-12 because of the shift +12\n",
    "\n",
    "ml_datasetenergy01.columns = ml_datasetenergy01.columns.str.strip()\n",
    "\n",
    "ml_datasetenergy01.head()"
   ]
  },
  {
   "cell_type": "markdown",
   "id": "ab30d61a",
   "metadata": {},
   "source": [
    "#### Split the 'Date' column in a in a year and month column"
   ]
  },
  {
   "cell_type": "code",
   "execution_count": 10,
   "id": "bff0ea8c",
   "metadata": {},
   "outputs": [
    {
     "data": {
      "text/html": [
       "<div>\n",
       "<style scoped>\n",
       "    .dataframe tbody tr th:only-of-type {\n",
       "        vertical-align: middle;\n",
       "    }\n",
       "\n",
       "    .dataframe tbody tr th {\n",
       "        vertical-align: top;\n",
       "    }\n",
       "\n",
       "    .dataframe thead th {\n",
       "        text-align: right;\n",
       "    }\n",
       "</style>\n",
       "<table border=\"1\" class=\"dataframe\">\n",
       "  <thead>\n",
       "    <tr style=\"text-align: right;\">\n",
       "      <th></th>\n",
       "      <th>Date</th>\n",
       "      <th>CPI_energy</th>\n",
       "      <th>Energyconsumption</th>\n",
       "      <th>Sunhoursdaily</th>\n",
       "      <th>TG</th>\n",
       "      <th>TN</th>\n",
       "      <th>TX</th>\n",
       "      <th>FG_x</th>\n",
       "      <th>FG_y</th>\n",
       "      <th>CPI_energy2month</th>\n",
       "      <th>...</th>\n",
       "      <th>TX1year</th>\n",
       "      <th>TN1year</th>\n",
       "      <th>FG_x1year</th>\n",
       "      <th>FG_y1year</th>\n",
       "      <th>Energyconsumption2month</th>\n",
       "      <th>Energyconsumption3month</th>\n",
       "      <th>Energyconsumption6month</th>\n",
       "      <th>Energyconsumption1year</th>\n",
       "      <th>Year</th>\n",
       "      <th>Month</th>\n",
       "    </tr>\n",
       "  </thead>\n",
       "  <tbody>\n",
       "    <tr>\n",
       "      <th>12</th>\n",
       "      <td>2001-01</td>\n",
       "      <td>62.13</td>\n",
       "      <td>9267</td>\n",
       "      <td>2.312903</td>\n",
       "      <td>2.606452</td>\n",
       "      <td>0.025806</td>\n",
       "      <td>5.332258</td>\n",
       "      <td>1.3</td>\n",
       "      <td>3.693548</td>\n",
       "      <td>55.08</td>\n",
       "      <td>...</td>\n",
       "      <td>6.561290</td>\n",
       "      <td>1.729032</td>\n",
       "      <td>4.0</td>\n",
       "      <td>4.219355</td>\n",
       "      <td>8844.0</td>\n",
       "      <td>8749.0</td>\n",
       "      <td>8006.0</td>\n",
       "      <td>8847.0</td>\n",
       "      <td>2001</td>\n",
       "      <td>1</td>\n",
       "    </tr>\n",
       "    <tr>\n",
       "      <th>13</th>\n",
       "      <td>2001-02</td>\n",
       "      <td>62.13</td>\n",
       "      <td>8266</td>\n",
       "      <td>3.260714</td>\n",
       "      <td>4.467857</td>\n",
       "      <td>1.153571</td>\n",
       "      <td>7.792857</td>\n",
       "      <td>3.5</td>\n",
       "      <td>3.639286</td>\n",
       "      <td>55.08</td>\n",
       "      <td>...</td>\n",
       "      <td>8.941379</td>\n",
       "      <td>2.537931</td>\n",
       "      <td>4.6</td>\n",
       "      <td>4.748276</td>\n",
       "      <td>9267.0</td>\n",
       "      <td>8892.0</td>\n",
       "      <td>8119.0</td>\n",
       "      <td>8235.0</td>\n",
       "      <td>2001</td>\n",
       "      <td>2</td>\n",
       "    </tr>\n",
       "    <tr>\n",
       "      <th>14</th>\n",
       "      <td>2001-03</td>\n",
       "      <td>62.13</td>\n",
       "      <td>8962</td>\n",
       "      <td>2.041935</td>\n",
       "      <td>4.945161</td>\n",
       "      <td>1.835484</td>\n",
       "      <td>8.032258</td>\n",
       "      <td>3.3</td>\n",
       "      <td>3.829032</td>\n",
       "      <td>62.13</td>\n",
       "      <td>...</td>\n",
       "      <td>10.112903</td>\n",
       "      <td>3.361290</td>\n",
       "      <td>1.5</td>\n",
       "      <td>3.980645</td>\n",
       "      <td>8266.0</td>\n",
       "      <td>8844.0</td>\n",
       "      <td>8217.0</td>\n",
       "      <td>8738.0</td>\n",
       "      <td>2001</td>\n",
       "      <td>3</td>\n",
       "    </tr>\n",
       "    <tr>\n",
       "      <th>15</th>\n",
       "      <td>2001-04</td>\n",
       "      <td>60.14</td>\n",
       "      <td>8156</td>\n",
       "      <td>4.830000</td>\n",
       "      <td>8.283333</td>\n",
       "      <td>4.090000</td>\n",
       "      <td>12.580000</td>\n",
       "      <td>3.5</td>\n",
       "      <td>3.926667</td>\n",
       "      <td>62.13</td>\n",
       "      <td>...</td>\n",
       "      <td>14.753333</td>\n",
       "      <td>5.186667</td>\n",
       "      <td>1.9</td>\n",
       "      <td>3.553333</td>\n",
       "      <td>8962.0</td>\n",
       "      <td>9267.0</td>\n",
       "      <td>8749.0</td>\n",
       "      <td>7912.0</td>\n",
       "      <td>2001</td>\n",
       "      <td>4</td>\n",
       "    </tr>\n",
       "    <tr>\n",
       "      <th>16</th>\n",
       "      <td>2001-05</td>\n",
       "      <td>60.14</td>\n",
       "      <td>8304</td>\n",
       "      <td>8.941935</td>\n",
       "      <td>14.141935</td>\n",
       "      <td>8.522581</td>\n",
       "      <td>19.358065</td>\n",
       "      <td>4.0</td>\n",
       "      <td>3.835484</td>\n",
       "      <td>62.13</td>\n",
       "      <td>...</td>\n",
       "      <td>20.022581</td>\n",
       "      <td>9.274194</td>\n",
       "      <td>3.8</td>\n",
       "      <td>3.496774</td>\n",
       "      <td>8156.0</td>\n",
       "      <td>8266.0</td>\n",
       "      <td>8892.0</td>\n",
       "      <td>8221.0</td>\n",
       "      <td>2001</td>\n",
       "      <td>5</td>\n",
       "    </tr>\n",
       "  </tbody>\n",
       "</table>\n",
       "<p>5 rows × 43 columns</p>\n",
       "</div>"
      ],
      "text/plain": [
       "       Date  CPI_energy  Energyconsumption  Sunhoursdaily         TG  \\\n",
       "12  2001-01       62.13               9267       2.312903   2.606452   \n",
       "13  2001-02       62.13               8266       3.260714   4.467857   \n",
       "14  2001-03       62.13               8962       2.041935   4.945161   \n",
       "15  2001-04       60.14               8156       4.830000   8.283333   \n",
       "16  2001-05       60.14               8304       8.941935  14.141935   \n",
       "\n",
       "          TN         TX  FG_x      FG_y  CPI_energy2month  ...    TX1year  \\\n",
       "12  0.025806   5.332258   1.3  3.693548             55.08  ...   6.561290   \n",
       "13  1.153571   7.792857   3.5  3.639286             55.08  ...   8.941379   \n",
       "14  1.835484   8.032258   3.3  3.829032             62.13  ...  10.112903   \n",
       "15  4.090000  12.580000   3.5  3.926667             62.13  ...  14.753333   \n",
       "16  8.522581  19.358065   4.0  3.835484             62.13  ...  20.022581   \n",
       "\n",
       "     TN1year  FG_x1year  FG_y1year  Energyconsumption2month  \\\n",
       "12  1.729032        4.0   4.219355                   8844.0   \n",
       "13  2.537931        4.6   4.748276                   9267.0   \n",
       "14  3.361290        1.5   3.980645                   8266.0   \n",
       "15  5.186667        1.9   3.553333                   8962.0   \n",
       "16  9.274194        3.8   3.496774                   8156.0   \n",
       "\n",
       "    Energyconsumption3month  Energyconsumption6month  Energyconsumption1year  \\\n",
       "12                   8749.0                   8006.0                  8847.0   \n",
       "13                   8892.0                   8119.0                  8235.0   \n",
       "14                   8844.0                   8217.0                  8738.0   \n",
       "15                   9267.0                   8749.0                  7912.0   \n",
       "16                   8266.0                   8892.0                  8221.0   \n",
       "\n",
       "    Year  Month  \n",
       "12  2001      1  \n",
       "13  2001      2  \n",
       "14  2001      3  \n",
       "15  2001      4  \n",
       "16  2001      5  \n",
       "\n",
       "[5 rows x 43 columns]"
      ]
     },
     "execution_count": 10,
     "metadata": {},
     "output_type": "execute_result"
    }
   ],
   "source": [
    "# Split the date column in year and month columns because some ML-models work better that way \n",
    "ml_datasetenergy01[[\"Year\", \"Month\"]] = ml_datasetenergy01[\"Date\"].str.split(\"-\", expand = True)\n",
    "\n",
    "# Make the year and month columns digits\n",
    "ml_datasetenergy01 ['Year'] = ml_datasetenergy01['Year'].str.extract('(\\d+)', expand=False).astype(int)\n",
    "ml_datasetenergy01 ['Month'] = ml_datasetenergy01['Month'].str.extract('(\\d+)', expand=False).astype(int)\n",
    "\n",
    "# Copy\n",
    "ml_datasetenergy02 = ml_datasetenergy01.copy()\n",
    "\n",
    "# Show the new dataframe\n",
    "ml_datasetenergy02.head()"
   ]
  },
  {
   "cell_type": "markdown",
   "id": "647c5873",
   "metadata": {},
   "source": [
    "### Save the dataset as a 'csv file'"
   ]
  },
  {
   "cell_type": "code",
   "execution_count": 11,
   "id": "03abeea5",
   "metadata": {},
   "outputs": [],
   "source": [
    "ml_datasetenergy02.to_csv('datasetenergyprediction')"
   ]
  },
  {
   "cell_type": "markdown",
   "id": "af837dce",
   "metadata": {},
   "source": [
    "## Visualate the relations in the dataset"
   ]
  },
  {
   "cell_type": "markdown",
   "id": "8a2eb3b3",
   "metadata": {},
   "source": [
    "Visualising data is very important. This is because it allows, for instance, patterns or outliers in the dataset to become visible. Which in turn allows certain trends to be visualised (Tableau, s.d.). An important part of the study was to demonstrate the relationship between trends and energy consumption. This is done based on correlation calculations and these are also made visible in a scatterplot. Correlation shows the relationship between a feature and a target variable (Menon, 2022). "
   ]
  },
  {
   "cell_type": "markdown",
   "id": "c9595a2e",
   "metadata": {},
   "source": [
    "### Scatterplot with random column"
   ]
  },
  {
   "cell_type": "markdown",
   "id": "9adb3d04",
   "metadata": {},
   "source": [
    "Run the next cell again for another plot with a different column (feature) from the dataset. The scatterplot shows the relationship between a random feature and the target variable. "
   ]
  },
  {
   "cell_type": "markdown",
   "id": "92d6d29e",
   "metadata": {},
   "source": [
    "#### The visualisation"
   ]
  },
  {
   "cell_type": "code",
   "execution_count": 12,
   "id": "ab1a49c8",
   "metadata": {},
   "outputs": [
    {
     "data": {
      "image/png": "[encoded data removed]",
      "text/plain": [
       "<Figure size 432x288 with 1 Axes>"
      ]
     },
     "metadata": {
      "needs_background": "light"
     },
     "output_type": "display_data"
    }
   ],
   "source": [
    "# Make a random column generator\n",
    "rnd_col = rnd.choice(ml_datasetenergy02.columns)\n",
    "\n",
    "# Give the x and y\n",
    "x = ml_datasetenergy02[rnd_col]\n",
    "y = ml_datasetenergy02['Energyconsumption']\n",
    "\n",
    "# Make a regression line from the Pearson correlation coefficient\n",
    "slope, intercept, r, p, stderr = scipy.stats.linregress(x, y)\n",
    "\n",
    "# Relation between the regression line and the value of the correlation coefficient\n",
    "line = f'Regression line: y={intercept:.2f}+{slope:.2f}x, r={r:.2f}'\n",
    "line\n",
    "\n",
    "# Make the plot\n",
    "fig, ax = plt.subplots()\n",
    "\n",
    "ax.plot(x, y, linewidth=0, marker='s', label='Data points')\n",
    "ax.plot(x, intercept + slope * x, label=line)\n",
    "ax.set_xlabel(rnd_col)\n",
    "ax.set_ylabel('Energy consumption')\n",
    "ax.legend(facecolor='white')\n",
    "\n",
    "plt.title(\"Random plot from dataset\")\n",
    "plt.show()"
   ]
  },
  {
   "cell_type": "markdown",
   "id": "92ebc950",
   "metadata": {},
   "source": [
    "## Machine learning"
   ]
  },
  {
   "cell_type": "markdown",
   "id": "83cdd698",
   "metadata": {},
   "source": [
    "Regression models are used for prediction for two reasons. Regression is necessary because the target variable is continuous. It is also not possible to create a neural network because it is a black box and cannot say anything about the characteristics which was a key requirement of the client (Ying, 2021). \n",
    "\n",
    "The machine learning model for prediction is measured in two ways. First, it looks at the mean squared error. The mean squared error assesses the average squared difference between the observed and predicted values (Jim Frost, z.d.). This is important for the study because it should be as low as possible. The number of KwH wrongly predicted is the lower, the better. \n",
    "\n",
    "We also look at the R-squared. That is a statistical way of representing the proportion of variance for a dependent variable so that it is explained by an independent variable or variables in a regression model. In the case of the study, it should be high because the relationship between the target variable and the features is very important  (Fernando, 2021). "
   ]
  },
  {
   "cell_type": "markdown",
   "id": "6841c68b",
   "metadata": {},
   "source": [
    "### Prediction based on the energyconsumption of the year before (no machine learning)"
   ]
  },
  {
   "cell_type": "markdown",
   "id": "5d4c8aa2",
   "metadata": {},
   "source": [
    "the scatterplot above shows that there is a strong correlation (0.93) between energy consumption and time series energy consumption a year ago. This relationship is explored further below. This is done based on the mean squared error (further explained above). \n",
    "\n",
    "First, we look at the mean squared error per month based on the same month in that previous year over the data of the past 21 years. This is calculated for each month. An average is then calculated from this. \n",
    "\n",
    "The resulting mean squared error is leading for the conclusions that can be drawn from the operation of the machine learning model. Namely, it means that it must be lower than what comes out of this calculation. Otherwise, better predictions can be made just based on the same month the year before. "
   ]
  },
  {
   "cell_type": "markdown",
   "id": "da85e058",
   "metadata": {},
   "source": [
    "#### Calculation "
   ]
  },
  {
   "cell_type": "code",
   "execution_count": 13,
   "id": "2dd10d01",
   "metadata": {},
   "outputs": [
    {
     "data": {
      "text/plain": [
       "198.24603174603178"
      ]
     },
     "execution_count": 13,
     "metadata": {},
     "output_type": "execute_result"
    }
   ],
   "source": [
    "# Make dataframes of the months\n",
    "january_prediction = ml_datasetenergy02[ml_datasetenergy02['Month'] == 1]\n",
    "february_prediction = ml_datasetenergy02[ml_datasetenergy02['Month'] == 2]\n",
    "march_prediction = ml_datasetenergy02[ml_datasetenergy02['Month'] == 3]\n",
    "april_prediction = ml_datasetenergy02[ml_datasetenergy02['Month'] == 4]\n",
    "may_prediction = ml_datasetenergy02[ml_datasetenergy02['Month'] == 5]\n",
    "june_prediction = ml_datasetenergy02[ml_datasetenergy02['Month'] == 6]\n",
    "july_prediction = ml_datasetenergy02[ml_datasetenergy02['Month'] == 7]\n",
    "august_prediction = ml_datasetenergy02[ml_datasetenergy02['Month'] == 8]\n",
    "september_prediction = ml_datasetenergy02[ml_datasetenergy02['Month'] == 9]\n",
    "october_prediction = ml_datasetenergy02[ml_datasetenergy02['Month'] == 10]\n",
    "november_prediction = ml_datasetenergy02[ml_datasetenergy02['Month'] == 11]\n",
    "december_prediction = ml_datasetenergy02[ml_datasetenergy02['Month'] == 12]\n",
    "\n",
    "\n",
    "# Calculate the mean\n",
    "january_prediction01 = np.mean(np.sqrt((january_prediction['Energyconsumption'] - january_prediction['Energyconsumption1year'])**2))\n",
    "february_prediction01 = np.mean(np.sqrt((february_prediction['Energyconsumption'] - february_prediction['Energyconsumption1year'])**2))\n",
    "march_prediction01 = np.mean(np.sqrt((march_prediction['Energyconsumption'] - march_prediction['Energyconsumption1year'])**2))\n",
    "april_prediction01 = np.mean(np.sqrt((april_prediction['Energyconsumption'] - april_prediction['Energyconsumption1year'])**2))\n",
    "may_prediction01 = np.mean(np.sqrt((may_prediction['Energyconsumption'] - may_prediction['Energyconsumption1year'])**2))\n",
    "june_prediction01 = np.mean(np.sqrt((june_prediction['Energyconsumption'] - june_prediction['Energyconsumption1year'])**2))\n",
    "july_prediction01 = np.mean(np.sqrt((july_prediction['Energyconsumption'] - july_prediction['Energyconsumption1year'])**2))\n",
    "august_prediction01 = np.mean(np.sqrt((august_prediction['Energyconsumption'] - august_prediction['Energyconsumption1year'])**2))\n",
    "september_prediction01 = np.mean(np.sqrt((september_prediction['Energyconsumption'] - september_prediction['Energyconsumption1year'])**2))\n",
    "october_prediction01 = np.mean(np.sqrt((october_prediction['Energyconsumption'] - october_prediction['Energyconsumption1year'])**2))\n",
    "november_prediction01 = np.mean(np.sqrt((november_prediction['Energyconsumption'] - november_prediction['Energyconsumption1year'])**2))\n",
    "december_prediction01 = np.mean(np.sqrt((december_prediction['Energyconsumption'] - december_prediction['Energyconsumption1year'])**2))\n",
    "\n",
    "# Make an dataframe of the total mean\n",
    "total_mean = [january_prediction01, february_prediction01, march_prediction01, april_prediction01, may_prediction01, june_prediction01, july_prediction01, august_prediction01, september_prediction01, october_prediction01, november_prediction01, december_prediction01]\n",
    "\n",
    "# Make a mean of all the predictions\n",
    "prediction_based_on_last_year = sum(total_mean)/12\n",
    "\n",
    "# Show the result\n",
    "prediction_based_on_last_year"
   ]
  },
  {
   "cell_type": "markdown",
   "id": "31336f35",
   "metadata": {},
   "source": [
    "#### Conclusion prediction based on last year"
   ]
  },
  {
   "cell_type": "markdown",
   "id": "cc08aab9",
   "metadata": {},
   "source": [
    "The mean squared error of the model should be less than 198.25. This means that the model is better than a simple prediction based on the previous year. The best month to predict based on the previous year is September. The worst month is January. "
   ]
  },
  {
   "cell_type": "markdown",
   "id": "31709db1",
   "metadata": {},
   "source": [
    "### Feature selection for the  regression model"
   ]
  },
  {
   "cell_type": "markdown",
   "id": "b529f825",
   "metadata": {},
   "source": [
    "A paper on effective features to predict energy consumption says that a key input for machine learning models to predict energy consumption is feature selection. This improves prediction performance and it helps researchers better understand the underlying process (Zhao, 2019)."
   ]
  },
  {
   "cell_type": "markdown",
   "id": "ad379aca",
   "metadata": {},
   "source": [
    "#### What happens in feature selection? "
   ]
  },
  {
   "attachments": {},
   "cell_type": "markdown",
   "id": "12672566",
   "metadata": {},
   "source": [
    "The dataset contains 32 features. These are the input variables for machine learning models. To train the model, it is important that the essential features are in the model. This does not mean that all features from the dataset are essential. Feature selection allows the model to learn unimportant patterns and learn from noise. If the noise is in the model, the output of the model is also not good. Feature selection does not change the feature. It only looks at those that are important as inputs to the model. Since the input variables are numeric and so is the output variable, the best feature selection method is correlation (Menon, 2022). "
   ]
  },
  {
   "cell_type": "markdown",
   "id": "a9d197dc",
   "metadata": {},
   "source": [
    "#### Correlation feature selection"
   ]
  },
  {
   "cell_type": "markdown",
   "id": "a104a172",
   "metadata": {},
   "source": [
    "The machine learning models choice is regression (Ying, 2021). In most regression models, the correlation between the target variable and the characteristics is important. The stronger the correlation, the stronger the model. Therefore, a correlation characteristic is selected first. A higher score means a stronger correlation with the target variable (Brownlee, 2020). "
   ]
  },
  {
   "cell_type": "code",
   "execution_count": 14,
   "id": "d0576401",
   "metadata": {
    "scrolled": false
   },
   "outputs": [
    {
     "name": "stdout",
     "output_type": "stream",
     "text": [
      "Feature 0: CPI_energy1year - 19.395095\n",
      "Feature 1: Sunhoursdaily1year - 124.939985\n",
      "Feature 2: TG1year - 107.228075\n",
      "Feature 3: TX1year - 127.563694\n",
      "Feature 4: TN1year - 79.536614\n",
      "Feature 5: FG_x1year - 2.293997\n",
      "Feature 6: FG_y1year - 35.522787\n",
      "Feature 7: CPI_energy2month - 13.339460\n",
      "Feature 8: Sunhoursdaily2month - 32.806360\n",
      "Feature 9: TG2month - 1.093218\n",
      "Feature 10: TX2month - 1.093218\n",
      "Feature 11: TN2month - 25.823847\n",
      "Feature 12: FG_x2month - 0.390140\n",
      "Feature 13: FG_y2month - 0.195177\n",
      "Feature 14: CPI_energy3month - 10.563973\n",
      "Feature 15: Sunhoursdaily3month - 0.557879\n",
      "Feature 16: TG3month - 14.649105\n",
      "Feature 17: TX3month - 11.488363\n",
      "Feature 18: TN3month - 22.584469\n",
      "Feature 19: FG_x3month - 1.918701\n",
      "Feature 20: FG_y3month - 11.343410\n",
      "Feature 21: CPI_energy6month - 15.018424\n",
      "Feature 22: Sunhoursdaily6month - 98.775683\n",
      "Feature 23: TG6month - 127.543926\n",
      "Feature 24: TX6month - 126.755391\n",
      "Feature 25: TN6month - 111.220456\n",
      "Feature 26: FG_x6month - 0.940306\n",
      "Feature 27: FG_y6month - 26.642842\n",
      "Feature 28: Energyconsumption2month - 94.385353\n",
      "Feature 29: Energyconsumption3month - 1.794539\n",
      "Feature 30: Energyconsumption6month - 39.095117\n",
      "Feature 31: Energyconsumption1year - 954.061777\n"
     ]
    },
    {
     "data": {
      "image/png": "[encoded data removed]",
      "text/plain": [
       "<Figure size 432x288 with 1 Axes>"
      ]
     },
     "metadata": {
      "needs_background": "light"
     },
     "output_type": "display_data"
    }
   ],
   "source": [
    "# Import new packages \n",
    "from sklearn.linear_model import LinearRegression\n",
    "from sklearn.datasets import make_regression\n",
    "from sklearn.model_selection import train_test_split\n",
    "from sklearn.feature_selection import SelectKBest\n",
    "from sklearn.feature_selection import f_regression\n",
    "\n",
    "# Make a x and y from the dataset\n",
    "x = ml_datasetenergy02[['CPI_energy1year', 'Sunhoursdaily1year', 'TG1year', 'TX1year', 'TN1year','FG_x1year','FG_y1year', 'CPI_energy2month', 'Sunhoursdaily2month', 'TG2month', 'TX2month', 'TN2month', 'FG_x2month', 'FG_y2month', 'CPI_energy3month', 'Sunhoursdaily3month', 'TG3month', 'TX3month', 'TN3month', 'FG_x3month', 'FG_y3month', 'CPI_energy6month', 'Sunhoursdaily6month', 'TG6month', 'TX6month', 'TN6month', 'FG_x6month', 'FG_y6month','Energyconsumption2month', 'Energyconsumption3month', 'Energyconsumption6month','Energyconsumption1year']]\n",
    "y = ml_datasetenergy02['Energyconsumption']\n",
    "\n",
    "# Split the dataset in training- and test data\n",
    "x_train, x_test, y_train, y_test = train_test_split(x, y, test_size=0.33, random_state=1)\n",
    "\n",
    "# Make the regressionmodel \n",
    "regressionmodel = LinearRegression() # Make the linear regressionmodel\n",
    "regressionmodel.fit(x_train, y_train) # Fit the model\n",
    "\n",
    "# Define the feature selection \n",
    "def select_features(x_train, y_train, x_test):\n",
    "    feature_selection = SelectKBest(score_func=f_regression, k='all') # Get all the features from the dataset\n",
    "    feature_selection.fit(x_train, y_train) # Important: see the relationship (learning) in the training data\n",
    "    x_train_feature_selection = feature_selection.transform(x_train) # convert the train input data\n",
    "    x_test_feature_selection = feature_selection.transform(x_test)   # convert the test input data\n",
    "    return x_train_feature_selection, x_test_feature_selection, feature_selection # Return the converted data\n",
    "\n",
    "# Get the feature selection\n",
    "x_train_feature_selection, x_test_feature_selection, feature_selection = select_features(x_train, y_train, x_test)\n",
    "\n",
    "# Get the scores of the features   \n",
    "for columns, score, i in zip(x.columns, feature_selection.scores_, range(len(feature_selection.scores_))): # Create a zip because of the multiple variables\n",
    "    print('Feature %d: %s - %f' % (i, columns, score)) # Print as Feature, number of feature (0-31), feature name and score\n",
    "\n",
    "# Show the scores in a plot\n",
    "fig = plt.figure() # Make a figure\n",
    "\n",
    "plt.bar([i for i in range(len(feature_selection.scores_))], feature_selection.scores_) # Create a function in the plotbar that shows the scores and the number of the feature. \n",
    "\n",
    "# Specify the figure\n",
    "fig.suptitle('Feature selection regression model')\n",
    "plt.xlabel('Features')\n",
    "plt.ylabel('Scores')\n",
    "\n",
    "plt.show()\n"
   ]
  },
  {
   "cell_type": "markdown",
   "id": "b966a11a",
   "metadata": {},
   "source": [
    "#### How much features in the model? "
   ]
  },
  {
   "cell_type": "markdown",
   "id": "fdd21f0f",
   "metadata": {},
   "source": [
    "Now that it is clear which features have a higher correlation with the target variable, it is important to calculate how many features are included in the model. This is called a grid search. In this grid search the k argument to the SelectKBest class can be tuned (Brownlee, 2020)."
   ]
  },
  {
   "cell_type": "code",
   "execution_count": 15,
   "id": "6874e70b",
   "metadata": {},
   "outputs": [
    {
     "name": "stdout",
     "output_type": "stream",
     "text": [
      "Best MAE: -52092.987\n",
      "Best Config: {'sel__k': 16}\n",
      ">-53860.149 with: {'sel__k': 12}\n",
      ">-53902.995 with: {'sel__k': 13}\n",
      ">-53207.030 with: {'sel__k': 14}\n",
      ">-52492.453 with: {'sel__k': 15}\n",
      ">-52092.987 with: {'sel__k': 16}\n",
      ">-52294.248 with: {'sel__k': 17}\n",
      ">-52609.497 with: {'sel__k': 18}\n",
      ">-52551.762 with: {'sel__k': 19}\n",
      ">-52604.920 with: {'sel__k': 20}\n",
      ">-52909.071 with: {'sel__k': 21}\n",
      ">-53443.229 with: {'sel__k': 22}\n",
      ">-53549.791 with: {'sel__k': 23}\n",
      ">-53576.885 with: {'sel__k': 24}\n",
      ">-53773.417 with: {'sel__k': 25}\n",
      ">-54606.009 with: {'sel__k': 26}\n",
      ">-54569.443 with: {'sel__k': 27}\n",
      ">-55463.615 with: {'sel__k': 28}\n",
      ">-56457.127 with: {'sel__k': 29}\n",
      ">-56339.426 with: {'sel__k': 30}\n",
      ">-56618.916 with: {'sel__k': 31}\n",
      ">-56921.625 with: {'sel__k': 32}\n"
     ]
    }
   ],
   "source": [
    "# Import new packages\n",
    "from sklearn.model_selection import RepeatedKFold\n",
    "from sklearn.feature_selection import mutual_info_regression\n",
    "from sklearn.linear_model import LinearRegression\n",
    "from sklearn.pipeline import Pipeline\n",
    "from sklearn.model_selection import GridSearchCV\n",
    "\n",
    "# Define the evaluation method. Chose for cross validation. Cross-validation is a resampling procedure used to evaluate machine learning models on a limited data sample (Brownlee, 2018. \n",
    "cv = RepeatedKFold(n_splits=10, n_repeats=3, random_state=1) # \n",
    "\n",
    "# Define the pipeline to evaluate. Prepares the feature selection transform on the training set and applies it to the train set and test set for each fold of the cross-validation.\n",
    "model_feature_selection = LinearRegression()\n",
    "method_feature_selection = SelectKBest(score_func=mutual_info_regression)\n",
    "pipeline = Pipeline(steps=[('sel',method_feature_selection), ('lr', model_feature_selection)]) # Also defined a name 'sel'\n",
    "\n",
    "# Make the grid\n",
    "grid = dict()\n",
    "grid['sel__k'] = [i for i in range(x.shape[1]-20, x.shape[1]+1)] # Can access it because of the name (sel)\n",
    "\n",
    "# Make the grid search. The score becomes negative because of the scikit-learn packages use. \n",
    "search_feature_selection = GridSearchCV(pipeline, grid, scoring='neg_mean_squared_error', n_jobs=-1, cv=cv) # Score needs to be maximized\n",
    "\n",
    "# Create the search\n",
    "results_feature_selection = search_feature_selection.fit(x, y) # Looks at the performance\n",
    "\n",
    "# Make a selection of the best\n",
    "print('Best MAE: %.3f' % results_feature_selection .best_score_) # Looks at the best MAE\n",
    "print('Best Config: %s' % results_feature_selection .best_params_) # Looks at the config\n",
    "\n",
    "# Make a summarized selection of all\n",
    "means_feature_selection = results_feature_selection.cv_results_['mean_test_score'] \n",
    "params_feature_selection = results_feature_selection.cv_results_['params']\n",
    "\n",
    "# Show the selection\n",
    "for mean_feature_selection, params_feature_selection in zip(means_feature_selection, params_feature_selection): # Create a zip because of the multiple variables\n",
    "    print(\">%.3f with: %r\" % (mean_feature_selection, params_feature_selection)) #  Shows the combination of the best outcomes from the calculation"
   ]
  },
  {
   "cell_type": "markdown",
   "id": "784ff702",
   "metadata": {},
   "source": [
    "#### Conclusion from feature selection"
   ]
  },
  {
   "cell_type": "markdown",
   "id": "f3080e19",
   "metadata": {},
   "source": [
    "The first key finding is that there is a very high correlation between the target variable and the previous year's feature energy consumption. Much higher than the rest of the features. But the second conclusion is that the ideal number of features is 17, so the best 17 features are included in the machine learning model. These are the features below in order of high to low score.\n",
    "                     \n",
    "1. Energyconsumption1year\n",
    "2. TX1year               \n",
    "3. TG6month              \n",
    "4. TX6month\n",
    "5. Sunhoursdaily1year\n",
    "6. TN6month\n",
    "7. TG1year\n",
    "8. Sunhoursdaily6month\n",
    "9. Energyconsumption2month\n",
    "10. TN1year\n",
    "11. Energyconsumption6month\n",
    "12. FG_y1year\n",
    "13. Sunhoursdaily2month\n",
    "14. FG_y6month\n",
    "15. TN2month\n",
    "16. TN3month\n",
    "17. CPI_energy1year"
   ]
  },
  {
   "cell_type": "markdown",
   "id": "cd1e61a5",
   "metadata": {},
   "source": [
    "### Linear regression"
   ]
  },
  {
   "cell_type": "markdown",
   "id": "985b526c",
   "metadata": {},
   "source": [
    "Linear regression is a widely used technique to predict a target variable. The first main purpose of linear regression is to examine which features have strong relationships with the target variable (StatisticsSolutions, z.d.). This was shown in the previous chapter. The purpose of this chapter is to calculate whether these features can predict the target variable well based on linear regression. "
   ]
  },
  {
   "cell_type": "markdown",
   "id": "b10f3aa6",
   "metadata": {},
   "source": [
    "#### Predict with the 17 best features"
   ]
  },
  {
   "cell_type": "code",
   "execution_count": 16,
   "id": "60766018",
   "metadata": {},
   "outputs": [
    {
     "name": "stdout",
     "output_type": "stream",
     "text": [
      "218.88496001453498\n",
      "0.8815173224466845\n"
     ]
    }
   ],
   "source": [
    "# Import packages\n",
    "from sklearn.metrics import mean_squared_error\n",
    "from sklearn.metrics import r2_score\n",
    "\n",
    "# Create a x and y for the prediction. x is with the best 17 features. \n",
    "x = ml_datasetenergy02[['Energyconsumption1year', 'TX1year', 'TG6month', 'TX6month', 'Sunhoursdaily1year', 'TN6month', 'TG1year', 'Sunhoursdaily6month', 'Energyconsumption2month', 'TN1year', 'Energyconsumption6month', 'FG_y1year', 'Sunhoursdaily2month', 'FG_y6month', 'TN2month', 'TN3month', 'CPI_energy1year']]\n",
    "y = ml_datasetenergy02['Energyconsumption']  # target variable\n",
    "\n",
    "# Make a train- and test set\n",
    "x_train, x_test, y_train, y_test = train_test_split(x, y, test_size=0.34, random_state=1) # Best perfomance size is 0.34\n",
    "\n",
    "# Create the model\n",
    "regressionmodel = LinearRegression()\n",
    "regressionmodel.fit(x_train, y_train)\n",
    "predictions = regressionmodel.predict(x_test)\n",
    "predictions[:1] # If you want to see the predicitions use this. How much predictions is also possible (now is one). \n",
    "\n",
    "# Evualate the model\n",
    "print(mean_squared_error(y_test,predictions)**(1/2))\n",
    "print(r2_score(y_test,predictions))"
   ]
  },
  {
   "cell_type": "markdown",
   "id": "237858c5",
   "metadata": {},
   "source": [
    "#### Predict with all the features"
   ]
  },
  {
   "cell_type": "code",
   "execution_count": 17,
   "id": "c84b82e7",
   "metadata": {},
   "outputs": [
    {
     "name": "stdout",
     "output_type": "stream",
     "text": [
      "247.01044359636904\n",
      "0.8491123660489156\n"
     ]
    }
   ],
   "source": [
    "# Create a x and y for the prediction. x is with all the features\n",
    "x = ml_datasetenergy02[['CPI_energy1year', 'Sunhoursdaily1year', 'TG1year', 'TX1year', 'TN1year','FG_x1year','FG_y1year', 'CPI_energy2month', 'Sunhoursdaily2month', 'TG2month', 'TX2month', 'TN2month', 'FG_x2month', 'FG_y2month', 'CPI_energy3month', 'Sunhoursdaily3month', 'TG3month', 'TX3month', 'TN3month', 'FG_x3month', 'FG_y3month', 'CPI_energy6month', 'Sunhoursdaily6month', 'TG6month', 'TX6month', 'TN6month', 'FG_x6month', 'FG_y6month','Energyconsumption2month', 'Energyconsumption3month', 'Energyconsumption6month','Energyconsumption1year']]\n",
    "y = ml_datasetenergy02['Energyconsumption']  # target\n",
    "\n",
    "# Make a train- and test set\n",
    "x_train, x_test, y_train, y_test = train_test_split(x, y, test_size=0.34, random_state=1) # Best perfomance size is 0.34\n",
    "\n",
    "\n",
    "# Create the model\n",
    "regressionmodel = LinearRegression()\n",
    "regressionmodel.fit(x_train, y_train)\n",
    "predictions = regressionmodel.predict(x_test)\n",
    "predictions[:1] # If you want to see the predicitions use this. How much predictions is also possible (now is one).\n",
    "\n",
    "# Evualate the model\n",
    "print(mean_squared_error(y_test,predictions)**(1/2))\n",
    "print(r2_score(y_test,predictions))"
   ]
  },
  {
   "cell_type": "markdown",
   "id": "c75758a9",
   "metadata": {},
   "source": [
    "#### Conclusion linear regression"
   ]
  },
  {
   "cell_type": "markdown",
   "id": "5081bb0d",
   "metadata": {},
   "source": [
    "Even with the ideal features and number of features, the model does not perform as well as a simple calculation based on last year's energy consumption. This is because the mean squared error is about 219 and should then be lower than 198. The model does perform better than when all features are included. This means that the feature selection did make sense."
   ]
  },
  {
   "cell_type": "markdown",
   "id": "52b9508d",
   "metadata": {},
   "source": [
    "### Decision tree regression \n"
   ]
  },
  {
   "cell_type": "markdown",
   "id": "1068b830",
   "metadata": {},
   "source": [
    "Decision trees are often used as machine learning algorithms. A decision tree makes several decisions to arrive at a particular prediction. The beginning of the decision tree is the dataset. After this, the internal nodes are created (Seldon, 2021). "
   ]
  },
  {
   "cell_type": "markdown",
   "id": "22c8638a",
   "metadata": {},
   "source": [
    "#### New feature selection"
   ]
  },
  {
   "cell_type": "markdown",
   "id": "21063533",
   "metadata": {},
   "source": [
    "Decision trees perform better based on features that have matching information. This can be calculated for features (Brownlee, 2020). Therefore, before applying the decision tree, a new feature selection will be done first. "
   ]
  },
  {
   "cell_type": "code",
   "execution_count": 18,
   "id": "1f4ebe44",
   "metadata": {},
   "outputs": [
    {
     "name": "stdout",
     "output_type": "stream",
     "text": [
      "Feature 0: CPI_energy1year - 0.109082\n",
      "Feature 1: Sunhoursdaily1year - 0.383256\n",
      "Feature 2: TG1year - 0.324674\n",
      "Feature 3: TX1year - 0.405973\n",
      "Feature 4: TN1year - 0.196528\n",
      "Feature 5: FG_x1year - 0.032170\n",
      "Feature 6: FG_y1year - 0.300036\n",
      "Feature 7: CPI_energy2month - 0.031220\n",
      "Feature 8: Sunhoursdaily2month - 0.067243\n",
      "Feature 9: TG2month - 0.165089\n",
      "Feature 10: TX2month - 0.165089\n",
      "Feature 11: TN2month - 0.161643\n",
      "Feature 12: FG_x2month - 0.002025\n",
      "Feature 13: FG_y2month - 0.093237\n",
      "Feature 14: CPI_energy3month - 0.057970\n",
      "Feature 15: Sunhoursdaily3month - 0.103557\n",
      "Feature 16: TG3month - 0.198180\n",
      "Feature 17: TX3month - 0.130758\n",
      "Feature 18: TN3month - 0.235846\n",
      "Feature 19: FG_x3month - 0.004160\n",
      "Feature 20: FG_y3month - 0.000000\n",
      "Feature 21: CPI_energy6month - 0.180767\n",
      "Feature 22: Sunhoursdaily6month - 0.264039\n",
      "Feature 23: TG6month - 0.484163\n",
      "Feature 24: TX6month - 0.452305\n",
      "Feature 25: TN6month - 0.441205\n",
      "Feature 26: FG_x6month - 0.117704\n",
      "Feature 27: FG_y6month - 0.075982\n",
      "Feature 28: Energyconsumption2month - 0.542941\n",
      "Feature 29: Energyconsumption3month - 0.117684\n",
      "Feature 30: Energyconsumption6month - 0.438042\n",
      "Feature 31: Energyconsumption1year - 0.947601\n"
     ]
    },
    {
     "data": {
      "image/png": "[encoded data removed]",
      "text/plain": [
       "<Figure size 432x288 with 1 Axes>"
      ]
     },
     "metadata": {
      "needs_background": "light"
     },
     "output_type": "display_data"
    }
   ],
   "source": [
    "# Make a x and y from the dataset\n",
    "x = ml_datasetenergy02[['CPI_energy1year', 'Sunhoursdaily1year', 'TG1year', 'TX1year', 'TN1year','FG_x1year','FG_y1year', 'CPI_energy2month', 'Sunhoursdaily2month', 'TG2month', 'TX2month', 'TN2month', 'FG_x2month', 'FG_y2month', 'CPI_energy3month', 'Sunhoursdaily3month', 'TG3month', 'TX3month', 'TN3month', 'FG_x3month', 'FG_y3month', 'CPI_energy6month', 'Sunhoursdaily6month', 'TG6month', 'TX6month', 'TN6month', 'FG_x6month', 'FG_y6month','Energyconsumption2month', 'Energyconsumption3month', 'Energyconsumption6month','Energyconsumption1year']]\n",
    "y = ml_datasetenergy02['Energyconsumption']\n",
    "\n",
    "# Split the dataset in training- and test data\n",
    "x_train, x_test, y_train, y_test = train_test_split(x, y, test_size=0.33, random_state=1)\n",
    "\n",
    "# Make the regressionmodel \n",
    "regressionmodel = LinearRegression() # Make the linear regressionmodel\n",
    "regressionmodel.fit(x_train, y_train) # Fit the model\n",
    "\n",
    "# Define the feature selection \n",
    "def select_features(x_train, y_train, x_test):\n",
    "    feature_selection01 = SelectKBest(score_func=mutual_info_regression, k='all') # Get all the features\n",
    "    feature_selection01.fit(x_train, y_train) # Important: see the relationship (learning) in the training data\n",
    "    x_train_feature_selection01 = feature_selection01.transform(x_train) # Convert the train input data\n",
    "    x_test_feature_selection01 = feature_selection01.transform(x_test) # Convert the test input data\n",
    "    return x_train_feature_selection01, x_test_feature_selection01, feature_selection01 # Return the converted data\n",
    "\n",
    "# Get the feature selection\n",
    "x_train_feature_selection01, x_test_feature_selection01, feature_selection01 = select_features(x_train, y_train, x_test)\n",
    "\n",
    "# Get the scores of the features\n",
    "for columns, score, i in zip(x.columns, feature_selection01.scores_, range(len(feature_selection01.scores_))): # Create a zip because of the multiple variables\n",
    "    print('Feature %d: %s - %f' % (i, columns, score)) # Print as Feature, number of feature (0-31), feature name and score\n",
    "\n",
    "# Show the scores in a plot\n",
    "\n",
    "fig = plt.figure()\n",
    "\n",
    "plt.bar([i for i in range(len(feature_selection01.scores_))], feature_selection01.scores_) # Create a function in the plotbar that shows the scores and the number of the feature. \n",
    "\n",
    "fig.suptitle('Feature selection decision tree')\n",
    "plt.xlabel('Features')\n",
    "plt.ylabel('Scores')\n",
    "\n",
    "plt.show()\n"
   ]
  },
  {
   "cell_type": "markdown",
   "id": "5c1347c9",
   "metadata": {},
   "source": [
    "#### Conclusion feature selection decision tree"
   ]
  },
  {
   "cell_type": "markdown",
   "id": "8c67aca0",
   "metadata": {},
   "source": [
    "Interestingly, the features based on correlation are almost the same as features based on mutual information. However, four are different. These are features 9, 10, 16 and 21, which are included in the decission tree but were not included in linear regression. These are the features below in order of high to low score.\n",
    "\n",
    "1. Energyconsumption1year\n",
    "2. TX1year\n",
    "3. TG6month\n",
    "4. TX6month\n",
    "5. Sunhoursdaily1year\n",
    "6. TN6month\n",
    "7. TG1year\n",
    "8. Sunhoursdaily6month\n",
    "9. Energyconsumption2month\n",
    "10. TN1year\n",
    "11. Energyconsumption6month\n",
    "12. FG_y1year\n",
    "13. TG3month\n",
    "14. CPI_energy6month\n",
    "15. TX2month\n",
    "16. TN3month\n",
    "17. TG2month"
   ]
  },
  {
   "cell_type": "markdown",
   "id": "ee41c0bb",
   "metadata": {},
   "source": [
    "#### Prediction with the 17 best features"
   ]
  },
  {
   "cell_type": "code",
   "execution_count": 19,
   "id": "a9b3712d",
   "metadata": {},
   "outputs": [
    {
     "name": "stdout",
     "output_type": "stream",
     "text": [
      "237.00199117354418\n",
      "0.842081681499296\n"
     ]
    }
   ],
   "source": [
    "# Import packages \n",
    "from sklearn.preprocessing import StandardScaler\n",
    "from sklearn.tree import DecisionTreeRegressor\n",
    "\n",
    "# Create a x and y for the prediction. x is with the best 17 features\n",
    "x = ml_datasetenergy02[['Energyconsumption1year', 'TX1year', 'TG6month', 'TX6month', 'Sunhoursdaily1year', 'TN6month', 'TG1year', 'Sunhoursdaily6month', 'Energyconsumption2month', 'TN1year', 'Energyconsumption6month', 'FG_y1year', 'TG3month', 'CPI_energy6month', 'TX2month', 'TN3month', 'TG2month']]\n",
    "y = ml_datasetenergy02['Energyconsumption']  # target variable\n",
    "\n",
    "# Make a train- and test set\n",
    "x_train, x_test, y_train, y_test  = train_test_split(x, y, test_size=0.35, random_state = 0)\n",
    "\n",
    "# Create the model\n",
    "x_standard_scaler = StandardScaler()\n",
    "x_train = x_standard_scaler.fit_transform(x_train)\n",
    "\n",
    "regrassor = DecisionTreeRegressor(random_state = 0)\n",
    "regrassor.fit(x_train, y_train)\n",
    "\n",
    "prediction_decisiontree = regrassor.predict(x_standard_scaler.transform(x_test))\n",
    "\n",
    "# Evualate the model\n",
    "print(mean_squared_error(y_test, prediction_decisiontree)**(1/2))\n",
    "print(r2_score(y_test, prediction_decisiontree))"
   ]
  },
  {
   "cell_type": "markdown",
   "id": "1ad8e454",
   "metadata": {},
   "source": [
    "#### Predict with all the features"
   ]
  },
  {
   "cell_type": "code",
   "execution_count": 20,
   "id": "a893a492",
   "metadata": {},
   "outputs": [
    {
     "name": "stdout",
     "output_type": "stream",
     "text": [
      "256.26199347996493\n",
      "0.8168064277558647\n"
     ]
    }
   ],
   "source": [
    "# Create a x and y for the prediction. x is with all the features\n",
    "x = ml_datasetenergy02[['CPI_energy1year', 'Sunhoursdaily1year', 'TG1year', 'TX1year', 'TN1year','FG_x1year','FG_y1year', 'CPI_energy2month', 'Sunhoursdaily2month', 'TG2month', 'TX2month', 'TN2month', 'FG_x2month', 'FG_y2month', 'CPI_energy3month', 'Sunhoursdaily3month', 'TG3month', 'TX3month', 'TN3month', 'FG_x3month', 'FG_y3month', 'CPI_energy6month', 'Sunhoursdaily6month', 'TG6month', 'TX6month', 'TN6month', 'FG_x6month', 'FG_y6month','Energyconsumption2month', 'Energyconsumption3month', 'Energyconsumption6month','Energyconsumption1year']]\n",
    "y = ml_datasetenergy02['Energyconsumption']\n",
    "\n",
    "# Make a train- and test set\n",
    "x_train, x_test, y_train, y_test  = train_test_split(x, y, test_size=0.34, random_state = 0)\n",
    "\n",
    "# Create the model\n",
    "x_standard_scaler01 = StandardScaler()\n",
    "x_train = x_standard_scaler01.fit_transform(x_train)\n",
    "\n",
    "regrassor = DecisionTreeRegressor(random_state = 0)\n",
    "regrassor.fit(x_train, y_train)\n",
    "\n",
    "prediction_decisiontree01 = regrassor.predict(x_standard_scaler01.transform(x_test))\n",
    "\n",
    "# Evualate the model\n",
    "print(mean_squared_error(y_test, prediction_decisiontree01)**(1/2))\n",
    "print(r2_score(y_test, prediction_decisiontree01))"
   ]
  },
  {
   "cell_type": "markdown",
   "id": "83fb8f88",
   "metadata": {},
   "source": [
    "#### Conclusion decision tree regression"
   ]
  },
  {
   "cell_type": "markdown",
   "id": "14144575",
   "metadata": {},
   "source": [
    "Even with the ideal features and number of features, the model does not perform as well as a simple calculation based on last year's energy consumption. This is because the mean squared error is about 237 and should then be lower than 198. The model does perform better than when all features are included. This means that the feature selection did make sense. The model also performed no better than the linear regression model.  "
   ]
  },
  {
   "cell_type": "markdown",
   "id": "bbedbe72",
   "metadata": {},
   "source": [
    "### Random forest regression"
   ]
  },
  {
   "cell_type": "markdown",
   "id": "909e69af",
   "metadata": {},
   "source": [
    "In a random forest, multiple decision trees are combined into a random forest. A random forest can potentially offer an advantage in prediction because not all variables are correlated to each other (IBM, z.d.). "
   ]
  },
  {
   "cell_type": "markdown",
   "id": "349ac5f0",
   "metadata": {},
   "source": [
    "#### Make a random forest from the 17 features"
   ]
  },
  {
   "cell_type": "code",
   "execution_count": 21,
   "id": "8af96ab3",
   "metadata": {},
   "outputs": [
    {
     "name": "stdout",
     "output_type": "stream",
     "text": [
      "239.520813735866\n",
      "0.8399600718065101\n"
     ]
    }
   ],
   "source": [
    "# Import packages\n",
    "from sklearn.ensemble import RandomForestClassifier\n",
    "from sklearn.ensemble import RandomForestRegressor\n",
    "from sklearn.datasets import make_classification\n",
    "\n",
    "# Create a x and y for the prediction. x is with the best 17 features\n",
    "x = ml_datasetenergy02[['Energyconsumption1year', 'TX1year', 'TG6month', 'TX6month', 'Sunhoursdaily1year', 'TN6month', 'TG1year', 'Sunhoursdaily6month', 'Energyconsumption2month', 'TN1year', 'Energyconsumption6month', 'FG_y1year', 'TG3month', 'CPI_energy6month', 'TX2month', 'TN3month', 'TG2month']]\n",
    "y = ml_datasetenergy02['Energyconsumption']  # target variable\n",
    "\n",
    "# Make a train- and test set\n",
    "x_train, x_test, y_train, y_test  = train_test_split(x, y, test_size=0.34, random_state = 0)\n",
    "\n",
    "# Create the model\n",
    "random_forest = RandomForestRegressor(n_estimators = 300, max_features = 'sqrt', max_depth = 5, random_state = 18).fit(x_train, y_train)\n",
    "\n",
    "prediction_random_forest = random_forest.predict(x_test)\n",
    "\n",
    "# Evualate the model\n",
    "print(mean_squared_error(y_test, prediction_random_forest)**(1/2))\n",
    "print(r2_score(y_test, prediction_random_forest))"
   ]
  },
  {
   "cell_type": "code",
   "execution_count": 22,
   "id": "c64a54fd",
   "metadata": {},
   "outputs": [
    {
     "name": "stdout",
     "output_type": "stream",
     "text": [
      "247.07125124302587\n",
      "0.8297111313314719\n"
     ]
    }
   ],
   "source": [
    "# Import packages\n",
    "from sklearn.ensemble import RandomForestClassifier\n",
    "from sklearn.ensemble import RandomForestRegressor\n",
    "from sklearn.datasets import make_classification\n",
    "\n",
    "# Create a x and y for the prediction. x is with all the features\n",
    "x = ml_datasetenergy02[['CPI_energy1year', 'Sunhoursdaily1year', 'TG1year', 'TX1year', 'TN1year','FG_x1year','FG_y1year', 'CPI_energy2month', 'Sunhoursdaily2month', 'TG2month', 'TX2month', 'TN2month', 'FG_x2month', 'FG_y2month', 'CPI_energy3month', 'Sunhoursdaily3month', 'TG3month', 'TX3month', 'TN3month', 'FG_x3month', 'FG_y3month', 'CPI_energy6month', 'Sunhoursdaily6month', 'TG6month', 'TX6month', 'TN6month', 'FG_x6month', 'FG_y6month','Energyconsumption2month', 'Energyconsumption3month', 'Energyconsumption6month','Energyconsumption1year']]\n",
    "y = ml_datasetenergy02['Energyconsumption']\n",
    "\n",
    "# Make a train- and test set\n",
    "x_train, x_test, y_train, y_test  = train_test_split(x, y, test_size=0.34, random_state = 0)\n",
    "\n",
    "# Create the model\n",
    "random_forest = RandomForestRegressor(n_estimators = 300, max_features = 'sqrt', max_depth = 5, random_state = 18).fit(x_train, y_train)\n",
    "\n",
    "prediction_random_forest = random_forest.predict(x_test)\n",
    "\n",
    "# Evualate the model\n",
    "print(mean_squared_error(y_test, prediction_random_forest)**(1/2))\n",
    "print(r2_score(y_test, prediction_random_forest))"
   ]
  },
  {
   "cell_type": "markdown",
   "id": "34ecda36",
   "metadata": {},
   "source": [
    "#### Conclusion random forest regression"
   ]
  },
  {
   "cell_type": "markdown",
   "id": "dea7a0a8",
   "metadata": {},
   "source": [
    "It is very strange that the random forest almost performs equally well with both. Therefore, grid research may have to take place to optimise the hyper parameters (Menon, 2022). However, it does not yet come close to linear regression. So that will not happen at this time. Several ways have been tried to change the hyper parameters. However, this did not result in a higher mean squared error. "
   ]
  },
  {
   "cell_type": "markdown",
   "id": "9f534258",
   "metadata": {},
   "source": [
    "## Conclusion and recommendations"
   ]
  },
  {
   "cell_type": "markdown",
   "id": "bc979f80",
   "metadata": {},
   "source": [
    "### The mean conclusion and some recommendations"
   ]
  },
  {
   "cell_type": "markdown",
   "id": "c5e807e8",
   "metadata": {},
   "source": [
    "Much research has been done on predicting energy consumption. However, most studies are related to predicting the energy consumption of buildings or houses. This includes many parameters about the building or house. Think size, number of rooms, number of windows and people. But some studies went further and also looked at air-conditioning systems and type of heating. These the researchers called technical data (Ying, 2021). This study worked with weather and financial data (inflation). However, these researchers had more data (daily) and so could predict much more specifically with the features they had (Zhao, 2019). This was a key problem from this study, which was conducted with monthly data. \n",
    "\n",
    "As a result, no better mean squared error came out than a simple calculation based on the previous year's energy consumption. However, if more data were available, the linear regression model would probably have worked best. In this case, some points had to be changed. Here, the availability of daily data is assumed rather than hourly. \n",
    "\n",
    "First, the time series had to go back to two, three days and one week. However, a year back is still very interesting too. Because there can now be much more focused forecasts on a day. It was chosen not to do a day in advance, for the same reason as a month in advance with the current dates. \n",
    "\n",
    "Second, the model would be much more concrete if it was on a household-by-household basis, because then households could be classified first. This turned out to be a big improvement to the model from another study for energy consumption (Leysen, 2016).  \n",
    "\n",
    "Finally, for bigger buildings, air conditioners, freezers and light do turn out to be more important features than for households. For example, at a supermarket (M.R Braun, 2014). Therefore, forecasting for households will be easier than for buildings or businesses. "
   ]
  },
  {
   "cell_type": "markdown",
   "id": "56a32f9a",
   "metadata": {},
   "source": [
    "### The ethical issue around the data"
   ]
  },
  {
   "cell_type": "markdown",
   "id": "6f65a434",
   "metadata": {},
   "source": [
    "The biggest problem of the study was mentioned above and that was the lack of data. However, a new study was conducted on this and this was found to be a problem in the laws and regulations of the Netherlands. \n",
    "\n",
    "This showed that this data is there, but this data should not be used by energy suppliers, however, as it violates the privacy of personal data. This is because of the General Data Protection Regulation, also known as the AVG. However, according to the AVG, this data may be used if the person gives permission. The problem, however, is that this then comes into conflict with the Electricity and Gas Act. According to this act, this data cannot be shared because of protection against competition and a duty of confidentiality applies (because of household privacy) (Overheid.nl, z.d.).\n",
    "\n",
    "This lead to an examination of the ethical dilemma: \n",
    "\n",
    "\"Can household privacy be violated if it benefits sustainability?\"\n",
    "\n",
    "For interest in this research, please refer to my GitHub page: https://github.com/riksmink/HCAI-RoyalHaskoningDHV. "
   ]
  },
  {
   "cell_type": "markdown",
   "id": "07a90908",
   "metadata": {},
   "source": [
    "## Legend"
   ]
  },
  {
   "cell_type": "markdown",
   "id": "37cdefb7",
   "metadata": {},
   "source": [
    "Word:      | Description:\n",
    "-----------|------------\n",
    "CPI:       |Consumer price index\n",
    "TG:        |Mean temperature\n",
    "TN:        |Maximum temperature\n",
    "TX:        |Minimum temperature\n",
    "TG_y:      |Wind strenght mean\n",
    "TG_x:      |Wind strenght mode"
   ]
  },
  {
   "cell_type": "markdown",
   "id": "1c9d33f1",
   "metadata": {},
   "source": [
    "## Sources:"
   ]
  },
  {
   "cell_type": "markdown",
   "id": "3cc5a365",
   "metadata": {},
   "source": [
    "Brownlee, J. (2020, juni 8). How to Perform Feature Selection for Regression Data. Opgeroepen op 17 oktober, 2022, van Machine Learning Mastery: https://machinelearningmastery.com/feature-selection-for-regression-data/\n",
    "\n",
    "Buijze, A. (2021). “Power to the People”. Utrecht: Universiteit Utrecht.\n",
    "\n",
    "Ding, Y. (2021). Energy & Buildings. Chongqing: Elsevier.\n",
    "\n",
    "Fernando, J. (2021, september 12). R-Squared Formula, Regression, and Interpretations. Retrieved oktober 21, 2022, from Investopedia: https://www.investopedia.com/terms/r/r-squared.asp\n",
    "\n",
    "Het Weer. (2022, z.d. z.d.). Invloed van het weer op de energierekening. Opgeroepen op oktober 16, 2022, van Het Weer: https://hetweermagazine.nl/artikelen/invloed-van-het-weer-op-de-energierekening#:~:text=Als%20de%20buitentemperatuur%20gemiddeld%20hoger,zon%20en%20mate%20van%20isolatie.\n",
    "\n",
    "Heyes, A. (2022, mei 27). Understanding Purchasing Power and the Consumer Price Index. Opgeroepen op september 29, 2022, van Investopedia: https://www.investopedia.com/terms/p/purchasingpower.asp\n",
    "\n",
    "IBM. (2020, december 7). Random Forest. Opgeroepen op oktober 7, 2022, van IBM: https://www.ibm.com/cloud/learn/random-forest\n",
    "\n",
    "Jim Frost. (z.d., z.d. z.d.). Mean Squared Error (MSE). Retrieved oktober 21, 2022, from Statistics By Jim: https://statisticsbyjim.com/regression/mean-squared-error-mse/\n",
    "\n",
    "Kamer, T. (2022, mei 22). Debat over de ontwikkeling van de koopkracht en de stijgende energieprijzen, eerste termijn Kamer. Opgeroepen op september 20, 2022, van Tweede Kamer: https://www.tweedekamer.nl/kamerstukken/plenaire_verslagen/kamer_in_het_kort/debat-over-de-ontwikkeling-van-de-koopkracht-en-de\n",
    "\n",
    "Knaub, J. R. (2015). When Prediction is Not Time Series Forecasting. ResearchGate.\n",
    "\n",
    "KNMI. (z.d., z.d. z.d.). Windschaal van Beaufort. Opgeroepen op september 19, 2022, van KNMI: https://www.knmi.nl/kennis-en-datacentrum/uitleg/windschaal-van-beaufort\n",
    "\n",
    "Leysen, C. (2016). Energieverbruik voorspellen en clusteren met Gaussiaanse processen. Leuven: KU Leuven.\n",
    "\n",
    "M.R Braun, H. S. (2014). Using regression analysis to predict the future energy consumption of a supermarket in the UK. Elsevier.\n",
    "\n",
    "Menon, K. (2022, augustus 2). Everything You Need to Know About Feature Selection In Machine Learning. Retrieved oktober 24, 2022, from Simplilearn: https://www.simplilearn.com/tutorials/machine-learning-tutorial/feature-selection-in-machine-learning#:~:text=Feature%20Selection%20is%20the%20method,you%20are%20trying%20to%20solve.\n",
    "\n",
    "Overheid.nl. (z.d., z.d. z.d.). Juridische kaders rondom het delen van energiedata. Retrieved oktober 19, 2022, from Overheid.nl: https://data.overheid.nl/juridische-kaders-rondom-het-delen-van-energiedata#_Verdiepende_achtergrondinformatie\n",
    "\n",
    "Rijksoverheid. (2022, september 16). Nederland maakt ambitie wind op zee bekend: 70 gigawatt in 2050. Opgeroepen op september 19, 2022, van Rijksoverheid: https://www.rijksoverheid.nl/actueel/nieuws/2022/09/16/nederland-maakt-ambitie-wind-op-zee-bekend-70-gigawatt-in-2050\n",
    "\n",
    "Seldon. (2021, november 13). Decision Trees in Machine Learning Explained. Opgeroepen op oktober 19, 2022, van Seldon: https://www.seldon.io/decision-trees-in-machinelearning#:~:text=Decision%20trees%20are%20an%20approach,categorise%20or%20classify%20an%20object.\n",
    "\n",
    "Solutions, S. (z.d., z.d. z.d.). What is Linear Regression? Opgeroepen op oktober 19, 2022, van Statistics Solutions: https://www.statisticssolutions.com/free-resources/directory-of-statistical-analyses/what-is-linear-regression/\n",
    "\n",
    "Visser, M. (2014). Duurzaam Groningen in 2035. Groningen: Hanze University of Applied Sciences Groningen.\n",
    "\n",
    "Weezel, T. G. (2022, mei 30). Recordreeks van groene stroom leidt tot nieuwe problemen voor producenten en netbeheerder. Opgeroepen op september 20, 2022, van de Volkskrant: volkskrant.nl/economie/recordreeks-van-groene-stroom-leidt-tot-nieuwe-problemen-voor-producenten-en-netbeheerder~b707ed72/?referrer=https%3A%2F%2Fwww.google.com%2F\n",
    "\n",
    "Wolters, D. (2011). Ruimtelijke klimatologische verschillen binnen Nederland. De Bilt: KNMI.\n",
    "\n",
    "Zhao, D. (2019). Effective Features to Predict Residential Energy Consumption Using Machine Learning. Michigan: ResearchGate.\n",
    "\n"
   ]
  }
 ],
 "metadata": {
  "kernelspec": {
   "display_name": "Python 3 (ipykernel)",
   "language": "python",
   "name": "python3"
  },
  "language_info": {
   "codemirror_mode": {
    "name": "ipython",
    "version": 3
   },
   "file_extension": ".py",
   "mimetype": "text/x-python",
   "name": "python",
   "nbconvert_exporter": "python",
   "pygments_lexer": "ipython3",
   "version": "3.9.12"
  }
 },
 "nbformat": 4,
 "nbformat_minor": 5
}
