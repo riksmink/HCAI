{
 "cells": [
  {
   "cell_type": "markdown",
   "id": "1e2e20d9",
   "metadata": {},
   "source": [
    "# Machine learning to predict energy consumption"
   ]
  },
  {
   "cell_type": "markdown",
   "id": "1f4680d3",
   "metadata": {},
   "source": [
    "## Introduction research"
   ]
  },
  {
   "cell_type": "markdown",
   "id": "cf56c50b",
   "metadata": {},
   "source": [
    "Energy transition is an important concept in today's society. Which also makes green energy generation very popular in the Netherlands. The top five most generating days with green energy also all took place in 2022. Unfortunately, there is also a downside to these spikes in energy production. Energy producers pay more for green energy towards the grid and grid operators have to pay a lot for huge peaks and troughs in the Netherlands' electricity grid. Besides this year has already seen five record spikes in green energy production. Alerts have also been issued by Tennet (manages high-voltage grid in the Netherlands) four times this year (Van Weezel, 2022). \n",
    "\n",
    "So for both energy production companies and grid operators, it is very important to avoid these peaks and troughs. One way to do this is to forecast energy consumption (TNO, 2021). In this notebook, this is done based on a number of features. "
   ]
  },
  {
   "cell_type": "markdown",
   "id": "365002e8",
   "metadata": {},
   "source": [
    "### The features for the prediction"
   ]
  },
  {
   "cell_type": "markdown",
   "id": "3bd60b01",
   "metadata": {},
   "source": [
    "The first feature is inflation. This is done because there is a strong link between inflation and buyer strength. Buyers strenght can decrease due to inflation. This is because a rising price level means that fewer products and services can be bought. Inflation and purchasing power affect the whole economy, from consumers to businesses (Hayes, 2022). Because of this relationship, inflation also affects long-term investment. Recently, energy prices have been rising rapidly the government also sees the link between sustained inflation, rising energy prices and falling purchasing power. Only to what extent does this relationship also affect energy consumption in the Netherlands and is there a relationship between the two (Tweede Kamer, 2022)?\n",
    "\n",
    "The second feature is sunhours. First of all, sunshine hours means the total sunshine hours on a day in the Netherlands expressed in hours. In the Netherlands, there is a clear difference in the number of sunshine hours in summer and winter. In summer, the average number of sunshine hours is between 6 and 7 hours a day, while in winter it is 2 hours. Because there is less daylight in winter and it is more often cloudy in winter, the average is lower (Dirk Wolters, 2011).\n",
    "\n",
    "When there are fewer sunlight hours, it means it is darker. As a result, people have to use energy more often (Visser, 2014) to provide themselves with light, by turning on lamps, for example. The number of sunshine hours also affects the use of green energy by solar panels. In summer, there are more hours of sunshine, so a lot of green energy can be generated. However, this will be used less because energy demand is higher in winter. It costs a lot of money to store solar energy to use later, which is therefore not done in households, for example. As a result, there is a higher peak energy consumption on the grid in winter (Visser, 2014).\n",
    "\n",
    "The third feature is wind strenght. Wind force data are in FHEV. Vector average wind force of the day. The vector mean is the average of all vectors where the wind was blowing and how hard. If two vectors are exactly opposite each other, they cancel each other out and so does the wind force of the day. It is thus the average wind force in a given direction (KNMI, s.d.). Because of the large growth envisaged by the Netherlands in the use of wind energy as an energy source, this has also been included as a characteristic (Rijksoverheid, 2022).\n",
    "\n",
    "The fourth characteristic is temperature. In a year where the average temperature is higher, energy consumption is lower. In a year where the temperature is lower, energy consumption is higher. This also means that the price of energy is higher, which has an important relationship with inflation (the first characteristic) (Het Weer, 2022). "
   ]
  },
  {
   "cell_type": "markdown",
   "id": "a5cf4d7b",
   "metadata": {},
   "source": [
    "## Import packages"
   ]
  },
  {
   "cell_type": "code",
   "execution_count": 1,
   "id": "e281027d",
   "metadata": {},
   "outputs": [],
   "source": [
    "import pandas as pd\n",
    "import numpy as np\n",
    "import scipy.stats\n",
    "\n",
    "import random as rnd\n",
    "\n",
    "import seaborn as sns\n",
    "import matplotlib.pyplot as plt\n",
    "%matplotlib inline"
   ]
  },
  {
   "cell_type": "markdown",
   "id": "b3568ff5",
   "metadata": {},
   "source": [
    "## Clean and prepare the datasets"
   ]
  },
  {
   "cell_type": "markdown",
   "id": "e97868db",
   "metadata": {},
   "source": [
    "A major drawback of this study is that only monthly energy data are available for the whole of the Netherlands. As a result, the other data also used in this study had to be converted into monthly data. But the second major drawback is that in another study on energy pridiction, the dataset of daily data was the most important thing in the study (Ding, 2020). The reason for including certain data is explained in more detail in the paper.\n",
    "\n",
    "The legend describes the different characteristics of the dataset. The legend can be found at the bottom of the notebook. "
   ]
  },
  {
   "cell_type": "markdown",
   "id": "e188888c",
   "metadata": {},
   "source": [
    "### Import the datasets"
   ]
  },
  {
   "cell_type": "markdown",
   "id": "79a2e222",
   "metadata": {},
   "source": [
    "The dataset inflation_Netherlands is a dataset created in another Notebook. This Notebook is available on my Github page: https://github.com/riksmink/HCAI. The other datasets are from: https://www.daggegevens.knmi.nl/klimatologie/daggegevens. "
   ]
  },
  {
   "cell_type": "code",
   "execution_count": 2,
   "id": "946a3f65",
   "metadata": {},
   "outputs": [],
   "source": [
    "inflation_Netherlands = pd.read_csv(\"Inflationfile.csv\", skiprows = range(265, 273), index_col = False)\n",
    "energy_consumption = pd.read_csv(\"MontlyEnergy.csv\", skiprows = range(265, 273), index_col = 0)\n",
    "sun_hours = pd.read_csv(\"zonuren1.csv\", index_col = False)\n",
    "temperature = pd.read_csv(\"Dataset_temperatuur.csv\", skiprows = range(265, 274), index_col = False)\n",
    "wind_mode = pd.read_csv(\"WeatherMontlyMode.csv\", skiprows = range(265, 275), index_col = False)\n",
    "wind_mean = pd.read_csv(\"WeatherMontlyAverage.csv\", skiprows = range(265, 275), index_col = False)"
   ]
  },
  {
   "cell_type": "markdown",
   "id": "bfbcfd53",
   "metadata": {},
   "source": [
    "### Work with the columns on the datasets"
   ]
  },
  {
   "cell_type": "markdown",
   "id": "7b6c3d32",
   "metadata": {},
   "source": [
    "The first problem with the datasets is that there are different ways to write dates in the data. The second problem is that not all column names are in English. The third problem was that there were several columns that were not attributes for the ML model, so they were removed from the dataset. The reason for the removal of those columns is in another notebook. You can find this notebook at https://github.com/riksmink/HCAI. "
   ]
  },
  {
   "cell_type": "markdown",
   "id": "507b9dd9",
   "metadata": {},
   "source": [
    "#### Make a common date column"
   ]
  },
  {
   "cell_type": "code",
   "execution_count": 3,
   "id": "21200438",
   "metadata": {},
   "outputs": [],
   "source": [
    "# Inflation dataset\n",
    "import locale\n",
    "\n",
    "# The months are in Netherlands in the dataset\n",
    "locale.setlocale(locale.LC_ALL, \"nl_NL\")\n",
    "\n",
    "inflation_Netherlands['Perioden'] = pd.to_datetime(inflation_Netherlands['Perioden'], format='%Y %B').apply(lambda date: date.strftime(format='%Y-%m'))\n",
    "\n",
    "# Energy consumption dataset\n",
    "energy_consumption['Perioden'] = pd.to_datetime(energy_consumption['Perioden'], format='%YMM%m').apply(lambda date: date.strftime(format='%Y-%m'))\n",
    "\n",
    "# Sun hours dataset\n",
    "sun_hours['Datum'] = pd.to_datetime(sun_hours['Datum'], format='%Y-%m').apply(lambda date: date.strftime(format='%Y-%m'))\n",
    "\n",
    "# Temperature dataset\n",
    "temperature['DateTime'] = pd.to_datetime(temperature['DateTime'], format='%Y-%m').apply(lambda date: date.strftime(format='%Y-%m'))\n",
    "\n",
    "# Wind datasets\n",
    "wind_mode['YYYYMMDD'] = pd.to_datetime(wind_mode['YYYYMMDD'], format='%Y-%m').apply(lambda date: date.strftime(format='%Y-%m'))\n",
    "wind_mean['YYYYMMDD'] = pd.to_datetime(wind_mean['YYYYMMDD'], format='%Y-%m').apply(lambda date: date.strftime(format='%Y-%m'))"
   ]
  },
  {
   "cell_type": "markdown",
   "id": "16e7b4ae",
   "metadata": {},
   "source": [
    "#### Rename the columns"
   ]
  },
  {
   "cell_type": "code",
   "execution_count": 4,
   "id": "88491afa",
   "metadata": {},
   "outputs": [],
   "source": [
    "# Inflation dataset\n",
    "inflation_Netherlands01 = inflation_Netherlands.rename(columns={'Perioden': 'Date', 'CPI_energie' : 'CPI_energy', 'CPI_algemeen': 'CPI_general','CPI(afgeleid)_energie ' : 'CPI_energyderived',})\n",
    "\n",
    "# Energy consumption dataset\n",
    "energy_consumption01 = energy_consumption.rename(columns={'Perioden': 'Date', 'NettoVerbruikBerekend_30' : 'Energyconsumption'})\n",
    "\n",
    "# Sun hours dataset\n",
    "sun_hours01 = sun_hours.rename(columns={'Datum': 'Date', 'zonuren_dag' : 'Sunhoursdaily'})\n",
    "\n",
    "# Temperature dataset\n",
    "temperature01 = temperature.rename(columns={'DateTime': 'Date'})\n",
    "\n",
    "# Wind datasets\n",
    "wind_mode01 = wind_mode.rename(columns={'YYYYMMDD': 'Date'})\n",
    "wind_mean01 = wind_mean.rename(columns={'YYYYMMDD': 'Date'})\n"
   ]
  },
  {
   "cell_type": "markdown",
   "id": "c37ed7ee",
   "metadata": {},
   "source": [
    "#### Drop some columns"
   ]
  },
  {
   "cell_type": "code",
   "execution_count": 5,
   "id": "3b5e5273",
   "metadata": {},
   "outputs": [],
   "source": [
    "# Inflation dataset\n",
    "inflation_Netherlands02 = inflation_Netherlands01.drop(['Jaar', 'Maand', 'CPI_energie-100', 'CPI_energiejaarlijks', 'CPI(algemeen)_afgeleid', 'CPI_elektriciteit', 'CPI(elektriciteit)_afgeleid', 'CPI(gas)_afgeleid'], axis=1)\n",
    "\n",
    "# Energy dataset\n",
    "energy_consumption02 = energy_consumption01.drop(['ID'], axis=1)\n",
    "\n",
    "# Temperature dataset\n",
    "temperature02 = temperature01.drop(['Unnamed: 0'], axis=1)"
   ]
  },
  {
   "cell_type": "markdown",
   "id": "53dda839",
   "metadata": {},
   "source": [
    "### Merge the datasets and prepare for machine learning"
   ]
  },
  {
   "cell_type": "markdown",
   "id": "5f1520ca",
   "metadata": {},
   "source": [
    "The preparation for merging is done. Now the datasets are prepared for training the models for machine learning.  Time series is very important because the model is gonna predict a continuous variable in the feature (Knaub, 2015). "
   ]
  },
  {
   "cell_type": "markdown",
   "id": "8b0a3db9",
   "metadata": {},
   "source": [
    "#### Merge the datasets"
   ]
  },
  {
   "cell_type": "code",
   "execution_count": 6,
   "id": "e8f6e5e4",
   "metadata": {},
   "outputs": [
    {
     "data": {
      "text/html": [
       "<div>\n",
       "<style scoped>\n",
       "    .dataframe tbody tr th:only-of-type {\n",
       "        vertical-align: middle;\n",
       "    }\n",
       "\n",
       "    .dataframe tbody tr th {\n",
       "        vertical-align: top;\n",
       "    }\n",
       "\n",
       "    .dataframe thead th {\n",
       "        text-align: right;\n",
       "    }\n",
       "</style>\n",
       "<table border=\"1\" class=\"dataframe\">\n",
       "  <thead>\n",
       "    <tr style=\"text-align: right;\">\n",
       "      <th></th>\n",
       "      <th>Date</th>\n",
       "      <th>CPI_energy</th>\n",
       "      <th>CPI_energyderived</th>\n",
       "      <th>CPI_general</th>\n",
       "      <th>CPI_gas</th>\n",
       "      <th>Energyconsumption</th>\n",
       "      <th>Sunhoursdaily</th>\n",
       "      <th>TG</th>\n",
       "      <th>TN</th>\n",
       "      <th>TX</th>\n",
       "      <th>FG_x</th>\n",
       "      <th>FG_y</th>\n",
       "    </tr>\n",
       "  </thead>\n",
       "  <tbody>\n",
       "    <tr>\n",
       "      <th>0</th>\n",
       "      <td>2000-01</td>\n",
       "      <td>52.22</td>\n",
       "      <td>65.20</td>\n",
       "      <td>73.55</td>\n",
       "      <td>43.70</td>\n",
       "      <td>8847</td>\n",
       "      <td>1.806452</td>\n",
       "      <td>4.329032</td>\n",
       "      <td>1.729032</td>\n",
       "      <td>6.561290</td>\n",
       "      <td>4.0</td>\n",
       "      <td>4.219355</td>\n",
       "    </tr>\n",
       "    <tr>\n",
       "      <th>1</th>\n",
       "      <td>2000-02</td>\n",
       "      <td>52.29</td>\n",
       "      <td>65.28</td>\n",
       "      <td>74.00</td>\n",
       "      <td>43.69</td>\n",
       "      <td>8235</td>\n",
       "      <td>3.682759</td>\n",
       "      <td>5.855172</td>\n",
       "      <td>2.537931</td>\n",
       "      <td>8.941379</td>\n",
       "      <td>4.6</td>\n",
       "      <td>4.748276</td>\n",
       "    </tr>\n",
       "    <tr>\n",
       "      <th>2</th>\n",
       "      <td>2000-03</td>\n",
       "      <td>52.73</td>\n",
       "      <td>65.84</td>\n",
       "      <td>74.66</td>\n",
       "      <td>43.62</td>\n",
       "      <td>8738</td>\n",
       "      <td>2.583871</td>\n",
       "      <td>6.796774</td>\n",
       "      <td>3.361290</td>\n",
       "      <td>10.112903</td>\n",
       "      <td>1.5</td>\n",
       "      <td>3.980645</td>\n",
       "    </tr>\n",
       "    <tr>\n",
       "      <th>3</th>\n",
       "      <td>2000-04</td>\n",
       "      <td>52.74</td>\n",
       "      <td>65.85</td>\n",
       "      <td>74.78</td>\n",
       "      <td>43.62</td>\n",
       "      <td>7912</td>\n",
       "      <td>5.116667</td>\n",
       "      <td>9.986667</td>\n",
       "      <td>5.186667</td>\n",
       "      <td>14.753333</td>\n",
       "      <td>1.9</td>\n",
       "      <td>3.553333</td>\n",
       "    </tr>\n",
       "    <tr>\n",
       "      <th>4</th>\n",
       "      <td>2000-05</td>\n",
       "      <td>52.74</td>\n",
       "      <td>65.85</td>\n",
       "      <td>75.02</td>\n",
       "      <td>43.62</td>\n",
       "      <td>8221</td>\n",
       "      <td>6.780645</td>\n",
       "      <td>14.732258</td>\n",
       "      <td>9.274194</td>\n",
       "      <td>20.022581</td>\n",
       "      <td>3.8</td>\n",
       "      <td>3.496774</td>\n",
       "    </tr>\n",
       "  </tbody>\n",
       "</table>\n",
       "</div>"
      ],
      "text/plain": [
       "      Date  CPI_energy  CPI_energyderived  CPI_general  CPI_gas  \\\n",
       "0  2000-01       52.22              65.20        73.55    43.70   \n",
       "1  2000-02       52.29              65.28        74.00    43.69   \n",
       "2  2000-03       52.73              65.84        74.66    43.62   \n",
       "3  2000-04       52.74              65.85        74.78    43.62   \n",
       "4  2000-05       52.74              65.85        75.02    43.62   \n",
       "\n",
       "   Energyconsumption  Sunhoursdaily         TG        TN         TX  FG_x  \\\n",
       "0               8847       1.806452   4.329032  1.729032   6.561290   4.0   \n",
       "1               8235       3.682759   5.855172  2.537931   8.941379   4.6   \n",
       "2               8738       2.583871   6.796774  3.361290  10.112903   1.5   \n",
       "3               7912       5.116667   9.986667  5.186667  14.753333   1.9   \n",
       "4               8221       6.780645  14.732258  9.274194  20.022581   3.8   \n",
       "\n",
       "       FG_y  \n",
       "0  4.219355  \n",
       "1  4.748276  \n",
       "2  3.980645  \n",
       "3  3.553333  \n",
       "4  3.496774  "
      ]
     },
     "execution_count": 6,
     "metadata": {},
     "output_type": "execute_result"
    }
   ],
   "source": [
    "# merge all the dataframes\n",
    "ml_datasetenergy = inflation_Netherlands02.merge(energy_consumption02, on='Date', how='left').merge(sun_hours01, on='Date', how='left').merge(temperature02, on='Date', how='left').merge(wind_mode01, on='Date', how='left').merge(wind_mean01, on='Date', how='left')\n",
    "\n",
    "ml_datasetenergy.head()"
   ]
  },
  {
   "cell_type": "markdown",
   "id": "1111f4a0",
   "metadata": {},
   "source": [
    "#### Make extra columns for time series"
   ]
  },
  {
   "cell_type": "markdown",
   "id": "3b182a40",
   "metadata": {},
   "source": [
    "The prediction is done over time, so the dataset must be different. It starts at 2 months because otherwise it is impossible to do all the calculations on the first day of each month. This must be done because the prediction is made over time. The choice of the 1 year, 2 months is because of the weather features (Knaub, 2015)."
   ]
  },
  {
   "cell_type": "code",
   "execution_count": 7,
   "id": "24f8b504",
   "metadata": {},
   "outputs": [],
   "source": [
    "# Copy the date column and make a new one\n",
    "\n",
    "# 2 months\n",
    "ml_datasetenergy ['CPI_energy2month'] = ml_datasetenergy ['CPI_energy']\n",
    "ml_datasetenergy ['Sunhoursdaily2month'] = ml_datasetenergy ['Sunhoursdaily']\n",
    "ml_datasetenergy ['TG2month'] = ml_datasetenergy ['TG']\n",
    "ml_datasetenergy ['TX2month'] = ml_datasetenergy ['TG']\n",
    "ml_datasetenergy ['TN2month'] = ml_datasetenergy ['TN']\n",
    "ml_datasetenergy ['FG_x2month'] = ml_datasetenergy ['FG_x']\n",
    "ml_datasetenergy ['FG_y2month'] = ml_datasetenergy ['FG_y']\n",
    "\n",
    "# 3 months\n",
    "ml_datasetenergy ['CPI_energy3month'] = ml_datasetenergy ['CPI_energy']\n",
    "ml_datasetenergy ['Sunhoursdaily3month'] = ml_datasetenergy ['Sunhoursdaily']\n",
    "ml_datasetenergy ['TG3month'] = ml_datasetenergy ['TG']\n",
    "ml_datasetenergy ['TX3month'] = ml_datasetenergy ['TX']\n",
    "ml_datasetenergy ['TN3month'] = ml_datasetenergy ['TN']\n",
    "ml_datasetenergy ['FG_x3month'] = ml_datasetenergy ['FG_x']\n",
    "ml_datasetenergy ['FG_y3month'] = ml_datasetenergy ['FG_y']\n",
    "\n",
    "# 6 months\n",
    "ml_datasetenergy ['CPI_energy6month'] = ml_datasetenergy ['CPI_energy']\n",
    "ml_datasetenergy ['Sunhoursdaily6month'] = ml_datasetenergy ['Sunhoursdaily']\n",
    "ml_datasetenergy ['TG6month'] = ml_datasetenergy ['TG']\n",
    "ml_datasetenergy ['TX6month'] = ml_datasetenergy ['TX']\n",
    "ml_datasetenergy ['TN6month'] = ml_datasetenergy ['TN']\n",
    "ml_datasetenergy ['FG_x6month'] = ml_datasetenergy ['FG_x']\n",
    "ml_datasetenergy ['FG_y6month'] = ml_datasetenergy ['FG_y']\n",
    "\n",
    "# 1 year\n",
    "ml_datasetenergy ['CPI_energy1year'] = ml_datasetenergy ['CPI_energy']\n",
    "ml_datasetenergy ['Sunhoursdaily1year'] = ml_datasetenergy ['Sunhoursdaily']\n",
    "ml_datasetenergy ['TG1year'] = ml_datasetenergy ['TG']\n",
    "ml_datasetenergy ['TX1year'] = ml_datasetenergy ['TX']\n",
    "ml_datasetenergy ['TN1year'] = ml_datasetenergy ['TN']\n",
    "ml_datasetenergy ['FG_x1year'] = ml_datasetenergy ['FG_x']\n",
    "ml_datasetenergy ['FG_y1year'] = ml_datasetenergy ['FG_y']\n",
    "\n",
    "# Move the rows in the column\n",
    "\n",
    "# 2 months\n",
    "ml_datasetenergy ['CPI_energy2month'] = ml_datasetenergy ['CPI_energy2month'].shift(+2)\n",
    "ml_datasetenergy ['Sunhoursdaily2month'] = ml_datasetenergy ['Sunhoursdaily2month'].shift(+2)\n",
    "ml_datasetenergy ['TG2month'] = ml_datasetenergy ['TG2month'].shift(+2)\n",
    "ml_datasetenergy ['TX2month'] = ml_datasetenergy ['TX2month'].shift(+2)\n",
    "ml_datasetenergy ['TN2month'] = ml_datasetenergy ['TN2month'].shift(+1)\n",
    "ml_datasetenergy ['FG_x2month'] = ml_datasetenergy ['FG_x2month'].shift(+2)\n",
    "ml_datasetenergy ['FG_y2month'] = ml_datasetenergy ['FG_y2month'].shift(+2)\n",
    "\n",
    "# 3 month\n",
    "ml_datasetenergy ['CPI_energy3month'] = ml_datasetenergy ['CPI_energy3month'].shift(+3)\n",
    "ml_datasetenergy ['Sunhoursdaily3month'] = ml_datasetenergy ['Sunhoursdaily3month'].shift(+3)\n",
    "ml_datasetenergy ['TG3month'] = ml_datasetenergy ['TG3month'].shift(+3)\n",
    "ml_datasetenergy ['TX3month'] = ml_datasetenergy ['TX3month'].shift(+3)\n",
    "ml_datasetenergy ['TN3month'] = ml_datasetenergy ['TN3month'].shift(+3)\n",
    "ml_datasetenergy ['FG_x3month'] = ml_datasetenergy ['FG_x3month'].shift(+3)\n",
    "ml_datasetenergy ['FG_y3month'] = ml_datasetenergy ['FG_y3month'].shift(+3)\n",
    "\n",
    "# 6 month\n",
    "ml_datasetenergy ['CPI_energy6month'] = ml_datasetenergy ['CPI_energy6month'].shift(+6)\n",
    "ml_datasetenergy ['Sunhoursdaily6month'] = ml_datasetenergy ['Sunhoursdaily6month'].shift(+6)\n",
    "ml_datasetenergy ['TG6month'] = ml_datasetenergy ['TG6month'].shift(+6)\n",
    "ml_datasetenergy ['TX6month'] = ml_datasetenergy ['TX6month'].shift(+6)\n",
    "ml_datasetenergy ['TN6month'] = ml_datasetenergy ['TN6month'].shift(+6)\n",
    "ml_datasetenergy ['FG_x6month'] = ml_datasetenergy ['FG_x6month'].shift(+6)\n",
    "ml_datasetenergy ['FG_y6month'] = ml_datasetenergy ['FG_y6month'].shift(+6)\n",
    "\n",
    "# 1 year\n",
    "ml_datasetenergy ['CPI_energy1year'] = ml_datasetenergy ['CPI_energy1year'].shift(+12)\n",
    "ml_datasetenergy ['Sunhoursdaily1year'] = ml_datasetenergy ['Sunhoursdaily1year'].shift(+12)\n",
    "ml_datasetenergy ['TG1year'] = ml_datasetenergy ['TG1year'].shift(+12)\n",
    "ml_datasetenergy ['TX1year'] = ml_datasetenergy ['TX1year'].shift(+12)\n",
    "ml_datasetenergy ['TN1year'] = ml_datasetenergy ['TN1year'].shift(+12)\n",
    "ml_datasetenergy ['FG_x1year'] = ml_datasetenergy ['FG_x1year'].shift(+12)\n",
    "ml_datasetenergy ['FG_y1year'] = ml_datasetenergy ['FG_y1year'].shift(+12)"
   ]
  },
  {
   "cell_type": "code",
   "execution_count": 8,
   "id": "6a0c1ec1",
   "metadata": {},
   "outputs": [],
   "source": [
    "# The target variable as feature for ml-model\n",
    "\n",
    "# 2, 3 and 6 months and 1 year\n",
    "ml_datasetenergy ['Energyconsumption2month'] = ml_datasetenergy ['Energyconsumption']\n",
    "ml_datasetenergy ['Energyconsumption3month'] = ml_datasetenergy ['Energyconsumption']\n",
    "ml_datasetenergy ['Energyconsumption6month'] = ml_datasetenergy ['Energyconsumption']\n",
    "ml_datasetenergy ['Energyconsumption1year'] = ml_datasetenergy ['Energyconsumption']\n",
    "\n",
    "# Move the rows in the column\n",
    "ml_datasetenergy ['Energyconsumption2month'] = ml_datasetenergy ['Energyconsumption2month'].shift(+1)\n",
    "ml_datasetenergy ['Energyconsumption3month'] = ml_datasetenergy ['Energyconsumption3month'].shift(+3)\n",
    "ml_datasetenergy ['Energyconsumption6month'] = ml_datasetenergy ['Energyconsumption6month'].shift(+6)\n",
    "ml_datasetenergy ['Energyconsumption1year'] = ml_datasetenergy ['Energyconsumption1year'].shift(+12)"
   ]
  },
  {
   "cell_type": "code",
   "execution_count": 9,
   "id": "8e7071e7",
   "metadata": {},
   "outputs": [
    {
     "data": {
      "text/html": [
       "<div>\n",
       "<style scoped>\n",
       "    .dataframe tbody tr th:only-of-type {\n",
       "        vertical-align: middle;\n",
       "    }\n",
       "\n",
       "    .dataframe tbody tr th {\n",
       "        vertical-align: top;\n",
       "    }\n",
       "\n",
       "    .dataframe thead th {\n",
       "        text-align: right;\n",
       "    }\n",
       "</style>\n",
       "<table border=\"1\" class=\"dataframe\">\n",
       "  <thead>\n",
       "    <tr style=\"text-align: right;\">\n",
       "      <th></th>\n",
       "      <th>Date</th>\n",
       "      <th>CPI_energy</th>\n",
       "      <th>CPI_energyderived</th>\n",
       "      <th>CPI_general</th>\n",
       "      <th>CPI_gas</th>\n",
       "      <th>Energyconsumption</th>\n",
       "      <th>Sunhoursdaily</th>\n",
       "      <th>TG</th>\n",
       "      <th>TN</th>\n",
       "      <th>TX</th>\n",
       "      <th>...</th>\n",
       "      <th>Sunhoursdaily1year</th>\n",
       "      <th>TG1year</th>\n",
       "      <th>TX1year</th>\n",
       "      <th>TN1year</th>\n",
       "      <th>FG_x1year</th>\n",
       "      <th>FG_y1year</th>\n",
       "      <th>Energyconsumption2month</th>\n",
       "      <th>Energyconsumption3month</th>\n",
       "      <th>Energyconsumption6month</th>\n",
       "      <th>Energyconsumption1year</th>\n",
       "    </tr>\n",
       "  </thead>\n",
       "  <tbody>\n",
       "    <tr>\n",
       "      <th>12</th>\n",
       "      <td>2001-01</td>\n",
       "      <td>62.13</td>\n",
       "      <td>70.56</td>\n",
       "      <td>76.31</td>\n",
       "      <td>51.19</td>\n",
       "      <td>9267</td>\n",
       "      <td>2.312903</td>\n",
       "      <td>2.606452</td>\n",
       "      <td>0.025806</td>\n",
       "      <td>5.332258</td>\n",
       "      <td>...</td>\n",
       "      <td>1.806452</td>\n",
       "      <td>4.329032</td>\n",
       "      <td>6.561290</td>\n",
       "      <td>1.729032</td>\n",
       "      <td>4.0</td>\n",
       "      <td>4.219355</td>\n",
       "      <td>8844.0</td>\n",
       "      <td>8749.0</td>\n",
       "      <td>8006.0</td>\n",
       "      <td>8847.0</td>\n",
       "    </tr>\n",
       "    <tr>\n",
       "      <th>13</th>\n",
       "      <td>2001-02</td>\n",
       "      <td>62.13</td>\n",
       "      <td>70.56</td>\n",
       "      <td>76.98</td>\n",
       "      <td>51.19</td>\n",
       "      <td>8266</td>\n",
       "      <td>3.260714</td>\n",
       "      <td>4.467857</td>\n",
       "      <td>1.153571</td>\n",
       "      <td>7.792857</td>\n",
       "      <td>...</td>\n",
       "      <td>3.682759</td>\n",
       "      <td>5.855172</td>\n",
       "      <td>8.941379</td>\n",
       "      <td>2.537931</td>\n",
       "      <td>4.6</td>\n",
       "      <td>4.748276</td>\n",
       "      <td>9267.0</td>\n",
       "      <td>8892.0</td>\n",
       "      <td>8119.0</td>\n",
       "      <td>8235.0</td>\n",
       "    </tr>\n",
       "    <tr>\n",
       "      <th>14</th>\n",
       "      <td>2001-03</td>\n",
       "      <td>62.13</td>\n",
       "      <td>70.56</td>\n",
       "      <td>77.70</td>\n",
       "      <td>51.19</td>\n",
       "      <td>8962</td>\n",
       "      <td>2.041935</td>\n",
       "      <td>4.945161</td>\n",
       "      <td>1.835484</td>\n",
       "      <td>8.032258</td>\n",
       "      <td>...</td>\n",
       "      <td>2.583871</td>\n",
       "      <td>6.796774</td>\n",
       "      <td>10.112903</td>\n",
       "      <td>3.361290</td>\n",
       "      <td>1.5</td>\n",
       "      <td>3.980645</td>\n",
       "      <td>8266.0</td>\n",
       "      <td>8844.0</td>\n",
       "      <td>8217.0</td>\n",
       "      <td>8738.0</td>\n",
       "    </tr>\n",
       "    <tr>\n",
       "      <th>15</th>\n",
       "      <td>2001-04</td>\n",
       "      <td>60.14</td>\n",
       "      <td>68.11</td>\n",
       "      <td>78.13</td>\n",
       "      <td>51.02</td>\n",
       "      <td>8156</td>\n",
       "      <td>4.830000</td>\n",
       "      <td>8.283333</td>\n",
       "      <td>4.090000</td>\n",
       "      <td>12.580000</td>\n",
       "      <td>...</td>\n",
       "      <td>5.116667</td>\n",
       "      <td>9.986667</td>\n",
       "      <td>14.753333</td>\n",
       "      <td>5.186667</td>\n",
       "      <td>1.9</td>\n",
       "      <td>3.553333</td>\n",
       "      <td>8962.0</td>\n",
       "      <td>9267.0</td>\n",
       "      <td>8749.0</td>\n",
       "      <td>7912.0</td>\n",
       "    </tr>\n",
       "    <tr>\n",
       "      <th>16</th>\n",
       "      <td>2001-05</td>\n",
       "      <td>60.14</td>\n",
       "      <td>68.11</td>\n",
       "      <td>78.39</td>\n",
       "      <td>51.02</td>\n",
       "      <td>8304</td>\n",
       "      <td>8.941935</td>\n",
       "      <td>14.141935</td>\n",
       "      <td>8.522581</td>\n",
       "      <td>19.358065</td>\n",
       "      <td>...</td>\n",
       "      <td>6.780645</td>\n",
       "      <td>14.732258</td>\n",
       "      <td>20.022581</td>\n",
       "      <td>9.274194</td>\n",
       "      <td>3.8</td>\n",
       "      <td>3.496774</td>\n",
       "      <td>8156.0</td>\n",
       "      <td>8266.0</td>\n",
       "      <td>8892.0</td>\n",
       "      <td>8221.0</td>\n",
       "    </tr>\n",
       "  </tbody>\n",
       "</table>\n",
       "<p>5 rows × 44 columns</p>\n",
       "</div>"
      ],
      "text/plain": [
       "       Date  CPI_energy  CPI_energyderived  CPI_general  CPI_gas  \\\n",
       "12  2001-01       62.13              70.56        76.31    51.19   \n",
       "13  2001-02       62.13              70.56        76.98    51.19   \n",
       "14  2001-03       62.13              70.56        77.70    51.19   \n",
       "15  2001-04       60.14              68.11        78.13    51.02   \n",
       "16  2001-05       60.14              68.11        78.39    51.02   \n",
       "\n",
       "    Energyconsumption  Sunhoursdaily         TG        TN         TX  ...  \\\n",
       "12               9267       2.312903   2.606452  0.025806   5.332258  ...   \n",
       "13               8266       3.260714   4.467857  1.153571   7.792857  ...   \n",
       "14               8962       2.041935   4.945161  1.835484   8.032258  ...   \n",
       "15               8156       4.830000   8.283333  4.090000  12.580000  ...   \n",
       "16               8304       8.941935  14.141935  8.522581  19.358065  ...   \n",
       "\n",
       "    Sunhoursdaily1year    TG1year    TX1year   TN1year  FG_x1year  FG_y1year  \\\n",
       "12            1.806452   4.329032   6.561290  1.729032        4.0   4.219355   \n",
       "13            3.682759   5.855172   8.941379  2.537931        4.6   4.748276   \n",
       "14            2.583871   6.796774  10.112903  3.361290        1.5   3.980645   \n",
       "15            5.116667   9.986667  14.753333  5.186667        1.9   3.553333   \n",
       "16            6.780645  14.732258  20.022581  9.274194        3.8   3.496774   \n",
       "\n",
       "    Energyconsumption2month  Energyconsumption3month  Energyconsumption6month  \\\n",
       "12                   8844.0                   8749.0                   8006.0   \n",
       "13                   9267.0                   8892.0                   8119.0   \n",
       "14                   8266.0                   8844.0                   8217.0   \n",
       "15                   8962.0                   9267.0                   8749.0   \n",
       "16                   8156.0                   8266.0                   8892.0   \n",
       "\n",
       "    Energyconsumption1year  \n",
       "12                  8847.0  \n",
       "13                  8235.0  \n",
       "14                  8738.0  \n",
       "15                  7912.0  \n",
       "16                  8221.0  \n",
       "\n",
       "[5 rows x 44 columns]"
      ]
     },
     "execution_count": 9,
     "metadata": {},
     "output_type": "execute_result"
    }
   ],
   "source": [
    "# Make a new dataframe without the NAN values\n",
    "ml_datasetenergy01 = ml_datasetenergy.copy()\n",
    "ml_datasetenergy01 = ml_datasetenergy01.drop(labels=range(0,12), axis=0)\n",
    "\n",
    "ml_datasetenergy01.columns = ml_datasetenergy01.columns.str.strip()\n",
    "\n",
    "ml_datasetenergy01.head()"
   ]
  },
  {
   "cell_type": "markdown",
   "id": "ab30d61a",
   "metadata": {},
   "source": [
    "#### Split the 'Date' column in a in a year and month column"
   ]
  },
  {
   "cell_type": "code",
   "execution_count": 10,
   "id": "bff0ea8c",
   "metadata": {},
   "outputs": [
    {
     "data": {
      "text/html": [
       "<div>\n",
       "<style scoped>\n",
       "    .dataframe tbody tr th:only-of-type {\n",
       "        vertical-align: middle;\n",
       "    }\n",
       "\n",
       "    .dataframe tbody tr th {\n",
       "        vertical-align: top;\n",
       "    }\n",
       "\n",
       "    .dataframe thead th {\n",
       "        text-align: right;\n",
       "    }\n",
       "</style>\n",
       "<table border=\"1\" class=\"dataframe\">\n",
       "  <thead>\n",
       "    <tr style=\"text-align: right;\">\n",
       "      <th></th>\n",
       "      <th>Date</th>\n",
       "      <th>CPI_energy</th>\n",
       "      <th>CPI_energyderived</th>\n",
       "      <th>CPI_general</th>\n",
       "      <th>CPI_gas</th>\n",
       "      <th>Energyconsumption</th>\n",
       "      <th>Sunhoursdaily</th>\n",
       "      <th>TG</th>\n",
       "      <th>TN</th>\n",
       "      <th>TX</th>\n",
       "      <th>...</th>\n",
       "      <th>TX1year</th>\n",
       "      <th>TN1year</th>\n",
       "      <th>FG_x1year</th>\n",
       "      <th>FG_y1year</th>\n",
       "      <th>Energyconsumption2month</th>\n",
       "      <th>Energyconsumption3month</th>\n",
       "      <th>Energyconsumption6month</th>\n",
       "      <th>Energyconsumption1year</th>\n",
       "      <th>Year</th>\n",
       "      <th>Month</th>\n",
       "    </tr>\n",
       "  </thead>\n",
       "  <tbody>\n",
       "    <tr>\n",
       "      <th>12</th>\n",
       "      <td>2001-01</td>\n",
       "      <td>62.13</td>\n",
       "      <td>70.56</td>\n",
       "      <td>76.31</td>\n",
       "      <td>51.19</td>\n",
       "      <td>9267</td>\n",
       "      <td>2.312903</td>\n",
       "      <td>2.606452</td>\n",
       "      <td>0.025806</td>\n",
       "      <td>5.332258</td>\n",
       "      <td>...</td>\n",
       "      <td>6.561290</td>\n",
       "      <td>1.729032</td>\n",
       "      <td>4.0</td>\n",
       "      <td>4.219355</td>\n",
       "      <td>8844.0</td>\n",
       "      <td>8749.0</td>\n",
       "      <td>8006.0</td>\n",
       "      <td>8847.0</td>\n",
       "      <td>2001</td>\n",
       "      <td>1</td>\n",
       "    </tr>\n",
       "    <tr>\n",
       "      <th>13</th>\n",
       "      <td>2001-02</td>\n",
       "      <td>62.13</td>\n",
       "      <td>70.56</td>\n",
       "      <td>76.98</td>\n",
       "      <td>51.19</td>\n",
       "      <td>8266</td>\n",
       "      <td>3.260714</td>\n",
       "      <td>4.467857</td>\n",
       "      <td>1.153571</td>\n",
       "      <td>7.792857</td>\n",
       "      <td>...</td>\n",
       "      <td>8.941379</td>\n",
       "      <td>2.537931</td>\n",
       "      <td>4.6</td>\n",
       "      <td>4.748276</td>\n",
       "      <td>9267.0</td>\n",
       "      <td>8892.0</td>\n",
       "      <td>8119.0</td>\n",
       "      <td>8235.0</td>\n",
       "      <td>2001</td>\n",
       "      <td>2</td>\n",
       "    </tr>\n",
       "    <tr>\n",
       "      <th>14</th>\n",
       "      <td>2001-03</td>\n",
       "      <td>62.13</td>\n",
       "      <td>70.56</td>\n",
       "      <td>77.70</td>\n",
       "      <td>51.19</td>\n",
       "      <td>8962</td>\n",
       "      <td>2.041935</td>\n",
       "      <td>4.945161</td>\n",
       "      <td>1.835484</td>\n",
       "      <td>8.032258</td>\n",
       "      <td>...</td>\n",
       "      <td>10.112903</td>\n",
       "      <td>3.361290</td>\n",
       "      <td>1.5</td>\n",
       "      <td>3.980645</td>\n",
       "      <td>8266.0</td>\n",
       "      <td>8844.0</td>\n",
       "      <td>8217.0</td>\n",
       "      <td>8738.0</td>\n",
       "      <td>2001</td>\n",
       "      <td>3</td>\n",
       "    </tr>\n",
       "    <tr>\n",
       "      <th>15</th>\n",
       "      <td>2001-04</td>\n",
       "      <td>60.14</td>\n",
       "      <td>68.11</td>\n",
       "      <td>78.13</td>\n",
       "      <td>51.02</td>\n",
       "      <td>8156</td>\n",
       "      <td>4.830000</td>\n",
       "      <td>8.283333</td>\n",
       "      <td>4.090000</td>\n",
       "      <td>12.580000</td>\n",
       "      <td>...</td>\n",
       "      <td>14.753333</td>\n",
       "      <td>5.186667</td>\n",
       "      <td>1.9</td>\n",
       "      <td>3.553333</td>\n",
       "      <td>8962.0</td>\n",
       "      <td>9267.0</td>\n",
       "      <td>8749.0</td>\n",
       "      <td>7912.0</td>\n",
       "      <td>2001</td>\n",
       "      <td>4</td>\n",
       "    </tr>\n",
       "    <tr>\n",
       "      <th>16</th>\n",
       "      <td>2001-05</td>\n",
       "      <td>60.14</td>\n",
       "      <td>68.11</td>\n",
       "      <td>78.39</td>\n",
       "      <td>51.02</td>\n",
       "      <td>8304</td>\n",
       "      <td>8.941935</td>\n",
       "      <td>14.141935</td>\n",
       "      <td>8.522581</td>\n",
       "      <td>19.358065</td>\n",
       "      <td>...</td>\n",
       "      <td>20.022581</td>\n",
       "      <td>9.274194</td>\n",
       "      <td>3.8</td>\n",
       "      <td>3.496774</td>\n",
       "      <td>8156.0</td>\n",
       "      <td>8266.0</td>\n",
       "      <td>8892.0</td>\n",
       "      <td>8221.0</td>\n",
       "      <td>2001</td>\n",
       "      <td>5</td>\n",
       "    </tr>\n",
       "  </tbody>\n",
       "</table>\n",
       "<p>5 rows × 46 columns</p>\n",
       "</div>"
      ],
      "text/plain": [
       "       Date  CPI_energy  CPI_energyderived  CPI_general  CPI_gas  \\\n",
       "12  2001-01       62.13              70.56        76.31    51.19   \n",
       "13  2001-02       62.13              70.56        76.98    51.19   \n",
       "14  2001-03       62.13              70.56        77.70    51.19   \n",
       "15  2001-04       60.14              68.11        78.13    51.02   \n",
       "16  2001-05       60.14              68.11        78.39    51.02   \n",
       "\n",
       "    Energyconsumption  Sunhoursdaily         TG        TN         TX  ...  \\\n",
       "12               9267       2.312903   2.606452  0.025806   5.332258  ...   \n",
       "13               8266       3.260714   4.467857  1.153571   7.792857  ...   \n",
       "14               8962       2.041935   4.945161  1.835484   8.032258  ...   \n",
       "15               8156       4.830000   8.283333  4.090000  12.580000  ...   \n",
       "16               8304       8.941935  14.141935  8.522581  19.358065  ...   \n",
       "\n",
       "      TX1year   TN1year  FG_x1year  FG_y1year  Energyconsumption2month  \\\n",
       "12   6.561290  1.729032        4.0   4.219355                   8844.0   \n",
       "13   8.941379  2.537931        4.6   4.748276                   9267.0   \n",
       "14  10.112903  3.361290        1.5   3.980645                   8266.0   \n",
       "15  14.753333  5.186667        1.9   3.553333                   8962.0   \n",
       "16  20.022581  9.274194        3.8   3.496774                   8156.0   \n",
       "\n",
       "    Energyconsumption3month  Energyconsumption6month  Energyconsumption1year  \\\n",
       "12                   8749.0                   8006.0                  8847.0   \n",
       "13                   8892.0                   8119.0                  8235.0   \n",
       "14                   8844.0                   8217.0                  8738.0   \n",
       "15                   9267.0                   8749.0                  7912.0   \n",
       "16                   8266.0                   8892.0                  8221.0   \n",
       "\n",
       "    Year  Month  \n",
       "12  2001      1  \n",
       "13  2001      2  \n",
       "14  2001      3  \n",
       "15  2001      4  \n",
       "16  2001      5  \n",
       "\n",
       "[5 rows x 46 columns]"
      ]
     },
     "execution_count": 10,
     "metadata": {},
     "output_type": "execute_result"
    }
   ],
   "source": [
    "# Split the date column in year and month columns because some ML-models work better that way \n",
    "ml_datasetenergy01[[\"Year\", \"Month\"]] = ml_datasetenergy01[\"Date\"].str.split(\"-\", expand = True)\n",
    "\n",
    "# Make the year and month columns digits\n",
    "ml_datasetenergy01 ['Year'] = ml_datasetenergy01['Year'].str.extract('(\\d+)', expand=False).astype(int)\n",
    "ml_datasetenergy01 ['Month'] = ml_datasetenergy01['Month'].str.extract('(\\d+)', expand=False).astype(int)\n",
    "\n",
    "# Copy\n",
    "ml_datasetenergy02 = ml_datasetenergy01.copy()\n",
    "\n",
    "ml_datasetenergy02.head()"
   ]
  },
  {
   "cell_type": "markdown",
   "id": "647c5873",
   "metadata": {},
   "source": [
    "### Save the dataset as a 'csv file'"
   ]
  },
  {
   "cell_type": "code",
   "execution_count": 11,
   "id": "03abeea5",
   "metadata": {},
   "outputs": [],
   "source": [
    "ml_datasetenergy02.to_csv('datasetenergyprediction')"
   ]
  },
  {
   "cell_type": "markdown",
   "id": "af837dce",
   "metadata": {},
   "source": [
    "## Visualate the relations in the dataset"
   ]
  },
  {
   "cell_type": "markdown",
   "id": "8a2eb3b3",
   "metadata": {},
   "source": [
    "Visualising data is very important. This is because it allows, for instance, patterns or outliers in the dataset to become visible. Which in turn allows certain trends to be visualised (Tableau, s.d.). An important part of the study was to demonstrate the relationship between trends and energy consumption. This is done based on correlation calculations and these are also made visible in a scatterplot. "
   ]
  },
  {
   "cell_type": "markdown",
   "id": "c9595a2e",
   "metadata": {},
   "source": [
    "### Scatterplot with random column"
   ]
  },
  {
   "cell_type": "markdown",
   "id": "9adb3d04",
   "metadata": {},
   "source": [
    "Run the next cell again for another plot with a different column (feature) from the dataset. The scatterplot shows the relationship between a random feature and the target variable. "
   ]
  },
  {
   "cell_type": "markdown",
   "id": "92d6d29e",
   "metadata": {},
   "source": [
    "#### The visualisation"
   ]
  },
  {
   "cell_type": "code",
   "execution_count": 12,
   "id": "ab1a49c8",
   "metadata": {},
   "outputs": [
    {
     "data": {
      "image/png": "[encoded data removed]",
      "text/plain": [
       "<Figure size 432x288 with 1 Axes>"
      ]
     },
     "metadata": {
      "needs_background": "light"
     },
     "output_type": "display_data"
    }
   ],
   "source": [
    "# Make a random column generator\n",
    "rnd_col= rnd.choice(ml_datasetenergy02.columns)\n",
    "\n",
    "# Give the x and y\n",
    "x = ml_datasetenergy02[rnd_col]\n",
    "y = ml_datasetenergy02['Energyconsumption']\n",
    "\n",
    "# Make a regression line from the Pearson correlation coefficient\n",
    "slope, intercept, r, p, stderr = scipy.stats.linregress(x, y)\n",
    "\n",
    "# Relation between the regression line and the value of the correlation coefficient\n",
    "line = f'Regression line: y={intercept:.2f}+{slope:.2f}x, r={r:.2f}'\n",
    "line\n",
    "\n",
    "# Make the plot\n",
    "fig, ax = plt.subplots()\n",
    "\n",
    "ax.plot(x, y, linewidth=0, marker='s', label='Data points')\n",
    "ax.plot(x, intercept + slope * x, label=line)\n",
    "ax.set_xlabel(rnd_col)\n",
    "ax.set_ylabel('Energy consumption')\n",
    "ax.legend(facecolor='white')\n",
    "\n",
    "plt.title(\"Random plot from dataset\")\n",
    "plt.show()"
   ]
  },
  {
   "cell_type": "markdown",
   "id": "92ebc950",
   "metadata": {},
   "source": [
    "## Machine learning"
   ]
  },
  {
   "cell_type": "markdown",
   "id": "83cdd698",
   "metadata": {},
   "source": [
    "Regression models are used for prediction for two reasons. Regression is necessary because the target variable is continuous. It is also not possible to create a neural network because it is a black box and cannot say anything about the characteristics which was a key requirement of the client (Ying, 2021). "
   ]
  },
  {
   "cell_type": "markdown",
   "id": "6841c68b",
   "metadata": {},
   "source": [
    "### Prediction based on the energyconsumption of the year before (no machine learning)"
   ]
  },
  {
   "cell_type": "markdown",
   "id": "5d4c8aa2",
   "metadata": {},
   "source": [
    "The first thing to try is to predict only on the basis of the energy consumption of that year before and on that what it deviates in kwh on average. This in fact means that the ML model has to predict better than this deviation, otherwise it is better to predict purely based on the energy data from that year before. "
   ]
  },
  {
   "cell_type": "markdown",
   "id": "da85e058",
   "metadata": {},
   "source": [
    "#### Calculation "
   ]
  },
  {
   "cell_type": "code",
   "execution_count": 13,
   "id": "2dd10d01",
   "metadata": {},
   "outputs": [
    {
     "data": {
      "text/plain": [
       "198.24603174603178"
      ]
     },
     "execution_count": 13,
     "metadata": {},
     "output_type": "execute_result"
    }
   ],
   "source": [
    "# Make dataframes of the months\n",
    "january_prediction = ml_datasetenergy02[ml_datasetenergy02['Month'] == 1]\n",
    "february_prediction = ml_datasetenergy02[ml_datasetenergy02['Month'] == 2]\n",
    "march_prediction = ml_datasetenergy02[ml_datasetenergy02['Month'] == 3]\n",
    "april_prediction = ml_datasetenergy02[ml_datasetenergy02['Month'] == 4]\n",
    "may_prediction = ml_datasetenergy02[ml_datasetenergy02['Month'] == 5]\n",
    "june_prediction = ml_datasetenergy02[ml_datasetenergy02['Month'] == 6]\n",
    "july_prediction = ml_datasetenergy02[ml_datasetenergy02['Month'] == 7]\n",
    "august_prediction = ml_datasetenergy02[ml_datasetenergy02['Month'] == 8]\n",
    "september_prediction = ml_datasetenergy02[ml_datasetenergy02['Month'] == 9]\n",
    "october_prediction = ml_datasetenergy02[ml_datasetenergy02['Month'] == 10]\n",
    "november_prediction = ml_datasetenergy02[ml_datasetenergy02['Month'] == 11]\n",
    "december_prediction = ml_datasetenergy02[ml_datasetenergy02['Month'] == 12]\n",
    "\n",
    "\n",
    "# Calculate the mean\n",
    "january_prediction01 = np.mean(np.sqrt((january_prediction['Energyconsumption'] - january_prediction['Energyconsumption1year'])**2))\n",
    "february_prediction01 = np.mean(np.sqrt((february_prediction['Energyconsumption'] - february_prediction['Energyconsumption1year'])**2))\n",
    "march_prediction01 = np.mean(np.sqrt((march_prediction['Energyconsumption'] - march_prediction['Energyconsumption1year'])**2))\n",
    "april_prediction01 = np.mean(np.sqrt((april_prediction['Energyconsumption'] - april_prediction['Energyconsumption1year'])**2))\n",
    "may_prediction01 = np.mean(np.sqrt((may_prediction['Energyconsumption'] - may_prediction['Energyconsumption1year'])**2))\n",
    "june_prediction01 = np.mean(np.sqrt((june_prediction['Energyconsumption'] - june_prediction['Energyconsumption1year'])**2))\n",
    "july_prediction01 = np.mean(np.sqrt((july_prediction['Energyconsumption'] - july_prediction['Energyconsumption1year'])**2))\n",
    "august_prediction01 = np.mean(np.sqrt((august_prediction['Energyconsumption'] - august_prediction['Energyconsumption1year'])**2))\n",
    "september_prediction01 = np.mean(np.sqrt((september_prediction['Energyconsumption'] - september_prediction['Energyconsumption1year'])**2))\n",
    "october_prediction01 = np.mean(np.sqrt((october_prediction['Energyconsumption'] - october_prediction['Energyconsumption1year'])**2))\n",
    "november_prediction01 = np.mean(np.sqrt((november_prediction['Energyconsumption'] - november_prediction['Energyconsumption1year'])**2))\n",
    "december_prediction01 = np.mean(np.sqrt((december_prediction['Energyconsumption'] - december_prediction['Energyconsumption1year'])**2))\n",
    "\n",
    "# Make an dataframe of the total mean\n",
    "total_mean = [january_prediction01, february_prediction01, march_prediction01, april_prediction01, may_prediction01, june_prediction01, july_prediction01, august_prediction01, september_prediction01, october_prediction01, november_prediction01, december_prediction01]\n",
    "\n",
    "# Make a mean of all the predictions\n",
    "prediction_based_on_last_year = sum(total_mean)/12\n",
    "\n",
    "prediction_based_on_last_year"
   ]
  },
  {
   "cell_type": "markdown",
   "id": "31336f35",
   "metadata": {},
   "source": [
    "#### Conclusion prediction based on last year"
   ]
  },
  {
   "cell_type": "markdown",
   "id": "cc08aab9",
   "metadata": {},
   "source": [
    "The mean squared error of the model should be less than 198.25. This means that the model is better than a simple prediction based on the previous year. The best month to predict based on the previous year is September. The worst month is January. "
   ]
  },
  {
   "cell_type": "markdown",
   "id": "31709db1",
   "metadata": {},
   "source": [
    "### Feature selection for the  regression model"
   ]
  },
  {
   "cell_type": "markdown",
   "id": "b529f825",
   "metadata": {},
   "source": [
    "A paper on effective features to predict energy consumption says that a key input for machine learning models to predict energy consumption is feature selection. This improves prediction performance and it helps researchers better understand the underlying process (Zhao, 2019)."
   ]
  },
  {
   "cell_type": "markdown",
   "id": "806576f0",
   "metadata": {},
   "source": [
    "#### Correlation feature selection"
   ]
  },
  {
   "cell_type": "markdown",
   "id": "9a26a463",
   "metadata": {},
   "source": [
    "The machine learning models choice is regression (Ying, 2021). In most regression models, the correlation between the target variable and the characteristics is important. The stronger the correlation, the stronger the model. Therefore, a correlation characteristic is selected first. A higher score means a stronger correlation with the target variable (Brownlee, 2020). "
   ]
  },
  {
   "cell_type": "code",
   "execution_count": 14,
   "id": "d0576401",
   "metadata": {
    "scrolled": false
   },
   "outputs": [
    {
     "name": "stdout",
     "output_type": "stream",
     "text": [
      "Feature 0: 19.395095\n",
      "Feature 1: 124.939985\n",
      "Feature 2: 107.228075\n",
      "Feature 3: 127.563694\n",
      "Feature 4: 79.536614\n",
      "Feature 5: 2.293997\n",
      "Feature 6: 35.522787\n",
      "Feature 7: 13.339460\n",
      "Feature 8: 32.806360\n",
      "Feature 9: 1.093218\n",
      "Feature 10: 1.093218\n",
      "Feature 11: 25.823847\n",
      "Feature 12: 0.390140\n",
      "Feature 13: 0.195177\n",
      "Feature 14: 10.563973\n",
      "Feature 15: 0.557879\n",
      "Feature 16: 14.649105\n",
      "Feature 17: 11.488363\n",
      "Feature 18: 22.584469\n",
      "Feature 19: 1.918701\n",
      "Feature 20: 11.343410\n",
      "Feature 21: 15.018424\n",
      "Feature 22: 98.775683\n",
      "Feature 23: 127.543926\n",
      "Feature 24: 126.755391\n",
      "Feature 25: 111.220456\n",
      "Feature 26: 0.940306\n",
      "Feature 27: 26.642842\n",
      "Feature 28: 94.385353\n",
      "Feature 29: 1.794539\n",
      "Feature 30: 39.095117\n",
      "Feature 31: 954.061777\n"
     ]
    },
    {
     "data": {
      "image/png": "[encoded data removed]",
      "text/plain": [
       "<Figure size 432x288 with 1 Axes>"
      ]
     },
     "metadata": {
      "needs_background": "light"
     },
     "output_type": "display_data"
    }
   ],
   "source": [
    "# Import new packages \n",
    "from sklearn.linear_model import LinearRegression\n",
    "from sklearn.datasets import make_regression\n",
    "from sklearn.model_selection import train_test_split\n",
    "from sklearn.feature_selection import SelectKBest\n",
    "from sklearn.feature_selection import f_regression\n",
    "\n",
    "# Make a x and y from the dataset\n",
    "x = ml_datasetenergy02[['CPI_energy1year', 'Sunhoursdaily1year', 'TG1year', 'TX1year', 'TN1year','FG_x1year','FG_y1year', 'CPI_energy2month', 'Sunhoursdaily2month', 'TG2month', 'TX2month', 'TN2month', 'FG_x2month', 'FG_y2month', 'CPI_energy3month', 'Sunhoursdaily3month', 'TG3month', 'TX3month', 'TN3month', 'FG_x3month', 'FG_y3month', 'CPI_energy6month', 'Sunhoursdaily6month', 'TG6month', 'TX6month', 'TN6month', 'FG_x6month', 'FG_y6month','Energyconsumption2month', 'Energyconsumption3month', 'Energyconsumption6month','Energyconsumption1year']]\n",
    "y = ml_datasetenergy02['Energyconsumption']\n",
    "\n",
    "# Split the dataset in training- and test data\n",
    "x_train, x_test, y_train, y_test = train_test_split(x, y, test_size=0.33, random_state=1)\n",
    "\n",
    "# Make the regressionmodel \n",
    "regressionmodel = LinearRegression()\n",
    "regressionmodel.fit(x_train, y_train)\n",
    "\n",
    "# Define the feature selection \n",
    "def select_features(x_train, y_train, x_test):\n",
    "    future_selection = SelectKBest(score_func=f_regression, k='all') # Get all the features\n",
    "    future_selection.fit(x_train, y_train) # Important: see the relationship in the training data\n",
    "    x_train_future_selection = future_selection.transform(x_train)\n",
    "    x_test_future_selection = future_selection.transform(x_test)\n",
    "    return x_train_future_selection, x_test_future_selection, future_selection\n",
    "\n",
    "# Get the feature selection\n",
    "x_train_future_selection, x_test_future_selection, future_selection = select_features(x_train, y_train, x_test)\n",
    "\n",
    "# Get the scores of the features\n",
    "for i in range(len(future_selection.scores_)):\n",
    "    print('Feature %d: %f' % (i, future_selection.scores_[i]))\n",
    "\n",
    "# Show the scores in a plot\n",
    "plt.bar([i for i in range(len(future_selection.scores_))], future_selection.scores_)\n",
    "\n",
    "plt.show()"
   ]
  },
  {
   "cell_type": "markdown",
   "id": "b966a11a",
   "metadata": {},
   "source": [
    "#### How much features in the model? "
   ]
  },
  {
   "cell_type": "markdown",
   "id": "fdd21f0f",
   "metadata": {},
   "source": [
    "Now that it is clear which features have a higher correlation with the target variable, it is important to calculate how many features are included in the model. This is called a grid search (Brownlee, 2020)."
   ]
  },
  {
   "cell_type": "code",
   "execution_count": 15,
   "id": "6874e70b",
   "metadata": {},
   "outputs": [
    {
     "name": "stdout",
     "output_type": "stream",
     "text": [
      "Best MAE: -52171.486\n",
      "Best Config: {'sel__k': 17}\n",
      ">-53860.149 with: {'sel__k': 12}\n",
      ">-53902.995 with: {'sel__k': 13}\n",
      ">-53171.090 with: {'sel__k': 14}\n",
      ">-52352.752 with: {'sel__k': 15}\n",
      ">-52468.629 with: {'sel__k': 16}\n",
      ">-52171.486 with: {'sel__k': 17}\n",
      ">-52519.115 with: {'sel__k': 18}\n",
      ">-52483.999 with: {'sel__k': 19}\n",
      ">-52604.920 with: {'sel__k': 20}\n",
      ">-53122.963 with: {'sel__k': 21}\n",
      ">-53246.219 with: {'sel__k': 22}\n",
      ">-53638.158 with: {'sel__k': 23}\n",
      ">-53778.529 with: {'sel__k': 24}\n",
      ">-53755.168 with: {'sel__k': 25}\n",
      ">-54718.713 with: {'sel__k': 26}\n",
      ">-54958.750 with: {'sel__k': 27}\n",
      ">-55368.857 with: {'sel__k': 28}\n",
      ">-56457.127 with: {'sel__k': 29}\n",
      ">-56343.360 with: {'sel__k': 30}\n",
      ">-56509.861 with: {'sel__k': 31}\n",
      ">-56921.625 with: {'sel__k': 32}\n"
     ]
    }
   ],
   "source": [
    "# Import new packages\n",
    "from sklearn.model_selection import RepeatedKFold\n",
    "from sklearn.feature_selection import mutual_info_regression\n",
    "from sklearn.linear_model import LinearRegression\n",
    "from sklearn.pipeline import Pipeline\n",
    "from sklearn.model_selection import GridSearchCV\n",
    "\n",
    "# Define the evaluation method. Chose for cross validation. \n",
    "cv = RepeatedKFold(n_splits=10, n_repeats=3, random_state=1)\n",
    "\n",
    "# Define the pipeline to evaluate. Prepares the feature selection transform on the training set and applies it to the train set and test set for each fold of the cross-validation.\n",
    "model_feature_selection = LinearRegression()\n",
    "method_feature_selection = SelectKBest(score_func=mutual_info_regression)\n",
    "pipeline = Pipeline(steps=[('sel',method_feature_selection), ('lr', model_feature_selection)])\n",
    "\n",
    "# Make the grid\n",
    "grid = dict()\n",
    "grid['sel__k'] = [i for i in range(x.shape[1]-20, x.shape[1]+1)]\n",
    "\n",
    "# Make the grid search\n",
    "search_feature_selection = GridSearchCV(pipeline, grid, scoring='neg_mean_squared_error', n_jobs=-1, cv=cv) # Score needs to be maximized\n",
    "\n",
    "# Make the search\n",
    "results_feature_selection = search_feature_selection.fit(x, y)\n",
    "\n",
    "# Make a selection of the best\n",
    "print('Best MAE: %.3f' % results_feature_selection .best_score_)\n",
    "print('Best Config: %s' % results_feature_selection .best_params_)\n",
    "\n",
    "# Make a selection of all\n",
    "means_feature_selection = results_feature_selection.cv_results_['mean_test_score']\n",
    "params_feature_selection = results_feature_selection.cv_results_['params']\n",
    "\n",
    "# Show the selection\n",
    "for mean_feature_selection, params_feature_selection in zip(means_feature_selection, params_feature_selection):\n",
    "    print(\">%.3f with: %r\" % (mean_feature_selection, params_feature_selection))"
   ]
  },
  {
   "cell_type": "markdown",
   "id": "784ff702",
   "metadata": {},
   "source": [
    "#### Conclusion from feature selection"
   ]
  },
  {
   "cell_type": "markdown",
   "id": "f3080e19",
   "metadata": {},
   "source": [
    "The first key finding is that there is a very high correlation between the target variable and the previous year's feature energy consumption. Much higher than the rest of the features. But the second conclusion is that the ideal number of features is 17, so the best 17 features are included in the machine learning model. "
   ]
  },
  {
   "cell_type": "markdown",
   "id": "cd1e61a5",
   "metadata": {},
   "source": [
    "### Linear regression"
   ]
  },
  {
   "cell_type": "markdown",
   "id": "985b526c",
   "metadata": {},
   "source": [
    "Linear regression is a widely used technique to predict a target variable. The first main purpose of linear regression is to examine which features have strong relationships with the target variable (StatisticsSolutions, z.d.). This was shown in the previous chapter. The purpose of this chapter is to calculate whether these features can predict the target variable well based on linear regression. "
   ]
  },
  {
   "cell_type": "markdown",
   "id": "b10f3aa6",
   "metadata": {},
   "source": [
    "#### Predict with the 17 best features"
   ]
  },
  {
   "cell_type": "code",
   "execution_count": 16,
   "id": "60766018",
   "metadata": {},
   "outputs": [
    {
     "name": "stdout",
     "output_type": "stream",
     "text": [
      "218.88496001453498\n",
      "0.8815173224466845\n"
     ]
    }
   ],
   "source": [
    "# Import packages\n",
    "from sklearn.metrics import mean_squared_error\n",
    "from sklearn.metrics import r2_score\n",
    "\n",
    "# Create a x and y for the prediction. x is with the best 17 features. \n",
    "x = ml_datasetenergy02[['Energyconsumption1year', 'TX1year', 'TG6month', 'TX6month', 'Sunhoursdaily1year', 'TN6month', 'TG1year', 'Sunhoursdaily6month', 'Energyconsumption2month', 'TN1year', 'Energyconsumption6month', 'FG_y1year', 'Sunhoursdaily2month', 'FG_y6month', 'TN2month', 'TN3month', 'CPI_energy1year']]\n",
    "y = ml_datasetenergy02['Energyconsumption']  # target variable\n",
    "\n",
    "# Make a train- and test set\n",
    "x_train, x_test, y_train, y_test = train_test_split(x, y, test_size=0.34, random_state=1) # Best perfomance size is 0.34\n",
    "\n",
    "# Create the model\n",
    "regressionmodel = LinearRegression()\n",
    "regressionmodel.fit(x_train, y_train)\n",
    "predictions = regressionmodel.predict(x_test)\n",
    "predictions[:1]\n",
    "\n",
    "# Evualate the model\n",
    "print(mean_squared_error(y_test,predictions)**(1/2))\n",
    "print(r2_score(y_test,predictions))"
   ]
  },
  {
   "cell_type": "markdown",
   "id": "237858c5",
   "metadata": {},
   "source": [
    "#### Predict with all the features"
   ]
  },
  {
   "cell_type": "code",
   "execution_count": 17,
   "id": "c84b82e7",
   "metadata": {},
   "outputs": [
    {
     "name": "stdout",
     "output_type": "stream",
     "text": [
      "247.01044359636904\n",
      "0.8491123660489156\n"
     ]
    }
   ],
   "source": [
    "# Create a x and y for the prediction. x is with all the features\n",
    "x = ml_datasetenergy02[['CPI_energy1year', 'Sunhoursdaily1year', 'TG1year', 'TX1year', 'TN1year','FG_x1year','FG_y1year', 'CPI_energy2month', 'Sunhoursdaily2month', 'TG2month', 'TX2month', 'TN2month', 'FG_x2month', 'FG_y2month', 'CPI_energy3month', 'Sunhoursdaily3month', 'TG3month', 'TX3month', 'TN3month', 'FG_x3month', 'FG_y3month', 'CPI_energy6month', 'Sunhoursdaily6month', 'TG6month', 'TX6month', 'TN6month', 'FG_x6month', 'FG_y6month','Energyconsumption2month', 'Energyconsumption3month', 'Energyconsumption6month','Energyconsumption1year']]\n",
    "y = ml_datasetenergy02['Energyconsumption']  # target\n",
    "\n",
    "# Make a train- and test set\n",
    "x_train, x_test, y_train, y_test = train_test_split(x, y, test_size=0.34, random_state=1) # Best perfomance size is 0.34\n",
    "\n",
    "\n",
    "# Create the model\n",
    "regressionmodel = LinearRegression()\n",
    "regressionmodel.fit(x_train, y_train)\n",
    "predictions = regressionmodel.predict(x_test)\n",
    "predictions[:1]\n",
    "\n",
    "# Evualate the model\n",
    "print(mean_squared_error(y_test,predictions)**(1/2))\n",
    "print(r2_score(y_test,predictions))"
   ]
  },
  {
   "cell_type": "markdown",
   "id": "c75758a9",
   "metadata": {},
   "source": [
    "#### Conclusion linear regression"
   ]
  },
  {
   "cell_type": "markdown",
   "id": "5081bb0d",
   "metadata": {},
   "source": [
    "Even with the ideal features and number of features, the model does not perform as well as a simple calculation based on last year's energy consumption. This is because the mean squared error is about 219 and should then be lower than 198. The model does perform better than when all features are included. This means that the feature selection did make sense."
   ]
  },
  {
   "cell_type": "markdown",
   "id": "7802842d",
   "metadata": {},
   "source": [
    "### Ridge regression"
   ]
  },
  {
   "cell_type": "markdown",
   "id": "9791b3e9",
   "metadata": {},
   "source": [
    "I am gonna do this later"
   ]
  },
  {
   "cell_type": "markdown",
   "id": "eab94a43",
   "metadata": {},
   "source": [
    "#### Conclusion ridge regression"
   ]
  },
  {
   "cell_type": "code",
   "execution_count": null,
   "id": "785804fc",
   "metadata": {},
   "outputs": [],
   "source": []
  },
  {
   "cell_type": "markdown",
   "id": "52b9508d",
   "metadata": {},
   "source": [
    "### Decision tree regression \n"
   ]
  },
  {
   "cell_type": "markdown",
   "id": "1068b830",
   "metadata": {},
   "source": [
    "Decision trees are often used as machine learning algorithms. A decision tree makes several decisions to arrive at a particular prediction. The beginning of the decision tree is the dataset. After this, the internal nodes are created (Seldon, 2021). "
   ]
  },
  {
   "cell_type": "markdown",
   "id": "22c8638a",
   "metadata": {},
   "source": [
    "#### New feature selection"
   ]
  },
  {
   "cell_type": "markdown",
   "id": "21063533",
   "metadata": {},
   "source": [
    "Decision trees perform better based on features that have matching information. This can be calculated for features (Brownlee, 2020). Therefore, before applying the decision tree, a new feature selection will be done first. "
   ]
  },
  {
   "cell_type": "code",
   "execution_count": 18,
   "id": "1f4ebe44",
   "metadata": {},
   "outputs": [
    {
     "name": "stdout",
     "output_type": "stream",
     "text": [
      "Feature 0: 0.107279\n",
      "Feature 1: 0.382477\n",
      "Feature 2: 0.324459\n",
      "Feature 3: 0.406119\n",
      "Feature 4: 0.197125\n",
      "Feature 5: 0.033054\n",
      "Feature 6: 0.299478\n",
      "Feature 7: 0.032405\n",
      "Feature 8: 0.066546\n",
      "Feature 9: 0.164489\n",
      "Feature 10: 0.164772\n",
      "Feature 11: 0.161568\n",
      "Feature 12: 0.000000\n",
      "Feature 13: 0.094018\n",
      "Feature 14: 0.060631\n",
      "Feature 15: 0.104242\n",
      "Feature 16: 0.197403\n",
      "Feature 17: 0.131147\n",
      "Feature 18: 0.237163\n",
      "Feature 19: 0.000000\n",
      "Feature 20: 0.000000\n",
      "Feature 21: 0.172188\n",
      "Feature 22: 0.263616\n",
      "Feature 23: 0.484005\n",
      "Feature 24: 0.451483\n",
      "Feature 25: 0.440644\n",
      "Feature 26: 0.112457\n",
      "Feature 27: 0.074403\n",
      "Feature 28: 0.545645\n",
      "Feature 29: 0.118687\n",
      "Feature 30: 0.438045\n",
      "Feature 31: 0.945881\n"
     ]
    },
    {
     "data": {
      "image/png": "[encoded data removed]",
      "text/plain": [
       "<Figure size 432x288 with 1 Axes>"
      ]
     },
     "metadata": {
      "needs_background": "light"
     },
     "output_type": "display_data"
    }
   ],
   "source": [
    "# Make a x and y from the dataset\n",
    "x = ml_datasetenergy02[['CPI_energy1year', 'Sunhoursdaily1year', 'TG1year', 'TX1year', 'TN1year','FG_x1year','FG_y1year', 'CPI_energy2month', 'Sunhoursdaily2month', 'TG2month', 'TX2month', 'TN2month', 'FG_x2month', 'FG_y2month', 'CPI_energy3month', 'Sunhoursdaily3month', 'TG3month', 'TX3month', 'TN3month', 'FG_x3month', 'FG_y3month', 'CPI_energy6month', 'Sunhoursdaily6month', 'TG6month', 'TX6month', 'TN6month', 'FG_x6month', 'FG_y6month','Energyconsumption2month', 'Energyconsumption3month', 'Energyconsumption6month','Energyconsumption1year']]\n",
    "y = ml_datasetenergy02['Energyconsumption']\n",
    "\n",
    "# Split the dataset in training- and test data\n",
    "x_train, x_test, y_train, y_test = train_test_split(x, y, test_size=0.33, random_state=1)\n",
    "\n",
    "# Make the regressionmodel \n",
    "regressionmodel = LinearRegression()\n",
    "regressionmodel.fit(x_train, y_train)\n",
    "\n",
    "# Define the feature selection \n",
    "def select_features(x_train, y_train, x_test):\n",
    "    future_selection01 = SelectKBest(score_func=mutual_info_regression, k='all') # Get all the features\n",
    "    future_selection01.fit(x_train, y_train) # Important: see the relationship in the training data\n",
    "    x_train_future_selection01 = future_selection01.transform(x_train)\n",
    "    x_test_future_selection01 = future_selection01.transform(x_test)\n",
    "    return x_train_future_selection01, x_test_future_selection01, future_selection01\n",
    "\n",
    "# Get the feature selection\n",
    "x_train_future_selection01, x_test_future_selection01, future_selection01 = select_features(x_train, y_train, x_test)\n",
    "\n",
    "# Get the scores of the features\n",
    "for i in range(len(future_selection01.scores_)):\n",
    "    print('Feature %d: %f' % (i, future_selection01.scores_[i]))\n",
    "\n",
    "# Show the scores in a plot\n",
    "plt.bar([i for i in range(len(future_selection01.scores_))], future_selection01.scores_)\n",
    "plt.show()\n"
   ]
  },
  {
   "cell_type": "markdown",
   "id": "8c67aca0",
   "metadata": {},
   "source": [
    "Interestingly, the features based on correlation are almost the same as features based on mutual information. However, four are different. These are features 9, 10, 16 and 21, which are included in the decission tree but were not included in linear regression. "
   ]
  },
  {
   "cell_type": "markdown",
   "id": "ee41c0bb",
   "metadata": {},
   "source": [
    "#### Prediction with the 17 best features"
   ]
  },
  {
   "cell_type": "code",
   "execution_count": 19,
   "id": "a9b3712d",
   "metadata": {},
   "outputs": [
    {
     "name": "stdout",
     "output_type": "stream",
     "text": [
      "237.00199117354418\n",
      "0.842081681499296\n"
     ]
    }
   ],
   "source": [
    "# Import packages \n",
    "from sklearn.preprocessing import StandardScaler\n",
    "from sklearn.tree import DecisionTreeRegressor\n",
    "\n",
    "# Create a x and y for the prediction. x is with the best 17 features\n",
    "x = ml_datasetenergy02[['Energyconsumption1year', 'TX1year', 'TG6month', 'TX6month', 'Sunhoursdaily1year', 'TN6month', 'TG1year', 'Sunhoursdaily6month', 'Energyconsumption2month', 'TN1year', 'Energyconsumption6month', 'FG_y1year', 'TG3month', 'CPI_energy6month', 'TX2month', 'TN3month', 'TG2month']]\n",
    "y = ml_datasetenergy02['Energyconsumption']  # target variable\n",
    "\n",
    "# Make a train- and test set\n",
    "x_train, x_test, y_train, y_test  = train_test_split(x, y, test_size=0.35, random_state = 0)\n",
    "\n",
    "# Create the model\n",
    "x_standard_scaler = StandardScaler()\n",
    "x_train = x_standard_scaler.fit_transform(x_train)\n",
    "\n",
    "regrassor = DecisionTreeRegressor(random_state = 0)\n",
    "regrassor.fit(x_train, y_train)\n",
    "\n",
    "prediction_decisiontree = regrassor.predict(x_standard_scaler.transform(x_test))\n",
    "\n",
    "# Evualate the model\n",
    "print(mean_squared_error(y_test, prediction_decisiontree)**(1/2))\n",
    "print(r2_score(y_test, prediction_decisiontree))"
   ]
  },
  {
   "cell_type": "markdown",
   "id": "1ad8e454",
   "metadata": {},
   "source": [
    "#### Predict with all the features"
   ]
  },
  {
   "cell_type": "code",
   "execution_count": 20,
   "id": "a893a492",
   "metadata": {},
   "outputs": [
    {
     "name": "stdout",
     "output_type": "stream",
     "text": [
      "256.26199347996493\n",
      "0.8168064277558647\n"
     ]
    }
   ],
   "source": [
    "# Create a x and y for the prediction. x is with all the features\n",
    "x = ml_datasetenergy02[['CPI_energy1year', 'Sunhoursdaily1year', 'TG1year', 'TX1year', 'TN1year','FG_x1year','FG_y1year', 'CPI_energy2month', 'Sunhoursdaily2month', 'TG2month', 'TX2month', 'TN2month', 'FG_x2month', 'FG_y2month', 'CPI_energy3month', 'Sunhoursdaily3month', 'TG3month', 'TX3month', 'TN3month', 'FG_x3month', 'FG_y3month', 'CPI_energy6month', 'Sunhoursdaily6month', 'TG6month', 'TX6month', 'TN6month', 'FG_x6month', 'FG_y6month','Energyconsumption2month', 'Energyconsumption3month', 'Energyconsumption6month','Energyconsumption1year']]\n",
    "y = ml_datasetenergy02['Energyconsumption']\n",
    "\n",
    "# Make a train- and test set\n",
    "x_train, x_test, y_train, y_test  = train_test_split(x, y, test_size=0.34, random_state = 0)\n",
    "\n",
    "# Create the model\n",
    "x_standard_scaler01 = StandardScaler()\n",
    "x_train = x_standard_scaler01.fit_transform(x_train)\n",
    "\n",
    "regrassor = DecisionTreeRegressor(random_state = 0)\n",
    "regrassor.fit(x_train, y_train)\n",
    "\n",
    "prediction_decisiontree01 = regrassor.predict(x_standard_scaler01.transform(x_test))\n",
    "\n",
    "# Evualate the model\n",
    "print(mean_squared_error(y_test, prediction_decisiontree01)**(1/2))\n",
    "print(r2_score(y_test, prediction_decisiontree01))"
   ]
  },
  {
   "cell_type": "markdown",
   "id": "83fb8f88",
   "metadata": {},
   "source": [
    "#### Conclusion decision tree regression"
   ]
  },
  {
   "cell_type": "markdown",
   "id": "14144575",
   "metadata": {},
   "source": [
    "Even with the ideal features and number of features, the model does not perform as well as a simple calculation based on last year's energy consumption. This is because the mean squared error is about 237 and should then be lower than 198. The model does perform better than when all features are included. This means that the feature selection did make sense. The model also performed no better than the linear regression model.  "
   ]
  },
  {
   "cell_type": "markdown",
   "id": "bbedbe72",
   "metadata": {},
   "source": [
    "### Random forest regression"
   ]
  },
  {
   "cell_type": "markdown",
   "id": "909e69af",
   "metadata": {},
   "source": [
    "In a random forest, multiple decision trees are combined into a random forest. A random forest can potentially offer an advantage in prediction because not all variables are correlated to each other (IBM, z.d.). "
   ]
  },
  {
   "cell_type": "markdown",
   "id": "349ac5f0",
   "metadata": {},
   "source": [
    "#### Make a random forest from the 17 features"
   ]
  },
  {
   "cell_type": "code",
   "execution_count": 56,
   "id": "8af96ab3",
   "metadata": {},
   "outputs": [
    {
     "name": "stdout",
     "output_type": "stream",
     "text": [
      "239.520813735866\n",
      "0.8399600718065101\n"
     ]
    }
   ],
   "source": [
    "# Import packages\n",
    "from sklearn.ensemble import RandomForestClassifier\n",
    "from sklearn.ensemble import RandomForestRegressor\n",
    "from sklearn.datasets import make_classification\n",
    "\n",
    "# Create a x and y for the prediction. x is with the best 17 features\n",
    "x = ml_datasetenergy02[['Energyconsumption1year', 'TX1year', 'TG6month', 'TX6month', 'Sunhoursdaily1year', 'TN6month', 'TG1year', 'Sunhoursdaily6month', 'Energyconsumption2month', 'TN1year', 'Energyconsumption6month', 'FG_y1year', 'TG3month', 'CPI_energy6month', 'TX2month', 'TN3month', 'TG2month']]\n",
    "y = ml_datasetenergy02['Energyconsumption']  # target variable\n",
    "\n",
    "# Make a train- and test set\n",
    "x_train, x_test, y_train, y_test  = train_test_split(x, y, test_size=0.34, random_state = 0)\n",
    "\n",
    "# Create the model\n",
    "random_forest = RandomForestRegressor(n_estimators = 300, max_features = 'sqrt', max_depth = 5, random_state = 18).fit(x_train, y_train)\n",
    "\n",
    "prediction_random_forest = random_forest.predict(x_test)\n",
    "\n",
    "# Evualate the model\n",
    "print(mean_squared_error(y_test, prediction)**(1/2))\n",
    "print(r2_score(y_test, prediction_random_forest))"
   ]
  },
  {
   "cell_type": "code",
   "execution_count": 58,
   "id": "c64a54fd",
   "metadata": {},
   "outputs": [
    {
     "name": "stdout",
     "output_type": "stream",
     "text": [
      "239.520813735866\n",
      "0.8297111313314719\n"
     ]
    }
   ],
   "source": [
    "# Import packages\n",
    "from sklearn.ensemble import RandomForestClassifier\n",
    "from sklearn.ensemble import RandomForestRegressor\n",
    "from sklearn.datasets import make_classification\n",
    "\n",
    "# Create a x and y for the prediction. x is with all the features\n",
    "x = ml_datasetenergy02[['CPI_energy1year', 'Sunhoursdaily1year', 'TG1year', 'TX1year', 'TN1year','FG_x1year','FG_y1year', 'CPI_energy2month', 'Sunhoursdaily2month', 'TG2month', 'TX2month', 'TN2month', 'FG_x2month', 'FG_y2month', 'CPI_energy3month', 'Sunhoursdaily3month', 'TG3month', 'TX3month', 'TN3month', 'FG_x3month', 'FG_y3month', 'CPI_energy6month', 'Sunhoursdaily6month', 'TG6month', 'TX6month', 'TN6month', 'FG_x6month', 'FG_y6month','Energyconsumption2month', 'Energyconsumption3month', 'Energyconsumption6month','Energyconsumption1year']]\n",
    "y = ml_datasetenergy02['Energyconsumption']\n",
    "\n",
    "# Make a train- and test set\n",
    "x_train, x_test, y_train, y_test  = train_test_split(x, y, test_size=0.34, random_state = 0)\n",
    "\n",
    "# Create the model\n",
    "random_forest = RandomForestRegressor(n_estimators = 300, max_features = 'sqrt', max_depth = 5, random_state = 18).fit(x_train, y_train)\n",
    "\n",
    "prediction_random_forest = random_forest.predict(x_test)\n",
    "\n",
    "# Evualate the model\n",
    "print(mean_squared_error(y_test, prediction)**(1/2))\n",
    "print(r2_score(y_test, prediction_random_forest))"
   ]
  },
  {
   "cell_type": "markdown",
   "id": "34ecda36",
   "metadata": {},
   "source": [
    "#### Conclusion random forest regression"
   ]
  },
  {
   "cell_type": "markdown",
   "id": "dea7a0a8",
   "metadata": {},
   "source": [
    "It is very strange that the random forest performs equally well with both. Therefore, grid research may have to take place to optimise the hyper parameters. However, it does not yet come close to linear regression. So that will not happen at this time. Several ways have been tried to change the hyper parameters. However, this did not result in a higher mean squared error. "
   ]
  },
  {
   "cell_type": "markdown",
   "id": "11a47581",
   "metadata": {},
   "source": [
    "## Optimalise one model"
   ]
  },
  {
   "cell_type": "markdown",
   "id": "bad332e9",
   "metadata": {},
   "source": [
    "The model with the best mean squared error. "
   ]
  },
  {
   "cell_type": "markdown",
   "id": "9f534258",
   "metadata": {},
   "source": [
    "## Conclusion"
   ]
  },
  {
   "cell_type": "markdown",
   "id": "e26798aa",
   "metadata": {},
   "source": [
    "Some conclusions:\n",
    "We have no technical data at our disposal which could be useful. In another study, this proved to be fine data to apply (Ying, 2021). \n",
    "\n",
    "Some questions:\n",
    "Which model does work the best? \n",
    "\n",
    "Do models with fewer features work better? \n",
    "\n",
    "Two options or store heat or predict. Is forecasting possible then? \n",
    "\n",
    "Whats the relation with the ethical problem? \n",
    "Link to my Github"
   ]
  },
  {
   "cell_type": "markdown",
   "id": "07a90908",
   "metadata": {},
   "source": [
    "## Legend"
   ]
  },
  {
   "cell_type": "markdown",
   "id": "37cdefb7",
   "metadata": {},
   "source": [
    "Word:      | Description:\n",
    "-----------|------------\n",
    "CPI:       |Consumer price index\n",
    "TG:        |Mean temperature\n",
    "TN:        |Maximum temperature\n",
    "TX:        |Minimum temperature\n",
    "TG_y:      |Wind strenght mean\n",
    "TG_x:      |Wind strenght mode"
   ]
  },
  {
   "cell_type": "markdown",
   "id": "1c9d33f1",
   "metadata": {},
   "source": [
    "## Sources:"
   ]
  },
  {
   "cell_type": "markdown",
   "id": "3cc5a365",
   "metadata": {},
   "source": [
    "Links to the articles and websites. Make this an apa list in word. "
   ]
  }
 ],
 "metadata": {
  "kernelspec": {
   "display_name": "Python 3 (ipykernel)",
   "language": "python",
   "name": "python3"
  },
  "language_info": {
   "codemirror_mode": {
    "name": "ipython",
    "version": 3
   },
   "file_extension": ".py",
   "mimetype": "text/x-python",
   "name": "python",
   "nbconvert_exporter": "python",
   "pygments_lexer": "ipython3",
   "version": "3.9.12"
  }
 },
 "nbformat": 4,
 "nbformat_minor": 5
}
